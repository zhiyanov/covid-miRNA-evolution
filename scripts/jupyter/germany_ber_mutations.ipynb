{
 "cells": [
  {
   "cell_type": "code",
   "execution_count": 1,
   "id": "4176d6e2",
   "metadata": {},
   "outputs": [
    {
     "name": "stderr",
     "output_type": "stream",
     "text": [
      "<frozen importlib._bootstrap>:219: RuntimeWarning: scipy._lib.messagestream.MessageStream size changed, may indicate binary incompatibility. Expected 56 from C header, got 64 from PyObject\n"
     ]
    }
   ],
   "source": [
    "import numpy as np\n",
    "import pandas as pd\n",
    "import matplotlib.pyplot as plt\n",
    "import seaborn as sns\n",
    "import tqdm\n",
    "\n",
    "from scipy.stats import linregress\n",
    "from scipy.stats import mannwhitneyu\n",
    "from scipy.stats import ks_2samp\n",
    "from scipy.stats import rankdata\n",
    "\n",
    "import matplotlib as mpl\n",
    "from matplotlib.colors import ListedColormap, LinearSegmentedColormap"
   ]
  },
  {
   "cell_type": "code",
   "execution_count": 2,
   "id": "2f90d293",
   "metadata": {},
   "outputs": [],
   "source": [
    "PROTEINS = [\n",
    "    \"5P\",\n",
    "    \"NSP1\",\n",
    "    \"NSP2\",\n",
    "    \"NSP3\",\n",
    "    \"NSP4\",\n",
    "    \"NSP5\",\n",
    "    \"NSP6\",\n",
    "    \"NSP7\",\n",
    "    \"NSP8\",\n",
    "    \"NSP9\",\n",
    "    \"NSP10\",\n",
    "    \"NSP11\",\n",
    "    \"NSP12\",\n",
    "    \"NSP13\",\n",
    "    \"NSP14\",\n",
    "    \"NSP15\",\n",
    "    \"NSP16\",\n",
    "    \"Spike\",\n",
    "    \"NS3\",\n",
    "    \"E\",\n",
    "    \"M\",\n",
    "    \"NS6\",\n",
    "    \"NS7a\",\n",
    "    \"NS7b\",\n",
    "    \"NS8\",\n",
    "    \"N\",\n",
    "    \"NS9b\",\n",
    "    \"NS9c\",\n",
    "    \"3P\",\n",
    "    \"RNA\"\n",
    "]\n",
    "\n",
    "ANNOTATION = {\n",
    "    \"5P\": \"1-265\",\n",
    "    \"NSP1\": \"266-805\",\n",
    "    \"NSP2\": \"806-2719\",\n",
    "    \"NSP3\": \"2720-8554\",\n",
    "    \"NSP4\": \"8555-10054\",\n",
    "    \"NSP5\": \"10055-10972\",\n",
    "    \"NSP6\": \"10973-11842\",\n",
    "    \"NSP7\": \"11843-12091\",\n",
    "    \"NSP8\": \"12092-12685\",\n",
    "    \"NSP9\": \"12686-13024\",\n",
    "    \"NSP10\": \"13025-13441\",\n",
    "    \"NSP11\": \"13442-13480\",\n",
    "    # \"NSP12\": \"13442-13468\",\n",
    "    \"NSP12\": \"13468-16236\",\n",
    "    \"NSP13\": \"16237-18039\",\n",
    "    \"NSP14\": \"18040-19620\",\n",
    "    \"NSP15\": \"19621-20658\",\n",
    "    \"NSP16\": \"20659-21552\",\n",
    "    \"Spike\": \"21563-25384\",\n",
    "    \"NS3\": \"25393-26220\",\n",
    "    \"E\": \"26245-26472\",\n",
    "    \"M\": \"26523-27191\",\n",
    "    \"NS6\": \"27202-27387\",\n",
    "    \"NS7a\": \"27394-27759\",\n",
    "    \"NS7b\": \"27756-27887\",\n",
    "    \"NS8\": \"27894-28259\",\n",
    "    \"N\": \"28274-29533\",\n",
    "    \"NS9b\": \"28284-28577\",\n",
    "    \"NS9c\": \"28734-28955\",\n",
    "    \"3P\": \"29534-30331\"\n",
    "}"
   ]
  },
  {
   "cell_type": "code",
   "execution_count": 3,
   "id": "b1ef882c",
   "metadata": {},
   "outputs": [],
   "source": [
    "def read_fasta(path):\n",
    "    result = \"\"\n",
    "    description = \"\"\n",
    "\n",
    "    ff = open(path, \"r\")\n",
    "\n",
    "    line = next(ff, None)\n",
    "    while line:\n",
    "        line = line.rstrip(\"\\n\")\n",
    "        if not line:\n",
    "            line = next(ff, None)\n",
    "            continue\n",
    "\n",
    "        if line.startswith(\">\"):\n",
    "            if result:\n",
    "                yield description, result\n",
    "            description = line.lstrip(\">\")\n",
    "            result = \"\"\n",
    "        else:\n",
    "            result += line\n",
    "\n",
    "        line = next(ff, None)\n",
    "\n",
    "    yield description, result\n",
    "    ff.close()\n",
    "    \n",
    "def percent(seq, chr=\"N\"):\n",
    "    count = 0\n",
    "    for char in seq:\n",
    "        if char == chr:\n",
    "            count += 1\n",
    "    return count / len(seq)\n",
    "\n",
    "def region_count(reg, start=None, end=None):\n",
    "    reg = reg.lstrip(\"[\").rstrip(\"]\").split(\", \")\n",
    "    if not (start is None) and not (end is None):\n",
    "        reg = [s for s in reg if s and (start <= int(s) <= end)]\n",
    "    else:\n",
    "        reg = [s for s in reg if s]\n",
    "    return len(reg)"
   ]
  },
  {
   "cell_type": "code",
   "execution_count": 4,
   "id": "c269a5df",
   "metadata": {},
   "outputs": [],
   "source": [
    "# meta description"
   ]
  },
  {
   "cell_type": "code",
   "execution_count": 5,
   "id": "55c3be02",
   "metadata": {},
   "outputs": [
    {
     "name": "stderr",
     "output_type": "stream",
     "text": [
      "28420it [02:16, 207.73it/s]                           \n"
     ]
    }
   ],
   "source": [
    "meta_df = pd.read_csv(\n",
    "    \"../../gisaid/germany_ber_meta.csv\",\n",
    "    sep=\",\", index_col=0)\n",
    "\n",
    "rna_df = pd.DataFrame(columns=[\"strain\", \"length\", \"polyA\", \"percN\"])\n",
    "tqdrator = tqdm.tqdm(read_fasta(\"../../gisaid/germany_ber.fasta\"), total=24778)\n",
    "for covid, rna in tqdrator:\n",
    "    length = len(rna)\n",
    "    perc = percent(rna, \"N\")\n",
    "    poly = len(rna) - len(rna.rstrip(\"A\"))\n",
    "    append_df = pd.DataFrame(\n",
    "        columns=rna_df.columns.to_list(),\n",
    "        data=[[\n",
    "            covid,\n",
    "            length,\n",
    "            poly,\n",
    "            perc\n",
    "        ]]\n",
    "    )\n",
    "    rna_df = pd.concat([rna_df, append_df], ignore_index=True)\n",
    "\n",
    "rna_df.index = rna_df[\"strain\"]\n",
    "rna_df = rna_df.drop(columns=[\"strain\"])\n",
    "meta_df = meta_df.join(rna_df, how=\"inner\")\n",
    "\n",
    "meta_df[\"date\"] = meta_df.index.str.split(\"|\").str[1]\n",
    "meta_df[\"date\"] = pd.to_datetime(meta_df[\"date\"], format=\"%Y-%m-%d\")\n",
    "meta_df = meta_df.sort_values(by=[\"date\"])\n",
    "\n",
    "meta_df[\"date\"] = meta_df.index.str.split(\"|\").str[1]\n",
    "meta_df[\"date\"] = pd.to_datetime(meta_df[\"date\"], format=\"%Y-%m-%d\")\n",
    "meta_df = meta_df.sort_values(by=[\"date\"])\n",
    "\n",
    "meta_df = meta_df.loc[meta_df[\"date\"].astype(\"str\").apply(lambda dt: len(dt.split(\"-\"))) == 3]\n",
    "meta_df[\"year\"] = meta_df[\"date\"].astype(\"str\").str.split(\"-\").str[0].astype(\"int\")\n",
    "meta_df[\"month\"] = meta_df[\"date\"].astype(\"str\").str.split(\"-\").str[1].astype(\"int\")\n",
    "meta_df[\"day\"] = meta_df[\"date\"].astype(\"str\").str.split(\"-\").str[2].astype(\"int\")\n",
    "meta_df[\"days\"] = meta_df[\"day\"] + meta_df[\"month\"] * 30 + meta_df[\"year\"] * 365\n",
    "start = int(meta_df.iloc[0][\"days\"])\n",
    "meta_df[\"days\"] -= start\n",
    "meta_df = meta_df.drop(columns=[\"year\", \"month\", \"day\"])"
   ]
  },
  {
   "cell_type": "code",
   "execution_count": 6,
   "id": "00d854f6",
   "metadata": {},
   "outputs": [
    {
     "name": "stderr",
     "output_type": "stream",
     "text": [
      "<ipython-input-6-a04314270676>:8: SettingWithCopyWarning: \n",
      "A value is trying to be set on a copy of a slice from a DataFrame.\n",
      "Try using .loc[row_indexer,col_indexer] = value instead\n",
      "\n",
      "See the caveats in the documentation: https://pandas.pydata.org/pandas-docs/stable/user_guide/indexing.html#returning-a-view-versus-a-copy\n",
      "  df[\"strain\"] = df.index\n"
     ]
    }
   ],
   "source": [
    "df = meta_df.loc[\n",
    "    (~meta_df[\"scorpio_call\"].isna()) & \\\n",
    "    (meta_df[\"percN\"] == 0.) & \\\n",
    "    (meta_df[\"length\"] > 29000)\n",
    "]\n",
    "\n",
    "STRAINS = []\n",
    "df[\"strain\"] = df.index\n",
    "STRAINS = df[\"strain\"].to_list()\n",
    "START = meta_df.iloc[0][\"date\"]"
   ]
  },
  {
   "cell_type": "code",
   "execution_count": 7,
   "id": "a292d1bc",
   "metadata": {},
   "outputs": [],
   "source": [
    "meta_df = meta_df.loc[STRAINS]"
   ]
  },
  {
   "cell_type": "code",
   "execution_count": 8,
   "id": "c004ac9b",
   "metadata": {},
   "outputs": [],
   "source": [
    "meta_df.loc[:, \"group\"] = \"first\"\n",
    "meta_df.loc[meta_df[\"scorpio_call\"].str.contains(\"micron\"), \"group\"] = \"second\""
   ]
  },
  {
   "cell_type": "code",
   "execution_count": 9,
   "id": "7a625eaa",
   "metadata": {},
   "outputs": [],
   "source": [
    "# alignment"
   ]
  },
  {
   "cell_type": "code",
   "execution_count": 10,
   "id": "25967b56",
   "metadata": {},
   "outputs": [],
   "source": [
    "from Bio import SeqIO\n",
    "from Bio.Align.Applications import MafftCommandline\n",
    "import tqdm"
   ]
  },
  {
   "cell_type": "code",
   "execution_count": 11,
   "id": "8dbcfbdc",
   "metadata": {},
   "outputs": [],
   "source": [
    "import re\n",
    "import io\n",
    "\n",
    "\n",
    "def find_all(seq, ref):\n",
    "    return [m.start() for m in re.finditer(seq, ref)]\n",
    "\n",
    "def forward(x, aln):\n",
    "    x += 1\n",
    "    nucl_num = 0\n",
    "    for j in range(len(aln)):\n",
    "        if aln[j] != \"-\":\n",
    "            nucl_num += 1\n",
    "    \n",
    "        if nucl_num == x:\n",
    "            return j\n",
    "    \n",
    "    return nucl_num\n",
    "        \n",
    "def backward(x, aln):\n",
    "    nucl_num = 0\n",
    "    for j in range(x):\n",
    "        if aln[j] != \"-\":\n",
    "            nucl_num += 1\n",
    "    \n",
    "    return nucl_num\n",
    "\n",
    "        \n",
    "def reverse(seq):\n",
    "    result = \"\"\n",
    "    for char in seq[::-1]:\n",
    "        if char == \"A\":\n",
    "            result += \"T\"\n",
    "        if char == \"T\":\n",
    "            result += \"A\"\n",
    "        if char == \"G\":\n",
    "            result += \"C\"\n",
    "        if char == \"C\":\n",
    "            result += \"G\"\n",
    "    return result\n",
    "\n",
    "def uremove(seq):\n",
    "    result = \"\"\n",
    "    for char in seq:\n",
    "        if char == \"U\":\n",
    "            result += \"T\"\n",
    "        else:\n",
    "            result += char\n",
    "    return result"
   ]
  },
  {
   "cell_type": "code",
   "execution_count": 12,
   "id": "2b9e4a11",
   "metadata": {},
   "outputs": [],
   "source": [
    "def align(seq1, seq2, path=None):\n",
    "    if not path:\n",
    "        path = \".align.fasta\"\n",
    "\n",
    "    alnf = open(path, \"w\")\n",
    "    alnf.write(\">\" + seq1.description + \"\\n\")\n",
    "    alnf.write(str(seq1.seq) + \"\\n\")\n",
    "    alnf.write(\">\" + seq2.description + \"\\n\")\n",
    "    alnf.write(str(seq2.seq) + \"\\n\")\n",
    "    alnf.close()\n",
    "\n",
    "    mafft_cline = MafftCommandline(input=path)\n",
    "    stdout, stderr = mafft_cline()\n",
    "\n",
    "    outf = open(path, \"w\")\n",
    "    outf.write(stdout)\n",
    "    outf.close()"
   ]
  },
  {
   "cell_type": "code",
   "execution_count": 13,
   "id": "5ef69b7c",
   "metadata": {},
   "outputs": [],
   "source": [
    "def parallel(ref, rnas, path):\n",
    "    for rna in rnas:\n",
    "        name = str(rna.description).replace(\"/\", \"+\").replace(\"|\", \"%\")\n",
    "        align(ref, rna, path=path.lstrip(\"/\") + name + \".fasta\")"
   ]
  },
  {
   "cell_type": "code",
   "execution_count": 331,
   "id": "db556bf9",
   "metadata": {},
   "outputs": [],
   "source": [
    "from multiprocessing import Process"
   ]
  },
  {
   "cell_type": "code",
   "execution_count": 333,
   "id": "a400f858",
   "metadata": {},
   "outputs": [],
   "source": [
    "wuhan = next(SeqIO.parse(\"../../gisaid/wuhan.fasta\", \"fasta\"))\n",
    "reader = SeqIO.parse(\"../../gisaid/germany_ber_selected.fasta\", \"fasta\")\n",
    "procnum = 55\n",
    "\n",
    "rnas = [rna for rna in reader]\n",
    "processes = []\n",
    "batch = len(rnas) // procnum\n",
    "for i in range(procnum):\n",
    "    start = batch * i\n",
    "    end = batch * (i + 1)\n",
    "    if i == procnum - 1:\n",
    "        end = len(rnas)\n",
    "\n",
    "    proc = Process(target=parallel, args=(\n",
    "        wuhan,\n",
    "        rnas[start:end],\n",
    "        \"../../results/aligns/germany_ber_selected/\"\n",
    "    ))\n",
    "    proc.start()\n",
    "    processes.append(proc)\n",
    "    \n",
    "for i in range(len(processes)):\n",
    "    processes[i].join()"
   ]
  },
  {
   "cell_type": "code",
   "execution_count": 336,
   "id": "be0d24cf",
   "metadata": {},
   "outputs": [],
   "source": [
    "# hsa-let-7b-5p, MIMAT0000063\n",
    "# hsa-miR-200c-3p, MIMAT0000617"
   ]
  },
  {
   "cell_type": "code",
   "execution_count": 65,
   "id": "cab32bf0",
   "metadata": {},
   "outputs": [],
   "source": [
    "import pandas as pd"
   ]
  },
  {
   "cell_type": "code",
   "execution_count": 66,
   "id": "c562cfbc",
   "metadata": {},
   "outputs": [],
   "source": [
    "mimat = \"MIMAT0000063\"\n",
    "# mimat = \"MIMAT0000617\"\n",
    "miRBase = pd.read_csv(\"/home/dude/huge/bulk/miRBase/miRBase_22.1.tsv\", sep=\"\\t\")"
   ]
  },
  {
   "cell_type": "code",
   "execution_count": 67,
   "id": "88826725",
   "metadata": {},
   "outputs": [],
   "source": [
    "ls = int(miRBase.loc[miRBase[\"MIMAT\"] == mimat][\"Local start\"].values[0])\n",
    "seq = str(miRBase.loc[miRBase[\"MIMAT\"] == mimat][\"Sequence\"].values[0])\n",
    "seed = seq[ls:ls + 6]"
   ]
  },
  {
   "cell_type": "code",
   "execution_count": 68,
   "id": "db4098c7",
   "metadata": {},
   "outputs": [],
   "source": [
    "seed = reverse(uremove(seed))"
   ]
  },
  {
   "cell_type": "code",
   "execution_count": 69,
   "id": "8fd1002b",
   "metadata": {},
   "outputs": [
    {
     "data": {
      "text/plain": [
       "'TACCTC'"
      ]
     },
     "execution_count": 69,
     "metadata": {},
     "output_type": "execute_result"
    }
   ],
   "source": [
    "seed"
   ]
  },
  {
   "cell_type": "code",
   "execution_count": 70,
   "id": "2b224457",
   "metadata": {},
   "outputs": [],
   "source": [
    "# alignment analysis"
   ]
  },
  {
   "cell_type": "code",
   "execution_count": 71,
   "id": "39343940",
   "metadata": {},
   "outputs": [],
   "source": [
    "from Bio import AlignIO"
   ]
  },
  {
   "cell_type": "code",
   "execution_count": 74,
   "id": "e203e88b",
   "metadata": {},
   "outputs": [
    {
     "name": "stderr",
     "output_type": "stream",
     "text": [
      "100%|██████████| 3755/3755 [01:36<00:00, 39.02it/s]\n"
     ]
    }
   ],
   "source": [
    "start, end = map(lambda x: int(x) - 1, ANNOTATION[\"NSP4\"].split(\"-\"))\n",
    "# start, end = map(lambda x: int(x) - 1, ANNOTATION[\"NSP12\"].split(\"-\"))\n",
    "\n",
    "binds = {}\n",
    "for name, row in tqdm.tqdm(meta_df.iterrows(), total=len(meta_df)):\n",
    "    name = str(name).replace(\"/\", \"+\").replace(\"|\", \"%\")\n",
    "    align = AlignIO.read(\n",
    "        f\"../../results/aligns/germany_ber_selected/{name}.fasta\",\n",
    "        \"fasta\"\n",
    "    )\n",
    "    \n",
    "    wuhan = str(align[0].seq).replace(\"-\", \"\").upper()\n",
    "    wuhan_ = str(align[0].seq).upper()\n",
    "\n",
    "    rna = str(align[1].seq).replace(\"-\", \"\").upper()\n",
    "    rna_ = str(align[1].seq).upper()\n",
    "    \n",
    "    bindpos = find_all(seed, rna)\n",
    "    for pos in bindpos:\n",
    "        rp = pos\n",
    "        pos = forward(pos, rna_)\n",
    "        pos = backward(pos, wuhan_)\n",
    "        wp = pos\n",
    "        \n",
    "\n",
    "        if (pos < start) or (pos + 6 > end):\n",
    "            continue\n",
    "        \n",
    "        if not pos in binds:\n",
    "            binds[pos] = [0, 0, 0]\n",
    "        \n",
    "        if row[\"group\"] == \"first\":\n",
    "            binds[pos][0] += 1\n",
    "        elif row[\"scorpio_call\"] == \"Omicron (BA.2-like)\":\n",
    "            binds[pos][1] += 1\n",
    "        else:\n",
    "            binds[pos][2] += 1"
   ]
  },
  {
   "cell_type": "code",
   "execution_count": 75,
   "id": "356f79ed",
   "metadata": {},
   "outputs": [
    {
     "name": "stdout",
     "output_type": "stream",
     "text": [
      "{9860: [1691, 15, 1172]}\n"
     ]
    }
   ],
   "source": [
    "print(binds)"
   ]
  },
  {
   "cell_type": "code",
   "execution_count": 77,
   "id": "7a34688d",
   "metadata": {},
   "outputs": [
    {
     "name": "stderr",
     "output_type": "stream",
     "text": [
      "100%|██████████| 3755/3755 [00:27<00:00, 135.56it/s]\n"
     ]
    }
   ],
   "source": [
    "position = 9860\n",
    "# position = 15592\n",
    "early = []\n",
    "omicron = []\n",
    "omicron2 = []\n",
    "\n",
    "for name, row in tqdm.tqdm(meta_df.iterrows(), total=len(meta_df)):\n",
    "    name = str(name).replace(\"/\", \"+\").replace(\"|\", \"%\")\n",
    "    align = AlignIO.read(\n",
    "        f\"../../results/aligns/germany_ber_selected/{name}.fasta\",\n",
    "        \"fasta\"\n",
    "    )\n",
    "    \n",
    "    wuhan = str(align[0].seq).replace(\"-\", \"\").upper()\n",
    "    wuhan_ = str(align[0].seq).upper()\n",
    "\n",
    "    rna = str(align[1].seq).replace(\"-\", \"\").upper()\n",
    "    rna_ = str(align[1].seq).upper()\n",
    "    \n",
    "    pos = forward(position, wuhan_)\n",
    "    pos = backward(pos, rna_)\n",
    "    reg = rna[pos - 3:pos + 6 + 3]\n",
    "    \n",
    "    if row[\"group\"] == \"first\":\n",
    "        early.append(reg)\n",
    "    elif row[\"scorpio_call\"] == \"Omicron (BA.2-like)\":\n",
    "        omicron2.append(reg)\n",
    "    else:\n",
    "        omicron.append(reg)"
   ]
  },
  {
   "cell_type": "code",
   "execution_count": 78,
   "id": "a6bf19c4",
   "metadata": {},
   "outputs": [],
   "source": [
    "import logomaker as lm"
   ]
  },
  {
   "cell_type": "code",
   "execution_count": 79,
   "id": "4dd6c29f",
   "metadata": {},
   "outputs": [
    {
     "name": "stdout",
     "output_type": "stream",
     "text": [
      "TACCTC\n",
      "0 1691\n",
      "          A       C       T\n",
      "pos                        \n",
      "0       0.0     0.0  1691.0\n",
      "1    1691.0     0.0     0.0\n",
      "2       0.0     0.0  1691.0\n",
      "3       0.0     0.0  1691.0\n",
      "4    1691.0     0.0     0.0\n",
      "5       0.0  1691.0     0.0\n",
      "6       0.0  1691.0     0.0\n",
      "7       0.0     0.0  1691.0\n",
      "8       0.0  1691.0     0.0\n",
      "9       0.0     2.0  1689.0\n",
      "10      0.0     0.0  1691.0\n",
      "11   1691.0     0.0     0.0\n"
     ]
    },
    {
     "data": {
      "text/plain": [
       "<logomaker.src.Logo.Logo at 0x7f2c4db078e0>"
      ]
     },
     "execution_count": 79,
     "metadata": {},
     "output_type": "execute_result"
    },
    {
     "data": {
      "image/png": "[encoded data removed]",
      "text/plain": [
       "<Figure size 720x180 with 1 Axes>"
      ]
     },
     "metadata": {
      "needs_background": "light"
     },
     "output_type": "display_data"
    }
   ],
   "source": [
    "print(seed)\n",
    "print(len([x for x in early if x == seed]), len(early))\n",
    "print(lm.alignment_to_matrix(early))\n",
    "lm.Logo(lm.alignment_to_matrix(early))"
   ]
  },
  {
   "cell_type": "code",
   "execution_count": 80,
   "id": "6a63d40b",
   "metadata": {},
   "outputs": [
    {
     "name": "stdout",
     "output_type": "stream",
     "text": [
      "TACCTC\n",
      "0 1177\n",
      "          A       C       T\n",
      "pos                        \n",
      "0       0.0     0.0  1177.0\n",
      "1    1177.0     0.0     0.0\n",
      "2       0.0     0.0  1177.0\n",
      "3       0.0     0.0  1177.0\n",
      "4    1177.0     0.0     0.0\n",
      "5       0.0  1177.0     0.0\n",
      "6       0.0  1177.0     0.0\n",
      "7       0.0     0.0  1177.0\n",
      "8       0.0  1172.0     5.0\n",
      "9       0.0     0.0  1177.0\n",
      "10      0.0     0.0  1177.0\n",
      "11   1177.0     0.0     0.0\n"
     ]
    },
    {
     "data": {
      "text/plain": [
       "<logomaker.src.Logo.Logo at 0x7f2e00293790>"
      ]
     },
     "execution_count": 80,
     "metadata": {},
     "output_type": "execute_result"
    },
    {
     "data": {
      "image/png": "[encoded data removed]",
      "text/plain": [
       "<Figure size 720x180 with 1 Axes>"
      ]
     },
     "metadata": {
      "needs_background": "light"
     },
     "output_type": "display_data"
    }
   ],
   "source": [
    "print(seed)\n",
    "print(len([x for x in omicron if x == seed]), len(omicron))\n",
    "print(lm.alignment_to_matrix(omicron))\n",
    "lm.Logo(lm.alignment_to_matrix(omicron))"
   ]
  },
  {
   "cell_type": "code",
   "execution_count": 81,
   "id": "e65363b2",
   "metadata": {},
   "outputs": [
    {
     "name": "stdout",
     "output_type": "stream",
     "text": [
      "TACCTC\n",
      "0 887\n",
      "         A      C      T\n",
      "pos                     \n",
      "0      0.0    0.0  887.0\n",
      "1    887.0    0.0    0.0\n",
      "2      0.0    0.0  887.0\n",
      "3      0.0    0.0  887.0\n",
      "4    887.0    0.0    0.0\n",
      "5      0.0  887.0    0.0\n",
      "6      0.0  887.0    0.0\n",
      "7      0.0    0.0  887.0\n",
      "8      0.0   15.0  872.0\n",
      "9      0.0    0.0  887.0\n",
      "10     0.0    0.0  887.0\n",
      "11   887.0    0.0    0.0\n"
     ]
    },
    {
     "data": {
      "text/plain": [
       "<logomaker.src.Logo.Logo at 0x7f2e44114040>"
      ]
     },
     "execution_count": 81,
     "metadata": {},
     "output_type": "execute_result"
    },
    {
     "data": {
      "image/png": "[encoded data removed]",
      "text/plain": [
       "<Figure size 720x180 with 1 Axes>"
      ]
     },
     "metadata": {
      "needs_background": "light"
     },
     "output_type": "display_data"
    }
   ],
   "source": [
    "print(seed)\n",
    "print(len([x for x in omicron2 if x == seed]), len(omicron2))\n",
    "print(lm.alignment_to_matrix(omicron2))\n",
    "lm.Logo(lm.alignment_to_matrix(omicron2))"
   ]
  },
  {
   "cell_type": "code",
   "execution_count": 85,
   "id": "9d6d9ad4",
   "metadata": {},
   "outputs": [],
   "source": [
    "# aminoacid mutation"
   ]
  },
  {
   "cell_type": "code",
   "execution_count": 86,
   "id": "9f69c537",
   "metadata": {},
   "outputs": [],
   "source": [
    "from Bio import Seq"
   ]
  },
  {
   "cell_type": "code",
   "execution_count": 92,
   "id": "cd319eb3",
   "metadata": {},
   "outputs": [],
   "source": [
    "ref = str(align[0].seq).replace(\"-\", \"\")"
   ]
  },
  {
   "cell_type": "code",
   "execution_count": 100,
   "id": "ee993ea8",
   "metadata": {},
   "outputs": [],
   "source": [
    "start, end = map(lambda x: int(x) - 1, ANNOTATION[\"NSP4\"].split(\"-\"))\n",
    "local_start = position - start"
   ]
  },
  {
   "cell_type": "code",
   "execution_count": 101,
   "id": "6a12b471",
   "metadata": {},
   "outputs": [
    {
     "name": "stdout",
     "output_type": "stream",
     "text": [
      "L\n",
      "L\n"
     ]
    }
   ],
   "source": [
    "ref_region = str(ref[start:end + 1])\n",
    "mut_region = ref_region[:local_start] + \"t\" + ref_region[local_start + 1:]\n",
    "\n",
    "print(str(Seq.translate(ref_region))[local_start // 3])\n",
    "print(str(Seq.translate(mut_region))[local_start // 3])"
   ]
  },
  {
   "cell_type": "code",
   "execution_count": 106,
   "id": "4fc91158",
   "metadata": {},
   "outputs": [
    {
     "name": "stdout",
     "output_type": "stream",
     "text": [
      "1\n",
      "L\n"
     ]
    }
   ],
   "source": [
    "print(local_start % 3)\n",
    "print(Seq.translate(\"CTT\"))"
   ]
  },
  {
   "cell_type": "code",
   "execution_count": null,
   "id": "3a6f6e1f",
   "metadata": {},
   "outputs": [],
   "source": []
  }
 ],
 "metadata": {
  "kernelspec": {
   "display_name": "Python 3",
   "language": "python",
   "name": "python3"
  },
  "language_info": {
   "codemirror_mode": {
    "name": "ipython",
    "version": 3
   },
   "file_extension": ".py",
   "mimetype": "text/x-python",
   "name": "python",
   "nbconvert_exporter": "python",
   "pygments_lexer": "ipython3",
   "version": "3.8.9"
  }
 },
 "nbformat": 4,
 "nbformat_minor": 5
}
