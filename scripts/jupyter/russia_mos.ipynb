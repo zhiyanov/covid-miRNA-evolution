{
 "cells": [
  {
   "cell_type": "code",
   "execution_count": 38,
   "id": "957f3da5",
   "metadata": {},
   "outputs": [],
   "source": [
    "import numpy as np\n",
    "import pandas as pd\n",
    "import matplotlib.pyplot as plt\n",
    "import seaborn as sns\n",
    "import tqdm\n",
    "\n",
    "from scipy.stats import linregress\n",
    "from scipy.stats import mannwhitneyu\n",
    "from scipy.stats import ks_2samp\n",
    "from scipy.stats import rankdata\n",
    "\n",
    "import matplotlib as mpl\n",
    "from matplotlib.colors import ListedColormap, LinearSegmentedColormap"
   ]
  },
  {
   "cell_type": "code",
   "execution_count": 39,
   "id": "70631048",
   "metadata": {},
   "outputs": [],
   "source": [
    "PROTEINS = [\n",
    "    \"5P\",\n",
    "    \"NSP1\",\n",
    "    \"NSP2\",\n",
    "    \"NSP3\",\n",
    "    \"NSP4\",\n",
    "    \"NSP5\",\n",
    "    \"NSP6\",\n",
    "    \"NSP7\",\n",
    "    \"NSP8\",\n",
    "    \"NSP9\",\n",
    "    \"NSP10\",\n",
    "    \"NSP11\",\n",
    "    \"NSP12\",\n",
    "    \"NSP13\",\n",
    "    \"NSP14\",\n",
    "    \"NSP15\",\n",
    "    \"NSP16\",\n",
    "    \"Spike\",\n",
    "    \"NS3\",\n",
    "    \"E\",\n",
    "    \"M\",\n",
    "    \"NS6\",\n",
    "    \"NS7a\",\n",
    "    \"NS7b\",\n",
    "    \"NS8\",\n",
    "    \"N\",\n",
    "    \"NS9b\",\n",
    "    \"NS9c\",\n",
    "    \"3P\",\n",
    "    \"RNA\"\n",
    "]\n",
    "\n",
    "ANNOTATION = {\n",
    "    \"5P\": \"1-265\",\n",
    "    \"NSP1\": \"266-805\",\n",
    "    \"NSP2\": \"806-2719\",\n",
    "    \"NSP3\": \"2720-8554\",\n",
    "    \"NSP4\": \"8555-10054\",\n",
    "    \"NSP5\": \"10055-10972\",\n",
    "    \"NSP6\": \"10973-11842\",\n",
    "    \"NSP7\": \"11843-12091\",\n",
    "    \"NSP8\": \"12092-12685\",\n",
    "    \"NSP9\": \"12686-13024\",\n",
    "    \"NSP10\": \"13025-13441\",\n",
    "    \"NSP11\": \"13442-13480\",\n",
    "    # \"NSP12\": \"13442-13468\",\n",
    "    \"NSP12\": \"13468-16236\",\n",
    "    \"NSP13\": \"16237-18039\",\n",
    "    \"NSP14\": \"18040-19620\",\n",
    "    \"NSP15\": \"19621-20658\",\n",
    "    \"NSP16\": \"20659-21552\",\n",
    "    \"Spike\": \"21563-25384\",\n",
    "    \"NS3\": \"25393-26220\",\n",
    "    \"E\": \"26245-26472\",\n",
    "    \"M\": \"26523-27191\",\n",
    "    \"NS6\": \"27202-27387\",\n",
    "    \"NS7a\": \"27394-27759\",\n",
    "    \"NS7b\": \"27756-27887\",\n",
    "    \"NS8\": \"27894-28259\",\n",
    "    \"N\": \"28274-29533\",\n",
    "    \"NS9b\": \"28284-28577\",\n",
    "    \"NS9c\": \"28734-28955\",\n",
    "    \"3P\": \"29534-30331\"\n",
    "}"
   ]
  },
  {
   "cell_type": "code",
   "execution_count": 40,
   "id": "505c5f0d",
   "metadata": {},
   "outputs": [],
   "source": [
    "def read_fasta(path):\n",
    "    result = \"\"\n",
    "    description = \"\"\n",
    "\n",
    "    ff = open(path, \"r\")\n",
    "\n",
    "    line = next(ff, None)\n",
    "    while line:\n",
    "        line = line.rstrip(\"\\n\")\n",
    "        if not line:\n",
    "            line = next(ff, None)\n",
    "            continue\n",
    "\n",
    "        if line.startswith(\">\"):\n",
    "            if result:\n",
    "                yield description, result\n",
    "            description = line.lstrip(\">\")\n",
    "            result = \"\"\n",
    "        else:\n",
    "            result += line\n",
    "\n",
    "        line = next(ff, None)\n",
    "\n",
    "    yield description, result\n",
    "    ff.close()\n",
    "    \n",
    "def percent(seq, chr=\"N\"):\n",
    "    count = 0\n",
    "    for char in seq:\n",
    "        if char == chr:\n",
    "            count += 1\n",
    "    return count / len(seq)\n",
    "\n",
    "def region_count(reg, start=None, end=None):\n",
    "    reg = reg.lstrip(\"[\").rstrip(\"]\").split(\", \")\n",
    "    if not (start is None) and not (end is None):\n",
    "        reg = [s for s in reg if s and (start <= int(s) <= end)]\n",
    "    else:\n",
    "        reg = [s for s in reg if s]\n",
    "    return len(reg)"
   ]
  },
  {
   "cell_type": "code",
   "execution_count": 41,
   "id": "6abf1cd3",
   "metadata": {},
   "outputs": [],
   "source": [
    "# meta preparation"
   ]
  },
  {
   "cell_type": "code",
   "execution_count": 42,
   "id": "4c8743b8",
   "metadata": {},
   "outputs": [
    {
     "name": "stderr",
     "output_type": "stream",
     "text": [
      "100%|██████████| 2520/2520 [00:11<00:00, 213.91it/s]\n"
     ]
    }
   ],
   "source": [
    "meta_df = pd.read_csv(\n",
    "    \"../../gisaid/russia_mos_meta.csv\",\n",
    "    sep=\",\", index_col=0)\n",
    "\n",
    "rna_df = pd.DataFrame(columns=[\"strain\", \"length\", \"polyA\", \"percN\"])\n",
    "tqdrator = tqdm.tqdm(read_fasta(\"../../gisaid/russia_mos.fasta\"), total=2520)\n",
    "for covid, rna in tqdrator:\n",
    "    length = len(rna)\n",
    "    perc = percent(rna, \"N\")\n",
    "    poly = len(rna) - len(rna.rstrip(\"A\"))\n",
    "    append_df = pd.DataFrame(\n",
    "        columns=rna_df.columns.to_list(),\n",
    "        data=[[\n",
    "            covid,\n",
    "            length,\n",
    "            poly,\n",
    "            perc\n",
    "        ]]\n",
    "    )\n",
    "    rna_df = pd.concat([rna_df, append_df], ignore_index=True)\n",
    "\n",
    "rna_df.index = rna_df[\"strain\"]\n",
    "rna_df = rna_df.drop(columns=[\"strain\"])\n",
    "meta_df = meta_df.join(rna_df, how=\"inner\")\n",
    "\n",
    "meta_df[\"date\"] = meta_df.index.str.split(\"|\").str[1]\n",
    "meta_df[\"date\"] = pd.to_datetime(meta_df[\"date\"], format=\"%Y-%m-%d\")\n",
    "meta_df = meta_df.sort_values(by=[\"date\"])\n",
    "\n",
    "meta_df[\"date\"] = meta_df.index.str.split(\"|\").str[1]\n",
    "meta_df[\"date\"] = pd.to_datetime(meta_df[\"date\"], format=\"%Y-%m-%d\")\n",
    "meta_df = meta_df.sort_values(by=[\"date\"])\n",
    "\n",
    "meta_df = meta_df.loc[meta_df[\"date\"].astype(\"str\").apply(lambda dt: len(dt.split(\"-\"))) == 3]\n",
    "meta_df[\"year\"] = meta_df[\"date\"].astype(\"str\").str.split(\"-\").str[0].astype(\"int\")\n",
    "meta_df[\"month\"] = meta_df[\"date\"].astype(\"str\").str.split(\"-\").str[1].astype(\"int\")\n",
    "meta_df[\"day\"] = meta_df[\"date\"].astype(\"str\").str.split(\"-\").str[2].astype(\"int\")\n",
    "meta_df[\"days\"] = meta_df[\"day\"] + meta_df[\"month\"] * 30 + meta_df[\"year\"] * 365\n",
    "start = int(meta_df.iloc[0][\"days\"])\n",
    "meta_df[\"days\"] -= start\n",
    "meta_df = meta_df.drop(columns=[\"year\", \"month\", \"day\"])"
   ]
  },
  {
   "cell_type": "code",
   "execution_count": 43,
   "id": "34332148",
   "metadata": {},
   "outputs": [],
   "source": [
    "# higly expressed miRNAs"
   ]
  },
  {
   "cell_type": "code",
   "execution_count": 44,
   "id": "1dff111d",
   "metadata": {},
   "outputs": [],
   "source": [
    "miRNA_df = pd.read_csv(\"../../miRNA/expressed_LUAD.csv\", sep=\",\")\n",
    "miRNA_df.index = miRNA_df[\"MIMAT\"]\n",
    "\n",
    "TOTAL_EXPRESSION = miRNA_df[\"CPM\"].sum()\n",
    "MIMATS = miRNA_df[\"MIMAT\"].to_list()"
   ]
  },
  {
   "cell_type": "code",
   "execution_count": 45,
   "id": "a647ed66",
   "metadata": {},
   "outputs": [],
   "source": [
    "# Moscow VOC's description"
   ]
  },
  {
   "cell_type": "code",
   "execution_count": 46,
   "id": "ed9a5433",
   "metadata": {},
   "outputs": [
    {
     "name": "stderr",
     "output_type": "stream",
     "text": [
      "<ipython-input-46-bd003242fe6c>:12: SettingWithCopyWarning: \n",
      "A value is trying to be set on a copy of a slice from a DataFrame.\n",
      "Try using .loc[row_indexer,col_indexer] = value instead\n",
      "\n",
      "See the caveats in the documentation: https://pandas.pydata.org/pandas-docs/stable/user_guide/indexing.html#returning-a-view-versus-a-copy\n",
      "  df[\"strain\"] = df.index\n"
     ]
    }
   ],
   "source": [
    "df = meta_df.loc[\n",
    "    (~meta_df[\"scorpio_call\"].isna()) & \\\n",
    "    # No dominance\n",
    "    (meta_df[\"percN\"] > 0.) & \\\n",
    "    # Equal distributions\n",
    "    # (meta_df[\"percN\"] > 0.0005) & \\\n",
    "    (meta_df[\"percN\"] < 0.001) & \\\n",
    "    (meta_df[\"length\"] > 29000)\n",
    "]\n",
    "\n",
    "STRAINS = []\n",
    "df[\"strain\"] = df.index\n",
    "STRAINS = df[\"strain\"].to_list()"
   ]
  },
  {
   "cell_type": "code",
   "execution_count": 57,
   "id": "1502c21d",
   "metadata": {},
   "outputs": [
    {
     "data": {
      "text/plain": [
       "['hCoV-19/Russia/MOS-RII-MH16110S/2021|2021-03-19|2021-05-06']"
      ]
     },
     "execution_count": 57,
     "metadata": {},
     "output_type": "execute_result"
    }
   ],
   "source": [
    "STRAINS[:1]"
   ]
  },
  {
   "cell_type": "code",
   "execution_count": 60,
   "id": "e115ead9",
   "metadata": {},
   "outputs": [],
   "source": [
    "output = open(\"russia_mos_vocs.fasta\", \"w\")\n",
    "for description, seq in read_fasta(\"../../gisaid/russia_mos.fasta\"):\n",
    "    if description.lstrip(\">\") in STRAINS:\n",
    "        output.write(\">\" + description.lstrip(\"\\n\") + \"\\n\")\n",
    "        output.write(seq + \"\\n\")"
   ]
  },
  {
   "cell_type": "code",
   "execution_count": 47,
   "id": "fff4312f",
   "metadata": {},
   "outputs": [
    {
     "name": "stdout",
     "output_type": "stream",
     "text": [
      "2020-03-11 00:00:00\n",
      "2022-08-22 00:00:00\n",
      "2520\n"
     ]
    }
   ],
   "source": [
    "print(meta_df.iloc[0][\"date\"])\n",
    "print(meta_df.iloc[-1][\"date\"])\n",
    "print(len(meta_df))"
   ]
  },
  {
   "cell_type": "code",
   "execution_count": 48,
   "id": "7b972c69",
   "metadata": {},
   "outputs": [
    {
     "name": "stdout",
     "output_type": "stream",
     "text": [
      "2021-03-19 00:00:00\n",
      "2022-08-08 00:00:00\n"
     ]
    }
   ],
   "source": [
    "print(meta_df.loc[STRAINS].iloc[0][\"date\"])\n",
    "print(meta_df.loc[STRAINS].iloc[-1][\"date\"])"
   ]
  },
  {
   "cell_type": "code",
   "execution_count": 49,
   "id": "559423be",
   "metadata": {},
   "outputs": [],
   "source": [
    "meta_df = meta_df.loc[STRAINS]"
   ]
  },
  {
   "cell_type": "code",
   "execution_count": 50,
   "id": "e21893d0",
   "metadata": {},
   "outputs": [
    {
     "name": "stdout",
     "output_type": "stream",
     "text": [
      "273\n"
     ]
    },
    {
     "data": {
      "text/plain": [
       "Omicron (BA.5-like)              202\n",
       "Delta (B.1.617.2-like)            52\n",
       "Alpha (B.1.1.7-like)               5\n",
       "Probable Omicron (Unassigned)      5\n",
       "Omicron (Unassigned)               4\n",
       "Omicron (BA.2-like)                3\n",
       "Omicron (BA.1-like)                1\n",
       "Omicron (BA.4-like)                1\n",
       "Name: scorpio_call, dtype: int64"
      ]
     },
     "execution_count": 50,
     "metadata": {},
     "output_type": "execute_result"
    }
   ],
   "source": [
    "print(meta_df[\"scorpio_call\"].value_counts().sum())\n",
    "meta_df[\"scorpio_call\"].value_counts()"
   ]
  },
  {
   "cell_type": "code",
   "execution_count": 51,
   "id": "f39e65a0",
   "metadata": {},
   "outputs": [],
   "source": [
    "meta_df.loc[:, \"group\"] = \"first\"\n",
    "# meta_df.loc[meta_df[\"days\"] > 650, \"group\"] = \"second\"\n",
    "meta_df.loc[meta_df[\"scorpio_call\"].str.contains(\"micron\"), \"group\"] = \"second\""
   ]
  },
  {
   "cell_type": "code",
   "execution_count": 52,
   "id": "bc6fc249",
   "metadata": {},
   "outputs": [
    {
     "name": "stdout",
     "output_type": "stream",
     "text": [
      "57\n"
     ]
    },
    {
     "data": {
      "text/plain": [
       "scorpio_call          \n",
       "Delta (B.1.617.2-like)    52\n",
       "Alpha (B.1.1.7-like)       5\n",
       "dtype: int64"
      ]
     },
     "execution_count": 52,
     "metadata": {},
     "output_type": "execute_result"
    }
   ],
   "source": [
    "print(meta_df.loc[meta_df.index.isin(STRAINS) & \\\n",
    "    (meta_df[\"group\"] == \"first\")\n",
    "    ][[\"scorpio_call\"]].value_counts().sum())\n",
    "\n",
    "meta_df.loc[\n",
    "    meta_df.index.isin(STRAINS) & \\\n",
    "    (meta_df[\"group\"] == \"first\")\n",
    "][[\"scorpio_call\"]].value_counts()"
   ]
  },
  {
   "cell_type": "code",
   "execution_count": 53,
   "id": "1837c660",
   "metadata": {},
   "outputs": [
    {
     "name": "stdout",
     "output_type": "stream",
     "text": [
      "216\n"
     ]
    },
    {
     "data": {
      "text/plain": [
       "scorpio_call                 \n",
       "Omicron (BA.5-like)              202\n",
       "Probable Omicron (Unassigned)      5\n",
       "Omicron (Unassigned)               4\n",
       "Omicron (BA.2-like)                3\n",
       "Omicron (BA.1-like)                1\n",
       "Omicron (BA.4-like)                1\n",
       "dtype: int64"
      ]
     },
     "execution_count": 53,
     "metadata": {},
     "output_type": "execute_result"
    }
   ],
   "source": [
    "print(meta_df.loc[meta_df.index.isin(STRAINS) & \\\n",
    "    (meta_df[\"group\"] == \"second\")\n",
    "    ][[\"scorpio_call\"]].value_counts().sum())\n",
    "\n",
    "meta_df.loc[\n",
    "    meta_df.index.isin(STRAINS) & \\\n",
    "    (meta_df[\"group\"] == \"second\")\n",
    "][[\"scorpio_call\"]].value_counts()"
   ]
  },
  {
   "cell_type": "code",
   "execution_count": 54,
   "id": "f8ce5e3e",
   "metadata": {},
   "outputs": [
    {
     "name": "stderr",
     "output_type": "stream",
     "text": [
      "/usr/local/lib/python3.8/dist-packages/seaborn/_core.py:163: FutureWarning: elementwise comparison failed; returning scalar instead, but in the future will perform elementwise comparison\n",
      "  if palette in QUAL_PALETTES:\n"
     ]
    },
    {
     "data": {
      "image/png": "[encoded data removed]",
      "text/plain": [
       "<Figure size 432x288 with 1 Axes>"
      ]
     },
     "metadata": {
      "needs_background": "light"
     },
     "output_type": "display_data"
    }
   ],
   "source": [
    "plot_df = meta_df.loc[STRAINS].copy()\n",
    "\n",
    "plot_df = plot_df.rename(columns={\n",
    "    \"scorpio_call\": \"Штамм\",\n",
    "    \"date\": \"Дата\"\n",
    "})\n",
    "\n",
    "top = mpl.colormaps['Blues_r']\n",
    "bottom = mpl.colormaps['Oranges']\n",
    "colors = np.vstack((\n",
    "    bottom(np.linspace(0.5, 0.8, 2)),\n",
    "    top(np.linspace(0.1, 0.9, 6)),\n",
    "))\n",
    "cmap = ListedColormap(colors, name='OrangeBlue')\n",
    "\n",
    "sns.histplot(\n",
    "    x=\"Дата\",\n",
    "    hue=\"Штамм\",\n",
    "    multiple=\"stack\",\n",
    "    data=plot_df,\n",
    "    bins=10,\n",
    "    palette=cmap.colors\n",
    ")\n",
    "plt.ylabel(\"Количество\")\n",
    "plt.xlabel(\"\")\n",
    "plt.xticks(rotation=45)\n",
    "plt.tight_layout()\n",
    "plt.savefig(\"../../pictures/moscow-strains.png\", dpi=500)"
   ]
  },
  {
   "cell_type": "code",
   "execution_count": 55,
   "id": "f05a7413",
   "metadata": {},
   "outputs": [
    {
     "name": "stdout",
     "output_type": "stream",
     "text": [
      "MannwhitneyuResult(statistic=6506.0, pvalue=0.5086027689752501)\n",
      "0.00040127331393596414 0.000339403750266428\n"
     ]
    },
    {
     "data": {
      "text/plain": [
       "<AxesSubplot:xlabel='percN', ylabel='Probability'>"
      ]
     },
     "execution_count": 55,
     "metadata": {},
     "output_type": "execute_result"
    },
    {
     "data": {
      "image/png": "[encoded data removed]",
      "text/plain": [
       "<Figure size 432x288 with 1 Axes>"
      ]
     },
     "metadata": {
      "needs_background": "light"
     },
     "output_type": "display_data"
    }
   ],
   "source": [
    "print(mannwhitneyu(\n",
    "    meta_df.loc[meta_df[\"group\"] == \"first\"][\"percN\"],\n",
    "    meta_df.loc[meta_df[\"group\"] == \"second\"][\"percN\"]\n",
    "))\n",
    "print(\n",
    "    meta_df.loc[meta_df[\"group\"] == \"first\"][\"percN\"].mean(),\n",
    "    meta_df.loc[meta_df[\"group\"] == \"second\"][\"percN\"].mean()\n",
    ")\n",
    "# sns.scatterplot(x=\"length\", y=\"percN\", hue=\"group\", alpha=0.5, data=meta_df)\n",
    "sns.histplot(\n",
    "    x=\"percN\",\n",
    "    hue=\"group\",\n",
    "    alpha=0.5,\n",
    "    data=meta_df,\n",
    "    stat=\"probability\",\n",
    "    common_norm=False,\n",
    ")"
   ]
  },
  {
   "cell_type": "code",
   "execution_count": 19,
   "id": "30f79fe6",
   "metadata": {},
   "outputs": [],
   "source": [
    "# region count df"
   ]
  },
  {
   "cell_type": "code",
   "execution_count": 20,
   "id": "457668de",
   "metadata": {},
   "outputs": [
    {
     "name": "stderr",
     "output_type": "stream",
     "text": [
      "100%|██████████| 32/32 [00:00<00:00, 591.59it/s]\n"
     ]
    }
   ],
   "source": [
    "count_df = None\n",
    "for protein in PROTEINS:\n",
    "    if protein != \"RNA\":\n",
    "        df = pd.read_csv(f\"../../results/russia_mos_LUAD_{protein}/seed.csv\", sep=\";\", index_col=0)\n",
    "    else:\n",
    "        df = pd.read_csv(f\"../../results/russia_mos_LUAD/seed.csv\", sep=\";\", index_col=0)\n",
    "    \n",
    "    df.index = df.index.str.lstrip(\">\")\n",
    "    df = df.loc[STRAINS][MIMATS]\n",
    "    \n",
    "    df[\"strain\"] = df.index\n",
    "    df[\"region\"] = [protein] * len(df)\n",
    "    \n",
    "    if count_df is None:\n",
    "        count_df = df\n",
    "    else:\n",
    "        count_df = pd.concat([count_df, df], ignore_index=True)\n",
    "\n",
    "for mimat in MIMATS:\n",
    "    count_df[mimat] = count_df[mimat].apply(lambda x: region_count(x))\n",
    "\n",
    "count_df.loc[:, \"count\"] = 0\n",
    "count_df.loc[:, \"weighted count\"] = 0\n",
    "for mimat in tqdm.tqdm(MIMATS):\n",
    "    expression = (miRNA_df.loc[mimat, \"CPM\"] / TOTAL_EXPRESSION)\n",
    "    count_df[\"count\"] += count_df[mimat]\n",
    "    count_df[\"weighted count\"] += count_df[mimat] * expression"
   ]
  },
  {
   "cell_type": "code",
   "execution_count": 21,
   "id": "783380de",
   "metadata": {},
   "outputs": [
    {
     "name": "stderr",
     "output_type": "stream",
     "text": [
      "100%|██████████| 32/32 [00:00<00:00, 720.79it/s]\n"
     ]
    }
   ],
   "source": [
    "wcount_df = pd.read_csv(\"../../results/wuhan_LUAD/seed.csv\", sep=\";\", index_col=0)\n",
    "\n",
    "for mimat in MIMATS:\n",
    "    wcount_df[mimat] = wcount_df[mimat].apply(lambda x: region_count(x))\n",
    "    \n",
    "wcount_df.loc[:, \"count\"] = 0\n",
    "wcount_df.loc[:, \"weighted count\"] = 0\n",
    "for mimat in tqdm.tqdm(MIMATS):\n",
    "    expression = (miRNA_df.loc[mimat, \"CPM\"] / TOTAL_EXPRESSION)\n",
    "    wcount_df[\"count\"] += wcount_df[mimat]\n",
    "    wcount_df[\"weighted count\"] += wcount_df[mimat] * expression"
   ]
  },
  {
   "cell_type": "code",
   "execution_count": 22,
   "id": "2a154c74",
   "metadata": {},
   "outputs": [],
   "source": [
    "# average count of binding regions"
   ]
  },
  {
   "cell_type": "code",
   "execution_count": 23,
   "id": "088aec24",
   "metadata": {},
   "outputs": [
    {
     "data": {
      "image/png": "[encoded data removed]",
      "text/plain": [
       "<Figure size 432x288 with 2 Axes>"
      ]
     },
     "metadata": {
      "needs_background": "light"
     },
     "output_type": "display_data"
    }
   ],
   "source": [
    "plot_df = count_df.loc[count_df[\"region\"] == \"RNA\"].copy()\n",
    "\n",
    "plot_df.index = plot_df[\"strain\"]\n",
    "plot_df = plot_df[MIMATS]\n",
    "plot_df = plot_df.join(meta_df[[\"scorpio_call\", \"lineage\", \"length\"]], how=\"left\")\n",
    "\n",
    "for mimat in MIMATS:\n",
    "    plot_df[mimat] = np.array(plot_df[mimat], dtype=np.float64) * \\\n",
    "        (30331 / np.array(plot_df[\"length\"], dtype=np.float64)) - \\\n",
    "        np.array(wcount_df[mimat], dtype=np.float64)\n",
    "\n",
    "plot_df[\"strain\"] = plot_df[\"scorpio_call\"].str.split(\"(\").str[0] + \"(\" + \\\n",
    "    plot_df[\"lineage\"] + \")\"\n",
    "plot_df.index = plot_df[\"strain\"]\n",
    "plot_df = plot_df[MIMATS]\n",
    "\n",
    "plot_df = plot_df.transpose()\n",
    "\n",
    "miRNA_df.index = miRNA_df[\"MIMAT\"]\n",
    "plot_df = plot_df.join(miRNA_df[[\"miRNA\", \"CPM\"]], how=\"left\").sort_values(by=\"CPM\", ascending=False)\n",
    "plot_df.index = plot_df[\"miRNA\"]\n",
    "plot_df = plot_df.drop(columns=[\"miRNA\", \"CPM\"])\n",
    "\n",
    "plot_df[\"index\"] = plot_df.index\n",
    "miRNA_df.index = miRNA_df[\"miRNA\"]\n",
    "plot_df[\"index\"] = plot_df[\"index\"].apply(lambda x: f\"{x} ({miRNA_df.loc[x]['CPM'] / miRNA_df['CPM'].sum() * 100:.1f}%)\")\n",
    "miRNA_df.index = miRNA_df[\"MIMAT\"]\n",
    "plot_df.index = plot_df[\"index\"]\n",
    "plot_df = plot_df.drop(columns=[\"index\"])\n",
    "\n",
    "bottom = mpl.colormaps['Oranges']\n",
    "top = mpl.colormaps['Blues_r']\n",
    "colors = np.vstack((\n",
    "    top(np.linspace(0, 1, 128 // 2 * 3)),\n",
    "    bottom(np.linspace(0, 1, 128))\n",
    "))\n",
    "cmap = ListedColormap(colors, name='OrangeBlue')\n",
    "\n",
    "sns.heatmap(\n",
    "    plot_df,\n",
    "    cmap=cmap,\n",
    "    # linewidths=1,\n",
    "    # linecolor=\"white\",\n",
    "    cbar_kws={\"label\": \"Отклонение количества регионов\\nсвязывания от Wuhan варианта\"}\n",
    ")\n",
    "\n",
    "plt.yticks(\n",
    "    [0.5 + i for i in range(len(plot_df))],\n",
    "    labels=plot_df.index.to_list(),\n",
    "    fontsize=7\n",
    ")\n",
    "plt.ylabel(\"\")\n",
    "\n",
    "plt.xticks(\n",
    "    fontsize=8,\n",
    "    rotation=45,\n",
    "    ha=\"right\"\n",
    ")\n",
    "\n",
    "plt.tight_layout()\n",
    "plt.savefig(\"../../pictures/miRNA-covid.png\", dpi=500)"
   ]
  },
  {
   "cell_type": "code",
   "execution_count": 24,
   "id": "b0dd4f2f",
   "metadata": {},
   "outputs": [
    {
     "name": "stderr",
     "output_type": "stream",
     "text": [
      "/usr/local/lib/python3.8/dist-packages/seaborn/categorical.py:1296: UserWarning: 15.8% of the points cannot be placed; you may want to decrease the size of the markers or use stripplot.\n",
      "  warnings.warn(msg, UserWarning)\n",
      "/usr/local/lib/python3.8/dist-packages/seaborn/categorical.py:1296: UserWarning: 57.4% of the points cannot be placed; you may want to decrease the size of the markers or use stripplot.\n",
      "  warnings.warn(msg, UserWarning)\n"
     ]
    },
    {
     "data": {
      "image/png": "[encoded data removed]",
      "text/plain": [
       "<Figure size 432x288 with 1 Axes>"
      ]
     },
     "metadata": {
      "needs_background": "light"
     },
     "output_type": "display_data"
    }
   ],
   "source": [
    "plot_df = count_df.loc[count_df[\"region\"] == \"RNA\"].copy()\n",
    "plot_df.index = plot_df[\"strain\"]\n",
    "plot_df = plot_df[[\"weighted count\"]]\n",
    "\n",
    "plot_df = plot_df.join(meta_df[[\"scorpio_call\", \"lineage\", \"group\", \"length\"]], how=\"left\")\n",
    "plot_df.loc[plot_df[\"group\"] == \"first\", \"group\"] = \"Ранние штаммы\"\n",
    "plot_df.loc[plot_df[\"group\"] == \"second\", \"group\"] = \"Штаммы Omicron\"\n",
    "plot_df = plot_df.rename(columns={\n",
    "    \"scorpio_call\": \"Штамм\"\n",
    "})\n",
    "\n",
    "plot_df[\"weighted count\"] = plot_df[\"weighted count\"] * 30331 / plot_df[\"length\"]\n",
    "\n",
    "top = mpl.colormaps['Blues_r']\n",
    "bottom = mpl.colormaps['Oranges']\n",
    "colors = np.vstack((\n",
    "    bottom(np.linspace(0.5, 0.8, 2)),\n",
    "    top(np.linspace(0.1, 0.9, 6)),\n",
    "))\n",
    "cmap = ListedColormap(colors, name='OrangeBlue')\n",
    "\n",
    "ax = sns.swarmplot(\n",
    "    y=\"weighted count\",\n",
    "    x=\"group\",\n",
    "    hue=\"Штамм\",\n",
    "    data=plot_df,\n",
    "    palette=cmap.colors,\n",
    ")\n",
    "\n",
    "ax.set_xlabel(\"\")\n",
    "ax.set_ylabel(\"Количество регионов связывания\\nна 100 микроРНК\")\n",
    "\n",
    "ax.set_yticks(\n",
    "    [6.8, 7.0, 7.2, 7.4, 7.6, 7.8],\n",
    "    [680, 700, 720, 740, 760, 780]\n",
    ")\n",
    "\n",
    "plt.xticks(\n",
    "    fontsize=8,\n",
    "    rotation=45,\n",
    "    ha=\"right\"\n",
    ")\n",
    "\n",
    "ax.get_legend().remove()\n",
    "plt.grid()\n",
    "plt.tight_layout()\n",
    "plt.savefig(\"../../pictures/covid-weighted.png\", dpi=500)"
   ]
  },
  {
   "cell_type": "code",
   "execution_count": 25,
   "id": "8c32bf4e",
   "metadata": {},
   "outputs": [],
   "source": [
    "# seed region distribution"
   ]
  },
  {
   "cell_type": "code",
   "execution_count": 26,
   "id": "d8e2c480",
   "metadata": {},
   "outputs": [],
   "source": [
    "seed_df = pd.read_csv(\"../../results/russia_mos_LUAD/seed.csv\", sep=\";\", index_col=0)\n",
    "seed_df.index = seed_df.index.str.lstrip(\">\")\n",
    "seed_df = seed_df.loc[STRAINS][MIMATS]\n",
    "\n",
    "seed_df = seed_df.join(meta_df[[\"lineage\", \"length\", \"days\", \"group\"]], how=\"left\")"
   ]
  },
  {
   "cell_type": "code",
   "execution_count": 27,
   "id": "fd7c8683",
   "metadata": {},
   "outputs": [],
   "source": [
    "first_group = seed_df.loc[seed_df[\"group\"] == \"first\"]\n",
    "second_group = seed_df.loc[seed_df[\"group\"] == \"second\"]"
   ]
  },
  {
   "cell_type": "code",
   "execution_count": 28,
   "id": "0e9497ed",
   "metadata": {},
   "outputs": [
    {
     "data": {
      "text/html": [
       "<div>\n",
       "<style scoped>\n",
       "    .dataframe tbody tr th:only-of-type {\n",
       "        vertical-align: middle;\n",
       "    }\n",
       "\n",
       "    .dataframe tbody tr th {\n",
       "        vertical-align: top;\n",
       "    }\n",
       "\n",
       "    .dataframe thead th {\n",
       "        text-align: right;\n",
       "    }\n",
       "</style>\n",
       "<table border=\"1\" class=\"dataframe\">\n",
       "  <thead>\n",
       "    <tr style=\"text-align: right;\">\n",
       "      <th></th>\n",
       "      <th>group</th>\n",
       "      <th>seed</th>\n",
       "    </tr>\n",
       "  </thead>\n",
       "  <tbody>\n",
       "    <tr>\n",
       "      <th>0</th>\n",
       "      <td>first</td>\n",
       "      <td>9860</td>\n",
       "    </tr>\n",
       "    <tr>\n",
       "      <th>1</th>\n",
       "      <td>first</td>\n",
       "      <td>12449</td>\n",
       "    </tr>\n",
       "    <tr>\n",
       "      <th>2</th>\n",
       "      <td>first</td>\n",
       "      <td>19060</td>\n",
       "    </tr>\n",
       "    <tr>\n",
       "      <th>3</th>\n",
       "      <td>first</td>\n",
       "      <td>9860</td>\n",
       "    </tr>\n",
       "    <tr>\n",
       "      <th>4</th>\n",
       "      <td>first</td>\n",
       "      <td>12449</td>\n",
       "    </tr>\n",
       "  </tbody>\n",
       "</table>\n",
       "</div>"
      ],
      "text/plain": [
       "   group   seed\n",
       "0  first   9860\n",
       "1  first  12449\n",
       "2  first  19060\n",
       "3  first   9860\n",
       "4  first  12449"
      ]
     },
     "execution_count": 28,
     "metadata": {},
     "output_type": "execute_result"
    }
   ],
   "source": [
    "def extract(seeds):\n",
    "    seeds = seeds.lstrip(\"[\").rstrip(\"]\").split(\", \")\n",
    "    seeds = list(map(int, [s for s in seeds if s]))\n",
    "    return seeds\n",
    "\n",
    "result_df = pd.DataFrame(columns=[\"group\", \"seed\", \"miRNA\"])\n",
    "for name, group in zip((\"first\", \"second\"), (first_group, second_group)):\n",
    "    coords = []\n",
    "    for mimat in MIMATS:\n",
    "        expression = int(miRNA_df.loc[mimat][\"CPM\"] / TOTAL_EXPRESSION * 100)\n",
    "        seeds = group[mimat].apply(lambda x: extract(x) * expression).to_list()\n",
    "        append = []\n",
    "        for s in seeds:\n",
    "            append += s\n",
    "        \n",
    "        append_df = pd.DataFrame(columns=result_df.columns)\n",
    "        append_df[\"seed\"] = append\n",
    "        append_df.loc[:, \"group\"] = name    \n",
    "        result_df = pd.concat([result_df, append_df], ignore_index=True)\n",
    "        \n",
    "result_df.head()"
   ]
  },
  {
   "cell_type": "code",
   "execution_count": 29,
   "id": "22a43dff",
   "metadata": {},
   "outputs": [
    {
     "name": "stderr",
     "output_type": "stream",
     "text": [
      "/usr/local/lib/python3.8/dist-packages/seaborn/_core.py:163: FutureWarning: elementwise comparison failed; returning scalar instead, but in the future will perform elementwise comparison\n",
      "  if palette in QUAL_PALETTES:\n"
     ]
    },
    {
     "data": {
      "image/png": "[encoded data removed]",
      "text/plain": [
       "<Figure size 864x288 with 2 Axes>"
      ]
     },
     "metadata": {
      "needs_background": "light"
     },
     "output_type": "display_data"
    }
   ],
   "source": [
    "plot_df = result_df.copy()\n",
    "plot_df.loc[plot_df[\"group\"] == \"first\", \"group\"] = \"Ранние штаммы\"\n",
    "plot_df.loc[plot_df[\"group\"] == \"second\", \"group\"] = \"Штаммы Omicron\"\n",
    "plot_df = plot_df.rename(columns={\n",
    "    \"group\": \"Группа\"\n",
    "})\n",
    "\n",
    "fig, ax = plt.subplots(figsize=(12, 4))\n",
    "\n",
    "ax.set_ylabel(\"Количество регионов связывания\\nна 100 молекул микроРНК\")\n",
    "ax.set_xlabel(\"Координата на РНК Wuhan варианта\") \n",
    "ax.set_xlim(0, 30330)\n",
    "\n",
    "annotation = {\n",
    "    \"NSP1\": \"266-805\",\n",
    "    \"NSP2\": \"806-2719\",\n",
    "    \"NSP3\": \"2720-8554\",\n",
    "    \"NSP4\": \"8555-10054\",\n",
    "    \"NSP5\": \"10055-10972\",\n",
    "    # \"NSP6\": \"10973-11842\",\n",
    "    # \"NSP7\": \"11843-12091\",\n",
    "    # \"NSP8\": \"12092-12685\",\n",
    "    \"NSP6-8\": \"10973-12685\",\n",
    "    # \"NSP9\": \"12686-13024\",\n",
    "    # \"NSP10\": \"13025-13441\",\n",
    "    # \"NSP11\": \"13442-13480\",\n",
    "    \"NSP9-11\": \"12686-13480\",\n",
    "    # \"NSP12\": \"13442-13468\",\n",
    "    \"NSP12\": \"13468-16236\",\n",
    "    \"NSP13\": \"16237-18039\",\n",
    "    \"NSP14\": \"18040-19620\",\n",
    "    \"NSP15\": \"19621-20658\",\n",
    "    \"NSP16\": \"20659-21552\",\n",
    "    \"Spike\": \"21563-25384\",\n",
    "    \"NS3\": \"25393-26220\",\n",
    "    \"E\": \"26245-26472\",\n",
    "    \"M\": \"26523-27191\",\n",
    "    # \"NS6\": \"27202-27387\",\n",
    "    # \"NS7a\": \"27394-27759\",\n",
    "    # \"NS7b\": \"27756-27887\",\n",
    "    # \"NS8\": \"27894-28259\",\n",
    "    \"NS6-8\": \"27202-28295\",\n",
    "    \"N, NS9*\": \"28274-29533\",\n",
    "    # \"NS9b\": \"28284-28577\",\n",
    "    # \"NS9c\": \"28734-28955\"\n",
    "}\n",
    "\n",
    "axsub = ax.twiny()\n",
    "axsub.xaxis.set_ticks_position('bottom')\n",
    "axsub.spines['bottom'].set_position(('outward', 36))\n",
    "\n",
    "ticks = []\n",
    "centers = []\n",
    "proteins = []\n",
    "for protein, region in annotation.items():\n",
    "    start, end = map(int, region.split(\"-\"))\n",
    "    ticks.append(start - 1)\n",
    "    ticks.append(end - 1)\n",
    "    \n",
    "    center = (start + end - 2) // 2\n",
    "    centers.append(center)\n",
    "    proteins.append(protein)\n",
    "\n",
    "i = 0\n",
    "while i < len(ticks):\n",
    "    axsub.axvspan(ticks[i], ticks[i + 1], alpha=0.2, color=\"lightgrey\")\n",
    "    i += 4\n",
    "\n",
    "top = mpl.colormaps['Blues_r']\n",
    "bottom = mpl.colormaps['Oranges']\n",
    "colors = np.vstack((\n",
    "    top(np.linspace(0.3, 1, 1)),\n",
    "    bottom(np.linspace(0.55, 1, 1))\n",
    "))\n",
    "cmap = ListedColormap(colors, name='OrangeBlue')\n",
    "    \n",
    "sns.histplot(\n",
    "    x=\"seed\",\n",
    "    hue=\"Группа\",\n",
    "    hue_order=[\"Штаммы Omicron\", \"Ранние штаммы\"],\n",
    "    data=plot_df,\n",
    "    stat=\"probability\",\n",
    "    common_norm=False,\n",
    "    bins=100,\n",
    "    palette=cmap.colors,\n",
    "    alpha=0.6,\n",
    "    ax=axsub\n",
    ")\n",
    "\n",
    "axsub.set_xlim(0, 30330)\n",
    "    \n",
    "axsub.set_xticks(\n",
    "    centers,\n",
    "    labels=proteins,\n",
    "    rotation=45,\n",
    "    ha=\"center\"\n",
    ")\n",
    "\n",
    "axsub.set_xlabel(\"\")\n",
    "\n",
    "ax.set_yticks(\n",
    "    [i / 100 for i in range(0, 9, 2)],\n",
    "    labels=[i for i in range(0, 9, 2)]\n",
    ")\n",
    "\n",
    "plt.tight_layout()\n",
    "plt.savefig(\"../../pictures/seed-distribution-test.png\", dpi=500)"
   ]
  },
  {
   "cell_type": "code",
   "execution_count": 30,
   "id": "5e906a80",
   "metadata": {},
   "outputs": [],
   "source": [
    "# proteins contribution"
   ]
  },
  {
   "cell_type": "code",
   "execution_count": 31,
   "id": "748b15ad",
   "metadata": {},
   "outputs": [],
   "source": [
    "result_df = pd.DataFrame(columns=[\n",
    "    \"region\", \"length\",\n",
    "    \"first weighted\", \"second weighted\",\n",
    "    \"first count\", \"second count\",\n",
    "    \"p-value\"\n",
    "])\n",
    "\n",
    "for protein in PROTEINS:\n",
    "    if protein == \"RNA\":\n",
    "        length = 30331\n",
    "    else:\n",
    "        length = list(map(int, ANNOTATION[protein].split(\"-\")))\n",
    "        length = length[1] - length[0] + 1\n",
    "    \n",
    "    df = count_df.loc[count_df[\"region\"] == protein]\n",
    "    df.index = df[\"strain\"]\n",
    "    df = df.join(meta_df[[\"group\", \"length\"]], how=\"left\")\n",
    "    df = df.drop(columns=[\"strain\"]).reset_index()\n",
    "    \n",
    "    first_group = df.loc[df[\"group\"] == \"first\"][[\n",
    "        \"strain\", \"weighted count\", \"count\"\n",
    "    ]].groupby(\"strain\").sum()\n",
    "    second_group = df.loc[df[\"group\"] == \"second\"][[\n",
    "        \"strain\", \"weighted count\", \"count\"\n",
    "    ]].groupby(\"strain\").sum()\n",
    "    \n",
    "    try:\n",
    "        stat, pv = mannwhitneyu(\n",
    "            first_group[\"weighted count\"],\n",
    "            second_group[\"weighted count\"]\n",
    "        )\n",
    "    except:\n",
    "        pv = 1\n",
    "        \n",
    "    append_df = pd.DataFrame(\n",
    "        columns=result_df.columns.to_list(),\n",
    "        data=[[\n",
    "            protein,\n",
    "            length,\n",
    "            first_group[\"weighted count\"].mean(),\n",
    "            second_group[\"weighted count\"].mean(),\n",
    "            first_group[\"count\"].mean(),\n",
    "            second_group[\"count\"].mean(),\n",
    "            pv\n",
    "        ]]\n",
    "    )\n",
    "    \n",
    "    result_df = pd.concat([result_df, append_df], ignore_index=True)\n",
    "\n",
    "result_df[\"fdr\"] = np.array(result_df[\"p-value\"]) * len(result_df) / rankdata(result_df[\"p-value\"])\n",
    "result_df.loc[result_df[\"fdr\"] > 1, \"fdr\"] = 1"
   ]
  },
  {
   "cell_type": "code",
   "execution_count": 32,
   "id": "58e86f59",
   "metadata": {},
   "outputs": [
    {
     "data": {
      "text/html": [
       "<div>\n",
       "<style scoped>\n",
       "    .dataframe tbody tr th:only-of-type {\n",
       "        vertical-align: middle;\n",
       "    }\n",
       "\n",
       "    .dataframe tbody tr th {\n",
       "        vertical-align: top;\n",
       "    }\n",
       "\n",
       "    .dataframe thead th {\n",
       "        text-align: right;\n",
       "    }\n",
       "</style>\n",
       "<table border=\"1\" class=\"dataframe\">\n",
       "  <thead>\n",
       "    <tr style=\"text-align: right;\">\n",
       "      <th></th>\n",
       "      <th>region</th>\n",
       "      <th>length</th>\n",
       "      <th>first weighted</th>\n",
       "      <th>second weighted</th>\n",
       "      <th>first count</th>\n",
       "      <th>second count</th>\n",
       "      <th>p-value</th>\n",
       "      <th>fdr</th>\n",
       "    </tr>\n",
       "  </thead>\n",
       "  <tbody>\n",
       "    <tr>\n",
       "      <th>29</th>\n",
       "      <td>RNA</td>\n",
       "      <td>30331</td>\n",
       "      <td>7.238775</td>\n",
       "      <td>7.118004</td>\n",
       "      <td>313.894737</td>\n",
       "      <td>310.912037</td>\n",
       "      <td>3.601312e-25</td>\n",
       "      <td>1.800656e-24</td>\n",
       "    </tr>\n",
       "    <tr>\n",
       "      <th>3</th>\n",
       "      <td>NSP3</td>\n",
       "      <td>5835</td>\n",
       "      <td>1.063644</td>\n",
       "      <td>1.065798</td>\n",
       "      <td>50.771930</td>\n",
       "      <td>51.046296</td>\n",
       "      <td>9.787041e-04</td>\n",
       "      <td>3.670140e-03</td>\n",
       "    </tr>\n",
       "    <tr>\n",
       "      <th>4</th>\n",
       "      <td>NSP4</td>\n",
       "      <td>1500</td>\n",
       "      <td>0.855808</td>\n",
       "      <td>0.847009</td>\n",
       "      <td>21.912281</td>\n",
       "      <td>21.837963</td>\n",
       "      <td>2.616825e-01</td>\n",
       "      <td>4.361375e-01</td>\n",
       "    </tr>\n",
       "    <tr>\n",
       "      <th>17</th>\n",
       "      <td>Spike</td>\n",
       "      <td>3822</td>\n",
       "      <td>0.839587</td>\n",
       "      <td>0.835369</td>\n",
       "      <td>42.228070</td>\n",
       "      <td>42.055556</td>\n",
       "      <td>2.956951e-01</td>\n",
       "      <td>4.668870e-01</td>\n",
       "    </tr>\n",
       "    <tr>\n",
       "      <th>14</th>\n",
       "      <td>NSP14</td>\n",
       "      <td>1581</td>\n",
       "      <td>0.749164</td>\n",
       "      <td>0.749991</td>\n",
       "      <td>21.964912</td>\n",
       "      <td>22.000000</td>\n",
       "      <td>9.076789e-01</td>\n",
       "      <td>1.000000e+00</td>\n",
       "    </tr>\n",
       "    <tr>\n",
       "      <th>12</th>\n",
       "      <td>NSP12</td>\n",
       "      <td>2769</td>\n",
       "      <td>0.520763</td>\n",
       "      <td>0.521934</td>\n",
       "      <td>10.912281</td>\n",
       "      <td>10.995370</td>\n",
       "      <td>7.309553e-03</td>\n",
       "      <td>2.192866e-02</td>\n",
       "    </tr>\n",
       "    <tr>\n",
       "      <th>21</th>\n",
       "      <td>NS6</td>\n",
       "      <td>186</td>\n",
       "      <td>0.407872</td>\n",
       "      <td>0.413234</td>\n",
       "      <td>0.982456</td>\n",
       "      <td>0.995370</td>\n",
       "      <td>3.131012e-01</td>\n",
       "      <td>4.696518e-01</td>\n",
       "    </tr>\n",
       "    <tr>\n",
       "      <th>13</th>\n",
       "      <td>NSP13</td>\n",
       "      <td>1803</td>\n",
       "      <td>0.402112</td>\n",
       "      <td>0.386294</td>\n",
       "      <td>30.964912</td>\n",
       "      <td>29.791667</td>\n",
       "      <td>3.484561e-15</td>\n",
       "      <td>1.493383e-14</td>\n",
       "    </tr>\n",
       "    <tr>\n",
       "      <th>15</th>\n",
       "      <td>NSP15</td>\n",
       "      <td>1038</td>\n",
       "      <td>0.337228</td>\n",
       "      <td>0.311361</td>\n",
       "      <td>19.982456</td>\n",
       "      <td>18.050926</td>\n",
       "      <td>4.000911e-53</td>\n",
       "      <td>1.200273e-51</td>\n",
       "    </tr>\n",
       "    <tr>\n",
       "      <th>5</th>\n",
       "      <td>NSP5</td>\n",
       "      <td>918</td>\n",
       "      <td>0.327328</td>\n",
       "      <td>0.326974</td>\n",
       "      <td>14.035088</td>\n",
       "      <td>14.000000</td>\n",
       "      <td>5.929397e-03</td>\n",
       "      <td>1.976466e-02</td>\n",
       "    </tr>\n",
       "    <tr>\n",
       "      <th>8</th>\n",
       "      <td>NSP8</td>\n",
       "      <td>594</td>\n",
       "      <td>0.205191</td>\n",
       "      <td>0.205204</td>\n",
       "      <td>6.000000</td>\n",
       "      <td>6.004630</td>\n",
       "      <td>6.137774e-01</td>\n",
       "      <td>8.005792e-01</td>\n",
       "    </tr>\n",
       "    <tr>\n",
       "      <th>25</th>\n",
       "      <td>N</td>\n",
       "      <td>1260</td>\n",
       "      <td>0.195383</td>\n",
       "      <td>0.195984</td>\n",
       "      <td>14.070175</td>\n",
       "      <td>14.995370</td>\n",
       "      <td>4.832464e-44</td>\n",
       "      <td>3.624348e-43</td>\n",
       "    </tr>\n",
       "    <tr>\n",
       "      <th>2</th>\n",
       "      <td>NSP2</td>\n",
       "      <td>1914</td>\n",
       "      <td>0.191462</td>\n",
       "      <td>0.185173</td>\n",
       "      <td>10.122807</td>\n",
       "      <td>9.064815</td>\n",
       "      <td>3.359405e-36</td>\n",
       "      <td>2.015643e-35</td>\n",
       "    </tr>\n",
       "    <tr>\n",
       "      <th>6</th>\n",
       "      <td>NSP6</td>\n",
       "      <td>870</td>\n",
       "      <td>0.185958</td>\n",
       "      <td>0.113817</td>\n",
       "      <td>9.877193</td>\n",
       "      <td>9.018519</td>\n",
       "      <td>6.121203e-47</td>\n",
       "      <td>6.121203e-46</td>\n",
       "    </tr>\n",
       "    <tr>\n",
       "      <th>16</th>\n",
       "      <td>NSP16</td>\n",
       "      <td>894</td>\n",
       "      <td>0.153892</td>\n",
       "      <td>0.153892</td>\n",
       "      <td>6.000000</td>\n",
       "      <td>6.000000</td>\n",
       "      <td>1.000000e+00</td>\n",
       "      <td>1.000000e+00</td>\n",
       "    </tr>\n",
       "    <tr>\n",
       "      <th>24</th>\n",
       "      <td>NS8</td>\n",
       "      <td>366</td>\n",
       "      <td>0.137918</td>\n",
       "      <td>0.140717</td>\n",
       "      <td>7.052632</td>\n",
       "      <td>7.986111</td>\n",
       "      <td>1.151935e-51</td>\n",
       "      <td>1.727903e-50</td>\n",
       "    </tr>\n",
       "    <tr>\n",
       "      <th>18</th>\n",
       "      <td>NS3</td>\n",
       "      <td>828</td>\n",
       "      <td>0.122957</td>\n",
       "      <td>0.123967</td>\n",
       "      <td>9.894737</td>\n",
       "      <td>9.981481</td>\n",
       "      <td>4.299090e-02</td>\n",
       "      <td>1.172479e-01</td>\n",
       "    </tr>\n",
       "    <tr>\n",
       "      <th>20</th>\n",
       "      <td>M</td>\n",
       "      <td>669</td>\n",
       "      <td>0.105405</td>\n",
       "      <td>0.105040</td>\n",
       "      <td>6.017544</td>\n",
       "      <td>5.986111</td>\n",
       "      <td>8.360127e-02</td>\n",
       "      <td>1.791456e-01</td>\n",
       "    </tr>\n",
       "    <tr>\n",
       "      <th>19</th>\n",
       "      <td>E</td>\n",
       "      <td>228</td>\n",
       "      <td>0.101872</td>\n",
       "      <td>0.101872</td>\n",
       "      <td>6.000000</td>\n",
       "      <td>6.000000</td>\n",
       "      <td>1.000000e+00</td>\n",
       "      <td>1.000000e+00</td>\n",
       "    </tr>\n",
       "    <tr>\n",
       "      <th>28</th>\n",
       "      <td>3P</td>\n",
       "      <td>798</td>\n",
       "      <td>0.075518</td>\n",
       "      <td>0.075825</td>\n",
       "      <td>5.035088</td>\n",
       "      <td>5.125000</td>\n",
       "      <td>7.999153e-02</td>\n",
       "      <td>1.845958e-01</td>\n",
       "    </tr>\n",
       "    <tr>\n",
       "      <th>27</th>\n",
       "      <td>NS9c</td>\n",
       "      <td>222</td>\n",
       "      <td>0.072160</td>\n",
       "      <td>0.072295</td>\n",
       "      <td>5.982456</td>\n",
       "      <td>5.986111</td>\n",
       "      <td>3.161770e-01</td>\n",
       "      <td>4.411772e-01</td>\n",
       "    </tr>\n",
       "    <tr>\n",
       "      <th>26</th>\n",
       "      <td>NS9b</td>\n",
       "      <td>294</td>\n",
       "      <td>0.067385</td>\n",
       "      <td>0.068132</td>\n",
       "      <td>3.000000</td>\n",
       "      <td>3.046296</td>\n",
       "      <td>2.488485e-01</td>\n",
       "      <td>4.391444e-01</td>\n",
       "    </tr>\n",
       "    <tr>\n",
       "      <th>9</th>\n",
       "      <td>NSP9</td>\n",
       "      <td>339</td>\n",
       "      <td>0.054676</td>\n",
       "      <td>0.053392</td>\n",
       "      <td>4.052632</td>\n",
       "      <td>3.990741</td>\n",
       "      <td>8.768767e-02</td>\n",
       "      <td>1.753753e-01</td>\n",
       "    </tr>\n",
       "    <tr>\n",
       "      <th>11</th>\n",
       "      <td>NSP11</td>\n",
       "      <td>39</td>\n",
       "      <td>0.052600</td>\n",
       "      <td>0.052600</td>\n",
       "      <td>2.000000</td>\n",
       "      <td>2.000000</td>\n",
       "      <td>1.000000e+00</td>\n",
       "      <td>1.000000e+00</td>\n",
       "    </tr>\n",
       "    <tr>\n",
       "      <th>7</th>\n",
       "      <td>NSP7</td>\n",
       "      <td>249</td>\n",
       "      <td>0.048770</td>\n",
       "      <td>0.048770</td>\n",
       "      <td>4.000000</td>\n",
       "      <td>4.000000</td>\n",
       "      <td>1.000000e+00</td>\n",
       "      <td>1.000000e+00</td>\n",
       "    </tr>\n",
       "    <tr>\n",
       "      <th>22</th>\n",
       "      <td>NS7a</td>\n",
       "      <td>366</td>\n",
       "      <td>0.032553</td>\n",
       "      <td>0.032416</td>\n",
       "      <td>3.000000</td>\n",
       "      <td>2.972222</td>\n",
       "      <td>2.054143e-01</td>\n",
       "      <td>3.851518e-01</td>\n",
       "    </tr>\n",
       "    <tr>\n",
       "      <th>0</th>\n",
       "      <td>5P</td>\n",
       "      <td>265</td>\n",
       "      <td>0.024810</td>\n",
       "      <td>0.024810</td>\n",
       "      <td>2.000000</td>\n",
       "      <td>2.000000</td>\n",
       "      <td>1.000000e+00</td>\n",
       "      <td>1.000000e+00</td>\n",
       "    </tr>\n",
       "    <tr>\n",
       "      <th>10</th>\n",
       "      <td>NSP10</td>\n",
       "      <td>417</td>\n",
       "      <td>0.021171</td>\n",
       "      <td>0.021171</td>\n",
       "      <td>2.000000</td>\n",
       "      <td>2.000000</td>\n",
       "      <td>1.000000e+00</td>\n",
       "      <td>1.000000e+00</td>\n",
       "    </tr>\n",
       "    <tr>\n",
       "      <th>1</th>\n",
       "      <td>NSP1</td>\n",
       "      <td>540</td>\n",
       "      <td>0.020020</td>\n",
       "      <td>0.020242</td>\n",
       "      <td>2.017544</td>\n",
       "      <td>2.013889</td>\n",
       "      <td>3.161770e-01</td>\n",
       "      <td>4.411772e-01</td>\n",
       "    </tr>\n",
       "    <tr>\n",
       "      <th>23</th>\n",
       "      <td>NS7b</td>\n",
       "      <td>132</td>\n",
       "      <td>0.005058</td>\n",
       "      <td>0.005149</td>\n",
       "      <td>0.982456</td>\n",
       "      <td>1.000000</td>\n",
       "      <td>5.266658e-02</td>\n",
       "      <td>1.316664e-01</td>\n",
       "    </tr>\n",
       "  </tbody>\n",
       "</table>\n",
       "</div>"
      ],
      "text/plain": [
       "   region length  first weighted  second weighted  first count  second count  \\\n",
       "29    RNA  30331        7.238775         7.118004   313.894737    310.912037   \n",
       "3    NSP3   5835        1.063644         1.065798    50.771930     51.046296   \n",
       "4    NSP4   1500        0.855808         0.847009    21.912281     21.837963   \n",
       "17  Spike   3822        0.839587         0.835369    42.228070     42.055556   \n",
       "14  NSP14   1581        0.749164         0.749991    21.964912     22.000000   \n",
       "12  NSP12   2769        0.520763         0.521934    10.912281     10.995370   \n",
       "21    NS6    186        0.407872         0.413234     0.982456      0.995370   \n",
       "13  NSP13   1803        0.402112         0.386294    30.964912     29.791667   \n",
       "15  NSP15   1038        0.337228         0.311361    19.982456     18.050926   \n",
       "5    NSP5    918        0.327328         0.326974    14.035088     14.000000   \n",
       "8    NSP8    594        0.205191         0.205204     6.000000      6.004630   \n",
       "25      N   1260        0.195383         0.195984    14.070175     14.995370   \n",
       "2    NSP2   1914        0.191462         0.185173    10.122807      9.064815   \n",
       "6    NSP6    870        0.185958         0.113817     9.877193      9.018519   \n",
       "16  NSP16    894        0.153892         0.153892     6.000000      6.000000   \n",
       "24    NS8    366        0.137918         0.140717     7.052632      7.986111   \n",
       "18    NS3    828        0.122957         0.123967     9.894737      9.981481   \n",
       "20      M    669        0.105405         0.105040     6.017544      5.986111   \n",
       "19      E    228        0.101872         0.101872     6.000000      6.000000   \n",
       "28     3P    798        0.075518         0.075825     5.035088      5.125000   \n",
       "27   NS9c    222        0.072160         0.072295     5.982456      5.986111   \n",
       "26   NS9b    294        0.067385         0.068132     3.000000      3.046296   \n",
       "9    NSP9    339        0.054676         0.053392     4.052632      3.990741   \n",
       "11  NSP11     39        0.052600         0.052600     2.000000      2.000000   \n",
       "7    NSP7    249        0.048770         0.048770     4.000000      4.000000   \n",
       "22   NS7a    366        0.032553         0.032416     3.000000      2.972222   \n",
       "0      5P    265        0.024810         0.024810     2.000000      2.000000   \n",
       "10  NSP10    417        0.021171         0.021171     2.000000      2.000000   \n",
       "1    NSP1    540        0.020020         0.020242     2.017544      2.013889   \n",
       "23   NS7b    132        0.005058         0.005149     0.982456      1.000000   \n",
       "\n",
       "         p-value           fdr  \n",
       "29  3.601312e-25  1.800656e-24  \n",
       "3   9.787041e-04  3.670140e-03  \n",
       "4   2.616825e-01  4.361375e-01  \n",
       "17  2.956951e-01  4.668870e-01  \n",
       "14  9.076789e-01  1.000000e+00  \n",
       "12  7.309553e-03  2.192866e-02  \n",
       "21  3.131012e-01  4.696518e-01  \n",
       "13  3.484561e-15  1.493383e-14  \n",
       "15  4.000911e-53  1.200273e-51  \n",
       "5   5.929397e-03  1.976466e-02  \n",
       "8   6.137774e-01  8.005792e-01  \n",
       "25  4.832464e-44  3.624348e-43  \n",
       "2   3.359405e-36  2.015643e-35  \n",
       "6   6.121203e-47  6.121203e-46  \n",
       "16  1.000000e+00  1.000000e+00  \n",
       "24  1.151935e-51  1.727903e-50  \n",
       "18  4.299090e-02  1.172479e-01  \n",
       "20  8.360127e-02  1.791456e-01  \n",
       "19  1.000000e+00  1.000000e+00  \n",
       "28  7.999153e-02  1.845958e-01  \n",
       "27  3.161770e-01  4.411772e-01  \n",
       "26  2.488485e-01  4.391444e-01  \n",
       "9   8.768767e-02  1.753753e-01  \n",
       "11  1.000000e+00  1.000000e+00  \n",
       "7   1.000000e+00  1.000000e+00  \n",
       "22  2.054143e-01  3.851518e-01  \n",
       "0   1.000000e+00  1.000000e+00  \n",
       "10  1.000000e+00  1.000000e+00  \n",
       "1   3.161770e-01  4.411772e-01  \n",
       "23  5.266658e-02  1.316664e-01  "
      ]
     },
     "execution_count": 32,
     "metadata": {},
     "output_type": "execute_result"
    }
   ],
   "source": [
    "result_df.sort_values(by=[\"first weighted\"], ascending=False)"
   ]
  },
  {
   "cell_type": "code",
   "execution_count": 33,
   "id": "cd31bdd1",
   "metadata": {},
   "outputs": [
    {
     "name": "stdout",
     "output_type": "stream",
     "text": [
      "& region & length & first weighted & second weighted & fdr \\\\\n",
      "\\hline\n",
      "& NSP15 & 1038 & 33.72 & 31.14 & 0.0000 \\\\\n",
      "\\hline\n",
      "& NS8 & 366 & 13.79 & 14.07 & 0.0000 \\\\\n",
      "\\hline\n",
      "& NSP6 & 870 & 18.60 & 11.38 & 0.0000 \\\\\n",
      "\\hline\n",
      "& N & 1260 & 19.54 & 19.60 & 0.0000 \\\\\n",
      "\\hline\n",
      "& NSP2 & 1914 & 19.15 & 18.52 & 0.0000 \\\\\n",
      "\\hline\n",
      "& RNA & 30331 & 723.88 & 711.80 & 0.0000 \\\\\n",
      "\\hline\n",
      "& NSP13 & 1803 & 40.21 & 38.63 & 0.0000 \\\\\n",
      "\\hline\n",
      "& NSP3 & 5835 & 106.36 & 106.58 & 0.0037 \\\\\n",
      "\\hline\n",
      "& NSP5 & 918 & 32.73 & 32.70 & 0.0198 \\\\\n",
      "\\hline\n",
      "& NSP12 & 2769 & 52.08 & 52.19 & 0.0219 \\\\\n",
      "\\hline\n"
     ]
    }
   ],
   "source": [
    "print_df = result_df.drop(columns=[\"first count\", \"second count\", \"p-value\"])\n",
    "print_df[\"first weighted\"] *= 100\n",
    "print_df[\"second weighted\"] *= 100\n",
    "print_df = print_df.loc[print_df[\"fdr\"] < 0.05].sort_values(\n",
    "    by=[\"fdr\"]\n",
    ")\n",
    "for column in print_df.columns:\n",
    "    print(f\"& {column} \", end=\"\")\n",
    "print(\"\\\\\\\\\")\n",
    "print(\"\\\\hline\")\n",
    "\n",
    "for i, row in print_df.iterrows():\n",
    "    for column in print_df.columns:\n",
    "        if column == \"fdr\":\n",
    "            print(f\"& {float(row[column]):.4f} \", end=\"\")\n",
    "        elif column not in [\"region\", \"length\"]:\n",
    "            print(f\"& {float(row[column]):.2f} \", end=\"\")\n",
    "        else:\n",
    "            print(f\"& {row[column]} \", end=\"\")\n",
    "    print(\"\\\\\\\\\")\n",
    "    print(\"\\\\hline\")"
   ]
  },
  {
   "cell_type": "code",
   "execution_count": 34,
   "id": "28cf0dfc",
   "metadata": {},
   "outputs": [
    {
     "name": "stdout",
     "output_type": "stream",
     "text": [
      "   region length  first weighted  second weighted           fdr\n",
      "15  NSP15   1038       33.722776        31.136055  1.200273e-51\n",
      "24    NS8    366       13.791845        14.071688  1.727903e-50\n",
      "6    NSP6    870       18.595850        11.381682  6.121203e-46\n",
      "25      N   1260       19.538328        19.598403  3.624348e-43\n",
      "2    NSP2   1914       19.146248        18.517252  2.015643e-35\n",
      "29    RNA  30331      723.877464       711.800443  1.800656e-24\n",
      "13  NSP13   1803       40.211226        38.629386  1.493383e-14\n",
      "3    NSP3   5835      106.364385       106.579838  3.670140e-03\n",
      "5    NSP5    918       32.732752        32.697407  1.976466e-02\n",
      "12  NSP12   2769       52.076326        52.193441  2.192866e-02\n"
     ]
    }
   ],
   "source": [
    "print_df = result_df.drop(columns=[\"first count\", \"second count\", \"p-value\"])\n",
    "print_df[\"first weighted\"] *= 100\n",
    "print_df[\"second weighted\"] *= 100\n",
    "print_df = print_df.loc[print_df[\"fdr\"] < 0.05].sort_values(\n",
    "    by=[\"fdr\"]\n",
    ")\n",
    "print(print_df)"
   ]
  },
  {
   "cell_type": "code",
   "execution_count": 35,
   "id": "934cb6b4",
   "metadata": {},
   "outputs": [
    {
     "data": {
      "text/plain": [
       "first weighted     7.378267\n",
       "second weighted    7.258431\n",
       "dtype: float64"
      ]
     },
     "execution_count": 35,
     "metadata": {},
     "output_type": "execute_result"
    }
   ],
   "source": [
    "result_df.loc[result_df[\"region\"] != \"RNA\"][[\"first weighted\", \"second weighted\"]].sum()"
   ]
  },
  {
   "cell_type": "code",
   "execution_count": 36,
   "id": "e99e24f2",
   "metadata": {},
   "outputs": [
    {
     "data": {
      "text/plain": [
       "first count     313.894737\n",
       "second count    310.912037\n",
       "dtype: float64"
      ]
     },
     "execution_count": 36,
     "metadata": {},
     "output_type": "execute_result"
    }
   ],
   "source": [
    "result_df.loc[result_df[\"region\"] == \"RNA\"][[\"first count\", \"second count\"]].sum()"
   ]
  },
  {
   "cell_type": "code",
   "execution_count": 37,
   "id": "740f04a8",
   "metadata": {},
   "outputs": [
    {
     "data": {
      "image/png": "[encoded data removed]",
      "text/plain": [
       "<Figure size 432x288 with 1 Axes>"
      ]
     },
     "metadata": {
      "needs_background": "light"
     },
     "output_type": "display_data"
    }
   ],
   "source": [
    "plot_df = result_df.copy()\n",
    "\n",
    "plot_df[\"difference\"] = (plot_df[\"second weighted\"] - plot_df[\"first weighted\"]) * 100\n",
    "plot_df[\"fdr\"] = np.array(plot_df[\"p-value\"]) * len(plot_df) / rankdata(plot_df[\"p-value\"])\n",
    "\n",
    "plot_df[\"Значимость региона\"] = \"Не значим\"\n",
    "plot_df.loc[plot_df[\"fdr\"] < 0.05, \"Значимость региона\"] = \"Значим\"\n",
    "\n",
    "top = mpl.colormaps['Blues_r']\n",
    "bottom = mpl.colormaps['Oranges']\n",
    "colors = np.vstack((\n",
    "    top(np.linspace(0.3, 1, 1)),\n",
    "    bottom(np.linspace(0.55, 1, 1))\n",
    "))\n",
    "cmap = ListedColormap(colors, name='OrangeBlue')\n",
    "\n",
    "ax = sns.barplot(\n",
    "    x=\"region\",\n",
    "    y=\"difference\",\n",
    "    hue=\"Значимость региона\",\n",
    "    hue_order=[\"Значим\", \"Не значим\"],\n",
    "    data=plot_df.loc[np.abs(plot_df[\"difference\"]) > 0.1],\n",
    "    palette=cmap.colors,\n",
    "    dodge=False\n",
    ")\n",
    "\n",
    "plt.xlabel(\"Кодирующий регион Wuhan варианта\")\n",
    "plt.ylabel(\"Разность средних количеств\\nрегинов связывания\")\n",
    "ax.set_axisbelow(True)\n",
    "plt.grid(alpha=0.3)\n",
    "plt.xticks(\n",
    "    rotation=45,\n",
    "    ha=\"center\"\n",
    ")\n",
    "plt.tight_layout()\n",
    "plt.savefig(\"../../pictures/mRNA-contribution.png\", dpi=500)"
   ]
  },
  {
   "cell_type": "code",
   "execution_count": null,
   "id": "805320f9",
   "metadata": {},
   "outputs": [],
   "source": []
  }
 ],
 "metadata": {
  "kernelspec": {
   "display_name": "Python 3",
   "language": "python",
   "name": "python3"
  },
  "language_info": {
   "codemirror_mode": {
    "name": "ipython",
    "version": 3
   },
   "file_extension": ".py",
   "mimetype": "text/x-python",
   "name": "python",
   "nbconvert_exporter": "python",
   "pygments_lexer": "ipython3",
   "version": "3.8.9"
  }
 },
 "nbformat": 4,
 "nbformat_minor": 5
}
