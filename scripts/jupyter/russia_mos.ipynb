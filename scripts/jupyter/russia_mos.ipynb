{
 "cells": [
  {
   "cell_type": "code",
   "execution_count": 1,
   "id": "957f3da5",
   "metadata": {},
   "outputs": [
    {
     "name": "stderr",
     "output_type": "stream",
     "text": [
      "<frozen importlib._bootstrap>:219: RuntimeWarning: scipy._lib.messagestream.MessageStream size changed, may indicate binary incompatibility. Expected 56 from C header, got 64 from PyObject\n"
     ]
    }
   ],
   "source": [
    "import numpy as np\n",
    "import pandas as pd\n",
    "import matplotlib.pyplot as plt\n",
    "import seaborn as sns\n",
    "import tqdm\n",
    "\n",
    "from scipy.stats import linregress\n",
    "from scipy.stats import mannwhitneyu\n",
    "from scipy.stats import rankdata\n",
    "\n",
    "import matplotlib as mpl\n",
    "from matplotlib.colors import ListedColormap, LinearSegmentedColormap"
   ]
  },
  {
   "cell_type": "code",
   "execution_count": 2,
   "id": "70631048",
   "metadata": {},
   "outputs": [],
   "source": [
    "PROTEINS = [\n",
    "    \"5P\",\n",
    "    \"NSP1\",\n",
    "    \"NSP2\",\n",
    "    \"NSP3\",\n",
    "    \"NSP4\",\n",
    "    \"NSP5\",\n",
    "    \"NSP6\",\n",
    "    \"NSP7\",\n",
    "    \"NSP8\",\n",
    "    \"NSP9\",\n",
    "    \"NSP10\",\n",
    "    \"NSP11\",\n",
    "    \"NSP12\",\n",
    "    \"NSP13\",\n",
    "    \"NSP14\",\n",
    "    \"NSP15\",\n",
    "    \"NSP16\",\n",
    "    \"Spike\",\n",
    "    \"NS3\",\n",
    "    \"E\",\n",
    "    \"M\",\n",
    "    \"NS6\",\n",
    "    \"NS7a\",\n",
    "    \"NS7b\",\n",
    "    \"NS8\",\n",
    "    \"N\",\n",
    "    \"NS9b\",\n",
    "    \"NS9c\",\n",
    "    \"3P\",\n",
    "    \"RNA\"\n",
    "]\n",
    "\n",
    "ANNOTATION = {\n",
    "    \"5P\": \"1-265\",\n",
    "    \"NSP1\": \"266-805\",\n",
    "    \"NSP2\": \"806-2719\",\n",
    "    \"NSP3\": \"2720-8554\",\n",
    "    \"NSP4\": \"8555-10054\",\n",
    "    \"NSP5\": \"10055-10972\",\n",
    "    \"NSP6\": \"10973-11842\",\n",
    "    \"NSP7\": \"11843-12091\",\n",
    "    \"NSP8\": \"12092-12685\",\n",
    "    \"NSP9\": \"12686-13024\",\n",
    "    \"NSP10\": \"13025-13441\",\n",
    "    \"NSP11\": \"13442-13480\",\n",
    "    # \"NSP12\": \"13442-13468\",\n",
    "    \"NSP12\": \"13468-16236\",\n",
    "    \"NSP13\": \"16237-18039\",\n",
    "    \"NSP14\": \"18040-19620\",\n",
    "    \"NSP15\": \"19621-20658\",\n",
    "    \"NSP16\": \"20659-21552\",\n",
    "    \"Spike\": \"21563-25384\",\n",
    "    \"NS3\": \"25393-26220\",\n",
    "    \"E\": \"26245-26472\",\n",
    "    \"M\": \"26523-27191\",\n",
    "    \"NS6\": \"27202-27387\",\n",
    "    \"NS7a\": \"27394-27759\",\n",
    "    \"NS7b\": \"27756-27887\",\n",
    "    \"NS8\": \"27894-28259\",\n",
    "    \"N\": \"28274-29533\",\n",
    "    \"NS9b\": \"28284-28577\",\n",
    "    \"NS9c\": \"28734-28955\",\n",
    "    \"3P\": \"29534-30331\"\n",
    "}"
   ]
  },
  {
   "cell_type": "code",
   "execution_count": 3,
   "id": "505c5f0d",
   "metadata": {},
   "outputs": [],
   "source": [
    "def read_fasta(path):\n",
    "    result = \"\"\n",
    "    description = \"\"\n",
    "\n",
    "    ff = open(path, \"r\")\n",
    "\n",
    "    line = next(ff, None)\n",
    "    while line:\n",
    "        line = line.rstrip(\"\\n\")\n",
    "        if not line:\n",
    "            line = next(ff, None)\n",
    "            continue\n",
    "\n",
    "        if line.startswith(\">\"):\n",
    "            if result:\n",
    "                yield description, result\n",
    "            description = line.lstrip(\">\")\n",
    "            result = \"\"\n",
    "        else:\n",
    "            result += line\n",
    "\n",
    "        line = next(ff, None)\n",
    "\n",
    "    yield description, result\n",
    "    ff.close()\n",
    "    \n",
    "def percent(seq, chr=\"N\"):\n",
    "    count = 0\n",
    "    for char in seq:\n",
    "        if char == chr:\n",
    "            count += 1\n",
    "    return count / len(seq)\n",
    "\n",
    "def region_count(reg, start=None, end=None):\n",
    "    reg = reg.lstrip(\"[\").rstrip(\"]\").split(\", \")\n",
    "    if not (start is None) and not (end is None):\n",
    "        reg = [s for s in reg if s and (start <= int(s) <= end)]\n",
    "    else:\n",
    "        reg = [s for s in reg if s]\n",
    "    return len(reg)"
   ]
  },
  {
   "cell_type": "code",
   "execution_count": 4,
   "id": "6abf1cd3",
   "metadata": {},
   "outputs": [],
   "source": [
    "# meta preparation"
   ]
  },
  {
   "cell_type": "code",
   "execution_count": 5,
   "id": "4c8743b8",
   "metadata": {},
   "outputs": [
    {
     "name": "stderr",
     "output_type": "stream",
     "text": [
      "100%|██████████| 2520/2520 [00:12<00:00, 207.29it/s]\n"
     ]
    }
   ],
   "source": [
    "meta_df = pd.read_csv(\n",
    "    \"../../gisaid/russia_mos_meta.csv\",\n",
    "    sep=\",\", index_col=0)\n",
    "\n",
    "rna_df = pd.DataFrame(columns=[\"strain\", \"length\", \"polyA\", \"percN\"])\n",
    "tqdrator = tqdm.tqdm(read_fasta(\"../../gisaid/russia_mos.fasta\"), total=2520)\n",
    "for covid, rna in tqdrator:\n",
    "    length = len(rna)\n",
    "    perc = percent(rna, \"N\")\n",
    "    poly = len(rna) - len(rna.rstrip(\"A\"))\n",
    "    append_df = pd.DataFrame(\n",
    "        columns=rna_df.columns.to_list(),\n",
    "        data=[[\n",
    "            covid,\n",
    "            length,\n",
    "            poly,\n",
    "            perc\n",
    "        ]]\n",
    "    )\n",
    "    rna_df = pd.concat([rna_df, append_df], ignore_index=True)\n",
    "\n",
    "rna_df.index = rna_df[\"strain\"]\n",
    "rna_df = rna_df.drop(columns=[\"strain\"])\n",
    "meta_df = meta_df.join(rna_df, how=\"inner\")\n",
    "\n",
    "meta_df[\"date\"] = meta_df.index.str.split(\"|\").str[1]\n",
    "meta_df[\"date\"] = pd.to_datetime(meta_df[\"date\"], format=\"%Y-%m-%d\")\n",
    "meta_df = meta_df.sort_values(by=[\"date\"])\n",
    "\n",
    "meta_df[\"date\"] = meta_df.index.str.split(\"|\").str[1]\n",
    "meta_df[\"date\"] = pd.to_datetime(meta_df[\"date\"], format=\"%Y-%m-%d\")\n",
    "meta_df = meta_df.sort_values(by=[\"date\"])\n",
    "\n",
    "meta_df = meta_df.loc[meta_df[\"date\"].astype(\"str\").apply(lambda dt: len(dt.split(\"-\"))) == 3]\n",
    "meta_df[\"year\"] = meta_df[\"date\"].astype(\"str\").str.split(\"-\").str[0].astype(\"int\")\n",
    "meta_df[\"month\"] = meta_df[\"date\"].astype(\"str\").str.split(\"-\").str[1].astype(\"int\")\n",
    "meta_df[\"day\"] = meta_df[\"date\"].astype(\"str\").str.split(\"-\").str[2].astype(\"int\")\n",
    "meta_df[\"days\"] = meta_df[\"day\"] + meta_df[\"month\"] * 30 + meta_df[\"year\"] * 365\n",
    "start = int(meta_df.iloc[0][\"days\"])\n",
    "meta_df[\"days\"] -= start\n",
    "meta_df = meta_df.drop(columns=[\"year\", \"month\", \"day\"])"
   ]
  },
  {
   "cell_type": "code",
   "execution_count": 6,
   "id": "34332148",
   "metadata": {},
   "outputs": [],
   "source": [
    "# higly expressed miRNAs"
   ]
  },
  {
   "cell_type": "code",
   "execution_count": 7,
   "id": "1dff111d",
   "metadata": {},
   "outputs": [],
   "source": [
    "miRNA_df = pd.read_csv(\"../../miRNA/expressed_LUAD.csv\", sep=\",\")\n",
    "miRNA_df.index = miRNA_df[\"MIMAT\"]\n",
    "\n",
    "TOTAL_EXPRESSION = miRNA_df[\"CPM\"].sum()\n",
    "MIMATS = miRNA_df[\"MIMAT\"].to_list()"
   ]
  },
  {
   "cell_type": "code",
   "execution_count": 8,
   "id": "a647ed66",
   "metadata": {},
   "outputs": [],
   "source": [
    "# Moscow VOC's description"
   ]
  },
  {
   "cell_type": "code",
   "execution_count": 9,
   "id": "ed9a5433",
   "metadata": {},
   "outputs": [
    {
     "name": "stderr",
     "output_type": "stream",
     "text": [
      "<ipython-input-9-20a91043b2e6>:4: SettingWithCopyWarning: \n",
      "A value is trying to be set on a copy of a slice from a DataFrame.\n",
      "Try using .loc[row_indexer,col_indexer] = value instead\n",
      "\n",
      "See the caveats in the documentation: https://pandas.pydata.org/pandas-docs/stable/user_guide/indexing.html#returning-a-view-versus-a-copy\n",
      "  df[\"strain\"] = df.index\n"
     ]
    }
   ],
   "source": [
    "df = meta_df.loc[(~meta_df[\"scorpio_call\"].isna()) & (meta_df[\"percN\"] < 0.001) & (meta_df[\"length\"] > 29000)]\n",
    "\n",
    "STRAINS = []\n",
    "df[\"strain\"] = df.index\n",
    "for name, group in df.groupby(\"lineage\"):\n",
    "    group[\"rank\"] = rankdata(group[\"length\"])[::-1]\n",
    "    if len(group.loc[group[\"rank\"] == 1]) > 0:\n",
    "        strain = group.loc[group[\"rank\"] == 1].iloc[0][\"strain\"]\n",
    "        STRAINS.append(strain)"
   ]
  },
  {
   "cell_type": "code",
   "execution_count": 10,
   "id": "fff4312f",
   "metadata": {},
   "outputs": [
    {
     "name": "stdout",
     "output_type": "stream",
     "text": [
      "2020-03-11 00:00:00\n",
      "2022-08-22 00:00:00\n",
      "2520\n"
     ]
    }
   ],
   "source": [
    "print(meta_df.iloc[0][\"date\"])\n",
    "print(meta_df.iloc[-1][\"date\"])\n",
    "print(len(meta_df))"
   ]
  },
  {
   "cell_type": "code",
   "execution_count": 11,
   "id": "7b972c69",
   "metadata": {},
   "outputs": [
    {
     "name": "stdout",
     "output_type": "stream",
     "text": [
      "2021-10-21 00:00:00\n",
      "2022-07-25 00:00:00\n"
     ]
    }
   ],
   "source": [
    "print(meta_df.loc[STRAINS].iloc[0][\"date\"])\n",
    "print(meta_df.loc[STRAINS].iloc[-1][\"date\"])"
   ]
  },
  {
   "cell_type": "code",
   "execution_count": 12,
   "id": "e21893d0",
   "metadata": {},
   "outputs": [
    {
     "data": {
      "text/plain": [
       "scorpio_call          \n",
       "Omicron (BA.5-like)       10\n",
       "Delta (B.1.617.2-like)     6\n",
       "Omicron (Unassigned)       2\n",
       "Alpha (B.1.1.7-like)       1\n",
       "Beta (B.1.351-like)        1\n",
       "Omicron (BA.2-like)        1\n",
       "Omicron (BA.4-like)        1\n",
       "dtype: int64"
      ]
     },
     "execution_count": 12,
     "metadata": {},
     "output_type": "execute_result"
    }
   ],
   "source": [
    "meta_df.loc[STRAINS][[\"scorpio_call\"]].value_counts()"
   ]
  },
  {
   "cell_type": "code",
   "execution_count": 13,
   "id": "9dd79ce4",
   "metadata": {},
   "outputs": [
    {
     "name": "stderr",
     "output_type": "stream",
     "text": [
      "/usr/local/lib/python3.8/dist-packages/seaborn/_core.py:163: FutureWarning: elementwise comparison failed; returning scalar instead, but in the future will perform elementwise comparison\n",
      "  if palette in QUAL_PALETTES:\n"
     ]
    },
    {
     "data": {
      "image/png": "[encoded data removed]",
      "text/plain": [
       "<Figure size 432x288 with 1 Axes>"
      ]
     },
     "metadata": {
      "needs_background": "light"
     },
     "output_type": "display_data"
    }
   ],
   "source": [
    "plot_df = meta_df.loc[STRAINS].copy()\n",
    "\n",
    "plot_df = plot_df.rename(columns={\n",
    "    \"scorpio_call\": \"Штамм\",\n",
    "    \"date\": \"Дата\"\n",
    "})\n",
    "\n",
    "top = mpl.colormaps['Blues_r']\n",
    "bottom = mpl.colormaps['Oranges']\n",
    "colors = np.vstack((\n",
    "    bottom(np.linspace(0.5, 0.8, 3)),\n",
    "    top(np.linspace(0.1, 0.7, 4)),\n",
    "))\n",
    "cmap = ListedColormap(colors, name='OrangeBlue')\n",
    "\n",
    "sns.histplot(\n",
    "    x=\"Дата\",\n",
    "    hue=\"Штамм\",\n",
    "    multiple=\"stack\",\n",
    "    data=plot_df,\n",
    "    bins=10,\n",
    "    palette=cmap.colors\n",
    ")\n",
    "plt.ylabel(\"Количество\")\n",
    "plt.xlabel(\"\")\n",
    "plt.xticks(rotation=45)\n",
    "plt.tight_layout()\n",
    "plt.savefig(\"../../pictures/moscow-strains.png\", dpi=500)"
   ]
  },
  {
   "cell_type": "code",
   "execution_count": 14,
   "id": "8df6fde0",
   "metadata": {},
   "outputs": [],
   "source": [
    "meta_df.loc[:, \"group\"] = \"first\"\n",
    "meta_df.loc[meta_df[\"days\"] > 700, \"group\"] = \"second\""
   ]
  },
  {
   "cell_type": "code",
   "execution_count": 15,
   "id": "30f79fe6",
   "metadata": {},
   "outputs": [],
   "source": [
    "# region count df"
   ]
  },
  {
   "cell_type": "code",
   "execution_count": 16,
   "id": "457668de",
   "metadata": {},
   "outputs": [
    {
     "name": "stderr",
     "output_type": "stream",
     "text": [
      "100%|██████████| 32/32 [00:00<00:00, 622.36it/s]\n"
     ]
    }
   ],
   "source": [
    "count_df = None\n",
    "for protein in PROTEINS:\n",
    "    if protein != \"RNA\":\n",
    "        df = pd.read_csv(f\"../../results/russia_mos_LUAD_{protein}/seed.csv\", sep=\";\", index_col=0)\n",
    "    else:\n",
    "        df = pd.read_csv(f\"../../results/russia_mos_LUAD/seed.csv\", sep=\";\", index_col=0)\n",
    "    \n",
    "    df.index = df.index.str.lstrip(\">\")\n",
    "    df = df.loc[STRAINS][MIMATS]\n",
    "    \n",
    "    df[\"strain\"] = df.index\n",
    "    df[\"region\"] = [protein] * len(df)\n",
    "    \n",
    "    if count_df is None:\n",
    "        count_df = df\n",
    "    else:\n",
    "        count_df = pd.concat([count_df, df], ignore_index=True)\n",
    "\n",
    "for mimat in MIMATS:\n",
    "    count_df[mimat] = count_df[mimat].apply(lambda x: region_count(x))\n",
    "\n",
    "count_df.loc[:, \"count\"] = 0\n",
    "count_df.loc[:, \"weighted count\"] = 0\n",
    "for mimat in tqdm.tqdm(MIMATS):\n",
    "    expression = (miRNA_df.loc[mimat, \"CPM\"] / TOTAL_EXPRESSION)\n",
    "    count_df[\"count\"] += count_df[mimat]\n",
    "    count_df[\"weighted count\"] += count_df[mimat] * expression"
   ]
  },
  {
   "cell_type": "code",
   "execution_count": 17,
   "id": "783380de",
   "metadata": {},
   "outputs": [
    {
     "name": "stderr",
     "output_type": "stream",
     "text": [
      "100%|██████████| 32/32 [00:00<00:00, 725.47it/s]\n"
     ]
    }
   ],
   "source": [
    "wcount_df = pd.read_csv(\"../../results/wuhan_LUAD/seed.csv\", sep=\";\", index_col=0)\n",
    "\n",
    "for mimat in MIMATS:\n",
    "    wcount_df[mimat] = wcount_df[mimat].apply(lambda x: region_count(x))\n",
    "    \n",
    "wcount_df.loc[:, \"count\"] = 0\n",
    "wcount_df.loc[:, \"weighted count\"] = 0\n",
    "for mimat in tqdm.tqdm(MIMATS):\n",
    "    expression = (miRNA_df.loc[mimat, \"CPM\"] / TOTAL_EXPRESSION)\n",
    "    wcount_df[\"count\"] += wcount_df[mimat]\n",
    "    wcount_df[\"weighted count\"] += wcount_df[mimat] * expression"
   ]
  },
  {
   "cell_type": "code",
   "execution_count": 18,
   "id": "2a154c74",
   "metadata": {},
   "outputs": [],
   "source": [
    "# average count of binding regions"
   ]
  },
  {
   "cell_type": "code",
   "execution_count": 19,
   "id": "088aec24",
   "metadata": {},
   "outputs": [
    {
     "data": {
      "image/png": "[encoded data removed]",
      "text/plain": [
       "<Figure size 432x288 with 2 Axes>"
      ]
     },
     "metadata": {
      "needs_background": "light"
     },
     "output_type": "display_data"
    }
   ],
   "source": [
    "plot_df = count_df.loc[count_df[\"region\"] == \"RNA\"].copy()\n",
    "plot_df.index = plot_df[\"strain\"]\n",
    "plot_df = plot_df[MIMATS]\n",
    "\n",
    "for mimat in MIMATS:\n",
    "    plot_df[mimat] = plot_df[mimat] - int(wcount_df[mimat])\n",
    "    \n",
    "plot_df = plot_df.join(meta_df[[\"scorpio_call\", \"lineage\"]], how=\"left\")\n",
    "plot_df[\"strain\"] = plot_df[\"scorpio_call\"].str.split(\"(\").str[0] + \"(\" + \\\n",
    "    plot_df[\"lineage\"] + \")\"\n",
    "plot_df.index = plot_df[\"strain\"]\n",
    "plot_df = plot_df[MIMATS]\n",
    "\n",
    "plot_df = plot_df.transpose()\n",
    "\n",
    "miRNA_df.index = miRNA_df[\"MIMAT\"]\n",
    "plot_df = plot_df.join(miRNA_df[[\"miRNA\", \"CPM\"]], how=\"left\").sort_values(by=\"CPM\", ascending=False)\n",
    "plot_df.index = plot_df[\"miRNA\"]\n",
    "plot_df = plot_df.drop(columns=[\"miRNA\", \"CPM\"])\n",
    "\n",
    "plot_df[\"index\"] = plot_df.index\n",
    "miRNA_df.index = miRNA_df[\"miRNA\"]\n",
    "plot_df[\"index\"] = plot_df[\"index\"].apply(lambda x: f\"{x} ({miRNA_df.loc[x]['CPM'] / miRNA_df['CPM'].sum() * 100:.1f}%)\")\n",
    "miRNA_df.index = miRNA_df[\"MIMAT\"]\n",
    "plot_df.index = plot_df[\"index\"]\n",
    "plot_df = plot_df.drop(columns=[\"index\"])\n",
    "\n",
    "bottom = mpl.colormaps['Oranges']\n",
    "top = mpl.colormaps['Blues_r']\n",
    "colors = np.vstack((\n",
    "    top(np.linspace(0, 1, 128)),\n",
    "    [0.05, 0.05, 0.05, 0.05],\n",
    "    bottom(np.linspace(0, 1, 128))\n",
    "))\n",
    "cmap = ListedColormap(colors, name='OrangeBlue')\n",
    "\n",
    "sns.heatmap(\n",
    "    plot_df,\n",
    "    cmap=cmap,\n",
    "    linewidths=1,\n",
    "    linecolor=\"white\",\n",
    "    cbar_kws={\"label\": \"Отклонение количества регионов\\nсвязывания от Wuhan варианта\"}\n",
    ")\n",
    "\n",
    "plt.yticks(\n",
    "    [0.5 + i for i in range(len(plot_df))],\n",
    "    labels=plot_df.index.to_list(),\n",
    "    fontsize=7\n",
    ")\n",
    "plt.ylabel(\"\")\n",
    "\n",
    "plt.xticks(\n",
    "    fontsize=8,\n",
    "    rotation=45,\n",
    "    ha=\"right\"\n",
    ")\n",
    "\n",
    "plt.tight_layout()\n",
    "plt.savefig(\"../../pictures/miRNA-covid.png\", dpi=500)"
   ]
  },
  {
   "cell_type": "code",
   "execution_count": 61,
   "id": "b0dd4f2f",
   "metadata": {},
   "outputs": [
    {
     "data": {
      "image/png": "[encoded data removed]",
      "text/plain": [
       "<Figure size 432x288 with 1 Axes>"
      ]
     },
     "metadata": {
      "needs_background": "light"
     },
     "output_type": "display_data"
    }
   ],
   "source": [
    "plot_df = count_df.loc[count_df[\"region\"] == \"RNA\"].copy()\n",
    "plot_df.index = plot_df[\"strain\"]\n",
    "plot_df = plot_df[[\"weighted count\"]]\n",
    "\n",
    "plot_df = plot_df.join(meta_df[[\"scorpio_call\", \"lineage\", \"group\"]], how=\"left\")\n",
    "plot_df.loc[plot_df[\"group\"] == \"first\", \"group\"] = \"Ранние штаммы\"\n",
    "plot_df.loc[plot_df[\"group\"] == \"second\", \"group\"] = \"Штаммы Omicron\"\n",
    "plot_df = plot_df.rename(columns={\n",
    "    \"scorpio_call\": \"Штамм\"\n",
    "})\n",
    "\n",
    "top = mpl.colormaps['Blues_r']\n",
    "bottom = mpl.colormaps['Oranges']\n",
    "colors = np.vstack((\n",
    "    bottom(np.linspace(0.5, 0.8, 3)),\n",
    "    top(np.linspace(0.1, 0.7, 4)),\n",
    "))\n",
    "cmap = ListedColormap(colors, name='OrangeBlue')\n",
    "\n",
    "ax = sns.swarmplot(\n",
    "    y=\"weighted count\",\n",
    "    x=\"group\",\n",
    "    hue=\"Штамм\",\n",
    "    data=plot_df,\n",
    "    palette=cmap.colors\n",
    ")\n",
    "\n",
    "ax.set_xlabel(\"\")\n",
    "ax.set_ylabel(\"Количество регионов связывания\\nна 100 микроРНК\")\n",
    "\n",
    "ax.set_yticks(\n",
    "    [6.8, 6.9, 7.0, 7.1, 7.2, 7.3],\n",
    "    [680, 690, 700, 710, 720, 730]\n",
    ")\n",
    "\n",
    "plt.xticks(\n",
    "    fontsize=8,\n",
    "    rotation=45,\n",
    "    ha=\"right\"\n",
    ")\n",
    "\n",
    "plt.grid()\n",
    "plt.tight_layout()\n",
    "plt.savefig(\"../../pictures/covid-weighted.png\", dpi=500)"
   ]
  },
  {
   "cell_type": "code",
   "execution_count": 21,
   "id": "8c32bf4e",
   "metadata": {},
   "outputs": [],
   "source": [
    "# seed region distribution"
   ]
  },
  {
   "cell_type": "code",
   "execution_count": 22,
   "id": "d8e2c480",
   "metadata": {},
   "outputs": [],
   "source": [
    "seed_df = pd.read_csv(\"../../results/russia_mos_LUAD/seed.csv\", sep=\";\", index_col=0)\n",
    "seed_df.index = seed_df.index.str.lstrip(\">\")\n",
    "seed_df = seed_df.loc[STRAINS][MIMATS]\n",
    "\n",
    "seed_df = seed_df.join(meta_df[[\"lineage\", \"length\", \"days\", \"group\"]], how=\"left\")"
   ]
  },
  {
   "cell_type": "code",
   "execution_count": 23,
   "id": "fd7c8683",
   "metadata": {},
   "outputs": [],
   "source": [
    "first_group = seed_df.loc[seed_df[\"group\"] == \"first\"]\n",
    "second_group = seed_df.loc[seed_df[\"group\"] == \"second\"]"
   ]
  },
  {
   "cell_type": "code",
   "execution_count": 24,
   "id": "0e9497ed",
   "metadata": {},
   "outputs": [
    {
     "data": {
      "text/html": [
       "<div>\n",
       "<style scoped>\n",
       "    .dataframe tbody tr th:only-of-type {\n",
       "        vertical-align: middle;\n",
       "    }\n",
       "\n",
       "    .dataframe tbody tr th {\n",
       "        vertical-align: top;\n",
       "    }\n",
       "\n",
       "    .dataframe thead th {\n",
       "        text-align: right;\n",
       "    }\n",
       "</style>\n",
       "<table border=\"1\" class=\"dataframe\">\n",
       "  <thead>\n",
       "    <tr style=\"text-align: right;\">\n",
       "      <th></th>\n",
       "      <th>group</th>\n",
       "      <th>seed</th>\n",
       "    </tr>\n",
       "  </thead>\n",
       "  <tbody>\n",
       "    <tr>\n",
       "      <th>0</th>\n",
       "      <td>first</td>\n",
       "      <td>9860</td>\n",
       "    </tr>\n",
       "    <tr>\n",
       "      <th>1</th>\n",
       "      <td>first</td>\n",
       "      <td>12449</td>\n",
       "    </tr>\n",
       "    <tr>\n",
       "      <th>2</th>\n",
       "      <td>first</td>\n",
       "      <td>19060</td>\n",
       "    </tr>\n",
       "    <tr>\n",
       "      <th>3</th>\n",
       "      <td>first</td>\n",
       "      <td>9860</td>\n",
       "    </tr>\n",
       "    <tr>\n",
       "      <th>4</th>\n",
       "      <td>first</td>\n",
       "      <td>12449</td>\n",
       "    </tr>\n",
       "  </tbody>\n",
       "</table>\n",
       "</div>"
      ],
      "text/plain": [
       "   group   seed\n",
       "0  first   9860\n",
       "1  first  12449\n",
       "2  first  19060\n",
       "3  first   9860\n",
       "4  first  12449"
      ]
     },
     "execution_count": 24,
     "metadata": {},
     "output_type": "execute_result"
    }
   ],
   "source": [
    "def extract(seeds):\n",
    "    seeds = seeds.lstrip(\"[\").rstrip(\"]\").split(\", \")\n",
    "    seeds = list(map(int, [s for s in seeds if s]))\n",
    "    return seeds\n",
    "\n",
    "result_df = pd.DataFrame(columns=[\"group\", \"seed\"])\n",
    "for name, group in zip((\"first\", \"second\"), (first_group, second_group)):\n",
    "    coords = []\n",
    "    for mimat in MIMATS:\n",
    "        expression = int(miRNA_df.loc[mimat][\"CPM\"] / TOTAL_EXPRESSION * 100)\n",
    "        seeds = group[mimat].apply(lambda x: extract(x) * expression).to_list()\n",
    "        append = []\n",
    "        for s in seeds:\n",
    "            append += s\n",
    "        \n",
    "        append_df = pd.DataFrame(columns=result_df.columns)\n",
    "        append_df[\"seed\"] = append\n",
    "        append_df.loc[:, \"group\"] = name    \n",
    "        result_df = pd.concat([result_df, append_df], ignore_index=True)\n",
    "        \n",
    "result_df.head()"
   ]
  },
  {
   "cell_type": "code",
   "execution_count": 25,
   "id": "22a43dff",
   "metadata": {},
   "outputs": [
    {
     "name": "stderr",
     "output_type": "stream",
     "text": [
      "/usr/local/lib/python3.8/dist-packages/seaborn/_core.py:163: FutureWarning: elementwise comparison failed; returning scalar instead, but in the future will perform elementwise comparison\n",
      "  if palette in QUAL_PALETTES:\n"
     ]
    },
    {
     "data": {
      "image/png": "[encoded data removed]",
      "text/plain": [
       "<Figure size 864x288 with 2 Axes>"
      ]
     },
     "metadata": {
      "needs_background": "light"
     },
     "output_type": "display_data"
    }
   ],
   "source": [
    "plot_df = result_df.copy()\n",
    "plot_df.loc[plot_df[\"group\"] == \"first\", \"group\"] = \"Ранние штаммы\"\n",
    "plot_df.loc[plot_df[\"group\"] == \"second\", \"group\"] = \"Штаммы Omicron\"\n",
    "plot_df = plot_df.rename(columns={\n",
    "    \"group\": \"Группа\"\n",
    "})\n",
    "\n",
    "fig, ax = plt.subplots(figsize=(12, 4))\n",
    "\n",
    "ax.set_ylabel(\"Количество регионов связывания\\nна 100 молекул микроРНК\")\n",
    "ax.set_xlabel(\"Координата на РНК Wuhan варианта\") \n",
    "ax.set_xlim(0, 30330)\n",
    "\n",
    "annotation = {\n",
    "    \"NSP1\": \"266-805\",\n",
    "    \"NSP2\": \"806-2719\",\n",
    "    \"NSP3\": \"2720-8554\",\n",
    "    \"NSP4\": \"8555-10054\",\n",
    "    \"NSP5\": \"10055-10972\",\n",
    "    # \"NSP6\": \"10973-11842\",\n",
    "    # \"NSP7\": \"11843-12091\",\n",
    "    # \"NSP8\": \"12092-12685\",\n",
    "    \"NSP6-8\": \"10973-12685\",\n",
    "    # \"NSP9\": \"12686-13024\",\n",
    "    # \"NSP10\": \"13025-13441\",\n",
    "    # \"NSP11\": \"13442-13480\",\n",
    "    \"NSP9-11\": \"12686-13480\",\n",
    "    # \"NSP12\": \"13442-13468\",\n",
    "    \"NSP12\": \"13468-16236\",\n",
    "    \"NSP13\": \"16237-18039\",\n",
    "    \"NSP14\": \"18040-19620\",\n",
    "    \"NSP15\": \"19621-20658\",\n",
    "    \"NSP16\": \"20659-21552\",\n",
    "    \"Spike\": \"21563-25384\",\n",
    "    \"NS3\": \"25393-26220\",\n",
    "    \"E\": \"26245-26472\",\n",
    "    \"M\": \"26523-27191\",\n",
    "    # \"NS6\": \"27202-27387\",\n",
    "    # \"NS7a\": \"27394-27759\",\n",
    "    # \"NS7b\": \"27756-27887\",\n",
    "    # \"NS8\": \"27894-28259\",\n",
    "    \"NS6-8\": \"27202-28295\",\n",
    "    \"N, NS9*\": \"28274-29533\",\n",
    "    # \"NS9b\": \"28284-28577\",\n",
    "    # \"NS9c\": \"28734-28955\"\n",
    "}\n",
    "\n",
    "axsub = ax.twiny()\n",
    "axsub.xaxis.set_ticks_position('bottom')\n",
    "axsub.spines['bottom'].set_position(('outward', 36))\n",
    "\n",
    "ticks = []\n",
    "centers = []\n",
    "proteins = []\n",
    "for protein, region in annotation.items():\n",
    "    start, end = map(int, region.split(\"-\"))\n",
    "    ticks.append(start - 1)\n",
    "    ticks.append(end - 1)\n",
    "    \n",
    "    center = (start + end - 2) // 2\n",
    "    centers.append(center)\n",
    "    proteins.append(protein)\n",
    "\n",
    "i = 0\n",
    "while i < len(ticks):\n",
    "    axsub.axvspan(ticks[i], ticks[i + 1], alpha=0.2, color=\"lightgrey\")\n",
    "    i += 4\n",
    "\n",
    "top = mpl.colormaps['Blues_r']\n",
    "bottom = mpl.colormaps['Oranges']\n",
    "colors = np.vstack((\n",
    "    top(np.linspace(0.3, 1, 1)),\n",
    "    bottom(np.linspace(0.55, 1, 1))\n",
    "))\n",
    "cmap = ListedColormap(colors, name='OrangeBlue')\n",
    "    \n",
    "sns.histplot(\n",
    "    x=\"seed\",\n",
    "    hue=\"Группа\",\n",
    "    hue_order=[\"Штаммы Omicron\", \"Ранние штаммы\"],\n",
    "    data=plot_df,\n",
    "    stat=\"probability\",\n",
    "    common_norm=False,\n",
    "    bins=100,\n",
    "    palette=cmap.colors,\n",
    "    alpha=0.6,\n",
    "    ax=axsub\n",
    ")\n",
    "\n",
    "axsub.set_xlim(0, 30330)\n",
    "    \n",
    "axsub.set_xticks(\n",
    "    centers,\n",
    "    labels=proteins,\n",
    "    rotation=45,\n",
    "    ha=\"center\"\n",
    ")\n",
    "\n",
    "axsub.set_xlabel(\"\")\n",
    "\n",
    "ax.set_yticks(\n",
    "    [i / 100 for i in range(0, 9, 2)],\n",
    "    labels=[i for i in range(0, 9, 2)]\n",
    ")\n",
    "\n",
    "plt.tight_layout()\n",
    "# plt.savefig(\"../../pictures/seed-distribution-test.png\", dpi=500)"
   ]
  },
  {
   "cell_type": "code",
   "execution_count": 26,
   "id": "5e906a80",
   "metadata": {},
   "outputs": [],
   "source": [
    "# proteins contribution"
   ]
  },
  {
   "cell_type": "code",
   "execution_count": 66,
   "id": "748b15ad",
   "metadata": {},
   "outputs": [],
   "source": [
    "result_df = pd.DataFrame(columns=[\n",
    "    \"region\", \"length\",\n",
    "    \"first weighted\", \"second weighted\",\n",
    "    \"first count\", \"second count\",\n",
    "    \"p-value\"\n",
    "])\n",
    "\n",
    "for protein in PROTEINS:\n",
    "    if protein == \"RNA\":\n",
    "        length = 30331\n",
    "    else:\n",
    "        length = list(map(int, ANNOTATION[protein].split(\"-\")))\n",
    "        length = length[1] - length[0] + 1\n",
    "    \n",
    "    df = count_df.loc[count_df[\"region\"] == protein]\n",
    "    df.index = df[\"strain\"]\n",
    "    df = df.join(meta_df[[\"group\"]], how=\"left\")\n",
    "    df = df.drop(columns=[\"strain\"]).reset_index()\n",
    "    \n",
    "    first_group = df.loc[df[\"group\"] == \"first\"][[\n",
    "        \"strain\", \"weighted count\", \"count\"\n",
    "    ]].groupby(\"strain\").sum()\n",
    "    second_group = df.loc[df[\"group\"] == \"second\"][[\n",
    "        \"strain\", \"weighted count\", \"count\"\n",
    "    ]].groupby(\"strain\").sum()\n",
    "    \n",
    "    try:\n",
    "        stat, pv = mannwhitneyu(\n",
    "            first_group[\"weighted count\"],\n",
    "            second_group[\"weighted count\"]\n",
    "        )\n",
    "    except:\n",
    "        pv = 1\n",
    "        \n",
    "    append_df = pd.DataFrame(\n",
    "        columns=result_df.columns.to_list(),\n",
    "        data=[[\n",
    "            protein,\n",
    "            length,\n",
    "            first_group[\"weighted count\"].mean(),\n",
    "            second_group[\"weighted count\"].mean(),\n",
    "            first_group[\"count\"].mean(),\n",
    "            second_group[\"count\"].mean(),\n",
    "            pv\n",
    "        ]]\n",
    "    )\n",
    "    \n",
    "    result_df = pd.concat([result_df, append_df], ignore_index=True)\n",
    "\n",
    "result_df[\"fdr\"] = np.array(result_df[\"p-value\"]) * len(result_df) / rankdata(result_df[\"p-value\"])\n",
    "result_df.loc[result_df[\"fdr\"] > 1, \"fdr\"] = 1"
   ]
  },
  {
   "cell_type": "code",
   "execution_count": 68,
   "id": "03185f76",
   "metadata": {},
   "outputs": [],
   "source": [
    "result_df[\"first weighted\"] *= 100\n",
    "result_df[\"second weighted\"] *= 100\n",
    "result_df.to_csv(\"russia_mos_protein_contribution.csv\", sep=\",\", index=None)"
   ]
  },
  {
   "cell_type": "code",
   "execution_count": 53,
   "id": "cd31bdd1",
   "metadata": {},
   "outputs": [
    {
     "name": "stdout",
     "output_type": "stream",
     "text": [
      "& region & length & first weighted & second weighted & fdr \\\\\n",
      "\\hline\n",
      "& NSP2 & 1914 & 18.99 & 18.10 & 0.0006 \\\\\n",
      "\\hline\n",
      "& NSP6 & 870 & 17.30 & 11.04 & 0.0019 \\\\\n",
      "\\hline\n",
      "& NSP15 & 1038 & 33.53 & 31.06 & 0.0002 \\\\\n",
      "\\hline\n",
      "& NS8 & 366 & 13.81 & 14.08 & 0.0006 \\\\\n",
      "\\hline\n",
      "& N & 1260 & 18.86 & 19.77 & 0.0005 \\\\\n",
      "\\hline\n",
      "& RNA & 30331 & 723.74 & 709.11 & 0.0009 \\\\\n",
      "\\hline\n"
     ]
    }
   ],
   "source": [
    "print_df = result_df.drop(columns=[\"first count\", \"second count\", \"p-value\"])\n",
    "print_df[\"first weighted\"] *= 100\n",
    "print_df[\"second weighted\"] *= 100\n",
    "print_df = print_df.loc[print_df[\"fdr\"] < 0.05]\n",
    "for column in print_df.columns:\n",
    "    print(f\"& {column} \", end=\"\")\n",
    "print(\"\\\\\\\\\")\n",
    "print(\"\\\\hline\")\n",
    "\n",
    "for i, row in print_df.iterrows():\n",
    "    for column in print_df.columns:\n",
    "        if column == \"fdr\":\n",
    "            print(f\"& {float(row[column]):.4f} \", end=\"\")\n",
    "        elif column not in [\"region\", \"length\"]:\n",
    "            print(f\"& {float(row[column]):.2f} \", end=\"\")\n",
    "        else:\n",
    "            print(f\"& {row[column]} \", end=\"\")\n",
    "    print(\"\\\\\\\\\")\n",
    "    print(\"\\\\hline\")"
   ]
  },
  {
   "cell_type": "code",
   "execution_count": 34,
   "id": "934cb6b4",
   "metadata": {},
   "outputs": [
    {
     "data": {
      "text/plain": [
       "first weighted     7.372947\n",
       "second weighted    7.233275\n",
       "dtype: float64"
      ]
     },
     "execution_count": 34,
     "metadata": {},
     "output_type": "execute_result"
    }
   ],
   "source": [
    "result_df.loc[result_df[\"region\"] != \"RNA\"][[\"first weighted\", \"second weighted\"]].sum()"
   ]
  },
  {
   "cell_type": "code",
   "execution_count": 36,
   "id": "e99e24f2",
   "metadata": {},
   "outputs": [
    {
     "data": {
      "text/plain": [
       "first count     313.875000\n",
       "second count    311.142857\n",
       "dtype: float64"
      ]
     },
     "execution_count": 36,
     "metadata": {},
     "output_type": "execute_result"
    }
   ],
   "source": [
    "result_df.loc[result_df[\"region\"] == \"RNA\"][[\"first count\", \"second count\"]].sum()"
   ]
  },
  {
   "cell_type": "code",
   "execution_count": 65,
   "id": "740f04a8",
   "metadata": {},
   "outputs": [
    {
     "data": {
      "image/png": "[encoded data removed]",
      "text/plain": [
       "<Figure size 432x288 with 1 Axes>"
      ]
     },
     "metadata": {
      "needs_background": "light"
     },
     "output_type": "display_data"
    }
   ],
   "source": [
    "plot_df = result_df.copy()\n",
    "\n",
    "plot_df[\"difference\"] = (plot_df[\"second weighted\"] - plot_df[\"first weighted\"]) * 100\n",
    "plot_df[\"fdr\"] = np.array(plot_df[\"p-value\"]) * len(plot_df) / rankdata(plot_df[\"p-value\"])\n",
    "\n",
    "plot_df[\"Значимость региона\"] = \"Не значим\"\n",
    "plot_df.loc[plot_df[\"fdr\"] < 0.05, \"Значимость региона\"] = \"Значим\"\n",
    "\n",
    "top = mpl.colormaps['Blues_r']\n",
    "bottom = mpl.colormaps['Oranges']\n",
    "colors = np.vstack((\n",
    "    top(np.linspace(0.3, 1, 1)),\n",
    "    bottom(np.linspace(0.55, 1, 1))\n",
    "))\n",
    "cmap = ListedColormap(colors, name='OrangeBlue')\n",
    "\n",
    "ax = sns.barplot(\n",
    "    x=\"region\",\n",
    "    y=\"difference\",\n",
    "    hue=\"Значимость региона\",\n",
    "    hue_order=[\"Значим\", \"Не значим\"],\n",
    "    data=plot_df.loc[np.abs(plot_df[\"difference\"]) > 0.001],\n",
    "    palette=cmap.colors,\n",
    "    dodge=False\n",
    ")\n",
    "\n",
    "plt.xlabel(\"Кодирующий регион Wuhan варианта\")\n",
    "plt.ylabel(\"Разность средних количеств\\nрегинов связывания\")\n",
    "ax.set_axisbelow(True)\n",
    "plt.grid(alpha=0.3)\n",
    "plt.xticks(\n",
    "    rotation=45,\n",
    "    ha=\"center\"\n",
    ")\n",
    "plt.tight_layout()\n",
    "plt.savefig(\"../../pictures/mRNA-contribution.png\", dpi=500)"
   ]
  },
  {
   "cell_type": "code",
   "execution_count": null,
   "id": "805320f9",
   "metadata": {},
   "outputs": [],
   "source": []
  }
 ],
 "metadata": {
  "kernelspec": {
   "display_name": "Python 3",
   "language": "python",
   "name": "python3"
  },
  "language_info": {
   "codemirror_mode": {
    "name": "ipython",
    "version": 3
   },
   "file_extension": ".py",
   "mimetype": "text/x-python",
   "name": "python",
   "nbconvert_exporter": "python",
   "pygments_lexer": "ipython3",
   "version": "3.8.9"
  }
 },
 "nbformat": 4,
 "nbformat_minor": 5
}
