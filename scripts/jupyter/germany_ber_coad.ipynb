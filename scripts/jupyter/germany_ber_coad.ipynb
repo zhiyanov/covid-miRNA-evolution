{
 "cells": [
  {
   "cell_type": "code",
   "execution_count": 1,
   "id": "957f3da5",
   "metadata": {},
   "outputs": [
    {
     "name": "stderr",
     "output_type": "stream",
     "text": [
      "<frozen importlib._bootstrap>:219: RuntimeWarning: scipy._lib.messagestream.MessageStream size changed, may indicate binary incompatibility. Expected 56 from C header, got 64 from PyObject\n"
     ]
    }
   ],
   "source": [
    "import numpy as np\n",
    "import pandas as pd\n",
    "import matplotlib.pyplot as plt\n",
    "import seaborn as sns\n",
    "import tqdm\n",
    "\n",
    "from scipy.stats import linregress\n",
    "from scipy.stats import mannwhitneyu\n",
    "from scipy.stats import ks_2samp\n",
    "from scipy.stats import rankdata\n",
    "\n",
    "import matplotlib as mpl\n",
    "from matplotlib.colors import ListedColormap, LinearSegmentedColormap"
   ]
  },
  {
   "cell_type": "code",
   "execution_count": 2,
   "id": "70631048",
   "metadata": {},
   "outputs": [],
   "source": [
    "PROTEINS = [\n",
    "    \"5P\",\n",
    "    \"NSP1\",\n",
    "    \"NSP2\",\n",
    "    \"NSP3\",\n",
    "    \"NSP4\",\n",
    "    \"NSP5\",\n",
    "    \"NSP6\",\n",
    "    \"NSP7\",\n",
    "    \"NSP8\",\n",
    "    \"NSP9\",\n",
    "    \"NSP10\",\n",
    "    \"NSP11\",\n",
    "    \"NSP12\",\n",
    "    \"NSP13\",\n",
    "    \"NSP14\",\n",
    "    \"NSP15\",\n",
    "    \"NSP16\",\n",
    "    \"Spike\",\n",
    "    \"NS3\",\n",
    "    \"E\",\n",
    "    \"M\",\n",
    "    \"NS6\",\n",
    "    \"NS7a\",\n",
    "    \"NS7b\",\n",
    "    \"NS8\",\n",
    "    \"N\",\n",
    "    \"NS9b\",\n",
    "    \"NS9c\",\n",
    "    \"3P\",\n",
    "    \"RNA\"\n",
    "]\n",
    "\n",
    "ANNOTATION = {\n",
    "    \"5P\": \"1-265\",\n",
    "    \"NSP1\": \"266-805\",\n",
    "    \"NSP2\": \"806-2719\",\n",
    "    \"NSP3\": \"2720-8554\",\n",
    "    \"NSP4\": \"8555-10054\",\n",
    "    \"NSP5\": \"10055-10972\",\n",
    "    \"NSP6\": \"10973-11842\",\n",
    "    \"NSP7\": \"11843-12091\",\n",
    "    \"NSP8\": \"12092-12685\",\n",
    "    \"NSP9\": \"12686-13024\",\n",
    "    \"NSP10\": \"13025-13441\",\n",
    "    \"NSP11\": \"13442-13480\",\n",
    "    # \"NSP12\": \"13442-13468\",\n",
    "    \"NSP12\": \"13468-16236\",\n",
    "    \"NSP13\": \"16237-18039\",\n",
    "    \"NSP14\": \"18040-19620\",\n",
    "    \"NSP15\": \"19621-20658\",\n",
    "    \"NSP16\": \"20659-21552\",\n",
    "    \"Spike\": \"21563-25384\",\n",
    "    \"NS3\": \"25393-26220\",\n",
    "    \"E\": \"26245-26472\",\n",
    "    \"M\": \"26523-27191\",\n",
    "    \"NS6\": \"27202-27387\",\n",
    "    \"NS7a\": \"27394-27759\",\n",
    "    \"NS7b\": \"27756-27887\",\n",
    "    \"NS8\": \"27894-28259\",\n",
    "    \"N\": \"28274-29533\",\n",
    "    \"NS9b\": \"28284-28577\",\n",
    "    \"NS9c\": \"28734-28955\",\n",
    "    \"3P\": \"29534-29903\"\n",
    "}"
   ]
  },
  {
   "cell_type": "code",
   "execution_count": 3,
   "id": "505c5f0d",
   "metadata": {},
   "outputs": [],
   "source": [
    "def read_fasta(path):\n",
    "    result = \"\"\n",
    "    description = \"\"\n",
    "\n",
    "    ff = open(path, \"r\")\n",
    "\n",
    "    line = next(ff, None)\n",
    "    while line:\n",
    "        line = line.rstrip(\"\\n\")\n",
    "        if not line:\n",
    "            line = next(ff, None)\n",
    "            continue\n",
    "\n",
    "        if line.startswith(\">\"):\n",
    "            if result:\n",
    "                yield description, result\n",
    "            description = line.lstrip(\">\")\n",
    "            result = \"\"\n",
    "        else:\n",
    "            result += line\n",
    "\n",
    "        line = next(ff, None)\n",
    "\n",
    "    yield description, result\n",
    "    ff.close()\n",
    "    \n",
    "def percent(seq, chr=\"N\"):\n",
    "    count = 0\n",
    "    for char in seq:\n",
    "        if char == chr:\n",
    "            count += 1\n",
    "    return count / len(seq)\n",
    "\n",
    "def region_count(reg, start=None, end=None):\n",
    "    reg = reg.lstrip(\"[\").rstrip(\"]\").split(\", \")\n",
    "    if not (start is None) and not (end is None):\n",
    "        reg = [s for s in reg if s and (start <= int(s) <= end)]\n",
    "    else:\n",
    "        reg = [s for s in reg if s]\n",
    "    return len(reg)"
   ]
  },
  {
   "cell_type": "markdown",
   "id": "78945cb8",
   "metadata": {},
   "source": [
    "# SARS-CoV-2 variants distributed in Berlin"
   ]
  },
  {
   "cell_type": "code",
   "execution_count": 4,
   "id": "6abf1cd3",
   "metadata": {},
   "outputs": [],
   "source": [
    "# meta preparation"
   ]
  },
  {
   "cell_type": "code",
   "execution_count": 5,
   "id": "4c8743b8",
   "metadata": {},
   "outputs": [
    {
     "name": "stderr",
     "output_type": "stream",
     "text": [
      "28420it [02:15, 209.17it/s]                           \n"
     ]
    }
   ],
   "source": [
    "meta_df = pd.read_csv(\n",
    "    \"../../gisaid/germany_ber_meta.csv\",\n",
    "    sep=\",\", index_col=0)\n",
    "\n",
    "rna_df = pd.DataFrame(columns=[\"strain\", \"length\", \"polyA\", \"percN\"])\n",
    "tqdrator = tqdm.tqdm(read_fasta(\"../../gisaid/germany_ber.fasta\"), total=24778)\n",
    "for covid, rna in tqdrator:\n",
    "    length = len(rna)\n",
    "    perc = percent(rna, \"N\")\n",
    "    poly = len(rna) - len(rna.rstrip(\"A\"))\n",
    "    append_df = pd.DataFrame(\n",
    "        columns=rna_df.columns.to_list(),\n",
    "        data=[[\n",
    "            covid,\n",
    "            length,\n",
    "            poly,\n",
    "            perc\n",
    "        ]]\n",
    "    )\n",
    "    rna_df = pd.concat([rna_df, append_df], ignore_index=True)\n",
    "\n",
    "rna_df.index = rna_df[\"strain\"]\n",
    "rna_df = rna_df.drop(columns=[\"strain\"])\n",
    "meta_df = meta_df.join(rna_df, how=\"inner\")\n",
    "\n",
    "meta_df[\"date\"] = meta_df.index.str.split(\"|\").str[1]\n",
    "meta_df[\"date\"] = pd.to_datetime(meta_df[\"date\"], format=\"%Y-%m-%d\")\n",
    "meta_df = meta_df.sort_values(by=[\"date\"])\n",
    "\n",
    "meta_df[\"date\"] = meta_df.index.str.split(\"|\").str[1]\n",
    "meta_df[\"date\"] = pd.to_datetime(meta_df[\"date\"], format=\"%Y-%m-%d\")\n",
    "meta_df = meta_df.sort_values(by=[\"date\"])\n",
    "\n",
    "meta_df = meta_df.loc[meta_df[\"date\"].astype(\"str\").apply(lambda dt: len(dt.split(\"-\"))) == 3]\n",
    "meta_df[\"year\"] = meta_df[\"date\"].astype(\"str\").str.split(\"-\").str[0].astype(\"int\")\n",
    "meta_df[\"month\"] = meta_df[\"date\"].astype(\"str\").str.split(\"-\").str[1].astype(\"int\")\n",
    "meta_df[\"day\"] = meta_df[\"date\"].astype(\"str\").str.split(\"-\").str[2].astype(\"int\")\n",
    "meta_df[\"days\"] = meta_df[\"day\"] + meta_df[\"month\"] * 30 + meta_df[\"year\"] * 365\n",
    "start = int(meta_df.iloc[0][\"days\"])\n",
    "meta_df[\"days\"] -= start\n",
    "meta_df = meta_df.drop(columns=[\"year\", \"month\", \"day\"])"
   ]
  },
  {
   "cell_type": "code",
   "execution_count": 6,
   "id": "81c162be",
   "metadata": {},
   "outputs": [],
   "source": [
    "# Meta description"
   ]
  },
  {
   "cell_type": "code",
   "execution_count": 7,
   "id": "4b7ff9ec",
   "metadata": {},
   "outputs": [
    {
     "name": "stdout",
     "output_type": "stream",
     "text": [
      "28420\n"
     ]
    }
   ],
   "source": [
    "print(len(meta_df))"
   ]
  },
  {
   "cell_type": "code",
   "execution_count": 8,
   "id": "c562477f",
   "metadata": {},
   "outputs": [
    {
     "name": "stdout",
     "output_type": "stream",
     "text": [
      "4215\n",
      "12365\n"
     ]
    }
   ],
   "source": [
    "print(len(\n",
    "    meta_df.loc[\n",
    "        meta_df[\"percN\"] == 0.\n",
    "    ]\n",
    "))\n",
    "print(len(\n",
    "    meta_df.loc[\n",
    "        meta_df[\"percN\"] < 0.001\n",
    "    ]\n",
    "))"
   ]
  },
  {
   "cell_type": "code",
   "execution_count": 9,
   "id": "5f7910c5",
   "metadata": {},
   "outputs": [
    {
     "data": {
      "text/plain": [
       "<AxesSubplot:xlabel='days', ylabel='Count'>"
      ]
     },
     "execution_count": 9,
     "metadata": {},
     "output_type": "execute_result"
    },
    {
     "data": {
      "image/png": "[encoded data removed]",
      "text/plain": [
       "<Figure size 432x288 with 1 Axes>"
      ]
     },
     "metadata": {
      "needs_background": "light"
     },
     "output_type": "display_data"
    }
   ],
   "source": [
    "plot_df = meta_df.copy()\n",
    "plot_df = plot_df.loc[\n",
    "    (~plot_df[\"scorpio_call\"].isna()) & \\\n",
    "    (plot_df[\"percN\"] == 0.)\n",
    "]\n",
    "\n",
    "plot_df[\"group\"] = \"Ancestral variants\"\n",
    "plot_df.loc[\n",
    "    plot_df[\"scorpio_call\"].str.contains(\"Omicron\"),\n",
    "    \"group\"\n",
    "] = \"Omicrons\"\n",
    "\n",
    "sns.histplot(\n",
    "    x=\"days\",\n",
    "    hue=\"group\",\n",
    "    data=plot_df[[\"days\", \"group\"]]\n",
    ")"
   ]
  },
  {
   "cell_type": "code",
   "execution_count": 10,
   "id": "8126c051",
   "metadata": {
    "scrolled": true
   },
   "outputs": [
    {
     "name": "stdout",
     "output_type": "stream",
     "text": [
      "MannwhitneyuResult(statistic=1418291.0, pvalue=2.0623116390458293e-23)\n"
     ]
    },
    {
     "data": {
      "text/plain": [
       "<AxesSubplot:xlabel='length', ylabel='Count'>"
      ]
     },
     "execution_count": 10,
     "metadata": {},
     "output_type": "execute_result"
    },
    {
     "data": {
      "image/png": "[encoded data removed]",
      "text/plain": [
       "<Figure size 432x288 with 1 Axes>"
      ]
     },
     "metadata": {
      "needs_background": "light"
     },
     "output_type": "display_data"
    }
   ],
   "source": [
    "print(mannwhitneyu(\n",
    "    plot_df.loc[\n",
    "        plot_df[\"group\"] == \"Omicrons\",\n",
    "        \"length\"].to_list(),\n",
    "    plot_df.loc[\n",
    "        plot_df[\"group\"] == \"Ancestral variants\",\n",
    "        \"length\"].to_list(),\n",
    "    alternative=\"less\"\n",
    "))\n",
    "\n",
    "sns.histplot(\n",
    "    x=\"length\",\n",
    "    hue=\"group\",\n",
    "    data=plot_df\n",
    ")"
   ]
  },
  {
   "cell_type": "code",
   "execution_count": 11,
   "id": "a647ed66",
   "metadata": {},
   "outputs": [],
   "source": [
    "# Berlin VOC's description"
   ]
  },
  {
   "cell_type": "code",
   "execution_count": 12,
   "id": "ed9a5433",
   "metadata": {},
   "outputs": [
    {
     "name": "stderr",
     "output_type": "stream",
     "text": [
      "<ipython-input-12-a04314270676>:8: SettingWithCopyWarning: \n",
      "A value is trying to be set on a copy of a slice from a DataFrame.\n",
      "Try using .loc[row_indexer,col_indexer] = value instead\n",
      "\n",
      "See the caveats in the documentation: https://pandas.pydata.org/pandas-docs/stable/user_guide/indexing.html#returning-a-view-versus-a-copy\n",
      "  df[\"strain\"] = df.index\n"
     ]
    }
   ],
   "source": [
    "df = meta_df.loc[\n",
    "    (~meta_df[\"scorpio_call\"].isna()) & \\\n",
    "    (meta_df[\"percN\"] == 0.) & \\\n",
    "    (meta_df[\"length\"] > 29000)\n",
    "]\n",
    "\n",
    "STRAINS = []\n",
    "df[\"strain\"] = df.index\n",
    "STRAINS = df[\"strain\"].to_list()\n",
    "START = meta_df.iloc[0][\"date\"]"
   ]
  },
  {
   "cell_type": "code",
   "execution_count": 13,
   "id": "1502c21d",
   "metadata": {},
   "outputs": [
    {
     "name": "stdout",
     "output_type": "stream",
     "text": [
      "2020-01-01 00:00:00\n"
     ]
    },
    {
     "data": {
      "text/plain": [
       "['hCoV-19/Germany/BE-ChVir22347/2021|2021-01-14|2021-11-05']"
      ]
     },
     "execution_count": 13,
     "metadata": {},
     "output_type": "execute_result"
    }
   ],
   "source": [
    "print(START)\n",
    "STRAINS[:1]"
   ]
  },
  {
   "cell_type": "code",
   "execution_count": 14,
   "id": "fff4312f",
   "metadata": {},
   "outputs": [
    {
     "name": "stdout",
     "output_type": "stream",
     "text": [
      "2020-01-01 00:00:00\n",
      "2022-12-20 00:00:00\n",
      "28420\n"
     ]
    }
   ],
   "source": [
    "print(meta_df.iloc[0][\"date\"])\n",
    "print(meta_df.iloc[-1][\"date\"])\n",
    "print(len(meta_df))"
   ]
  },
  {
   "cell_type": "code",
   "execution_count": 15,
   "id": "7b972c69",
   "metadata": {},
   "outputs": [
    {
     "name": "stdout",
     "output_type": "stream",
     "text": [
      "2021-01-14 00:00:00\n",
      "2022-12-12 00:00:00\n"
     ]
    }
   ],
   "source": [
    "print(meta_df.loc[STRAINS].iloc[0][\"date\"])\n",
    "print(meta_df.loc[STRAINS].iloc[-1][\"date\"])"
   ]
  },
  {
   "cell_type": "code",
   "execution_count": 16,
   "id": "c68e0a6d",
   "metadata": {},
   "outputs": [
    {
     "name": "stdout",
     "output_type": "stream",
     "text": [
      "2020-01-01 00:00:00\n",
      "2022-12-20 00:00:00\n"
     ]
    }
   ],
   "source": [
    "print(meta_df.iloc[0][\"date\"])\n",
    "print(meta_df.iloc[-1][\"date\"])"
   ]
  },
  {
   "cell_type": "code",
   "execution_count": 17,
   "id": "a35d1c1f",
   "metadata": {},
   "outputs": [
    {
     "name": "stdout",
     "output_type": "stream",
     "text": [
      "Alpha (B.1.1.7-like) & 3791.0 & 759.0 \\\\\n",
      "B.1.1.318-like & 10.0 & 0.0 \\\\\n",
      "B.1.1.7-like+E484K & 87.0 & 17.0 \\\\\n",
      "B.1.617.1-like & 16.0 & 2.0 \\\\\n",
      "Beta (B.1.351-like) & 102.0 & 4.0 \\\\\n",
      "Delta (AY.4-like) & 736.0 & 49.0 \\\\\n",
      "Delta (AY.4.2-like) & 73.0 & 12.0 \\\\\n",
      "Delta (B.1.617.2-like) & 8625.0 & 841.0 \\\\\n",
      "Delta (B.1.617.2-like) +K417N & 7.0 & 2.0 \\\\\n",
      "Eta (B.1.525-like) & 155.0 & 2.0 \\\\\n",
      "Gamma (P.1-like) & 24.0 & 1.0 \\\\\n",
      "Lambda (C.37-like) & 8.0 & 2.0 \\\\\n",
      "Mu (B.1.621-like) & 3.0 & 0.0 \\\\\n",
      "Omicron (BA.1-like) & 2251.0 & 539.0 \\\\\n",
      "Omicron (BA.2-like) & 5736.0 & 887.0 \\\\\n",
      "Omicron (BA.4-like) & 204.0 & 28.0 \\\\\n",
      "Omicron (BA.5-like) & 4285.0 & 591.0 \\\\\n",
      "Omicron (Unassigned) & 767.0 & 9.0 \\\\\n",
      "Probable Omicron (BA.1-like) & 86.0 & 2.0 \\\\\n",
      "Probable Omicron (BA.2-like) & 19.0 & 3.0 \\\\\n",
      "Probable Omicron (BA.4-like) & 1.0 & 0.0 \\\\\n",
      "Probable Omicron (BA.5-like) & 13.0 & 5.0 \\\\\n",
      "Probable Omicron (Unassigned) & 32.0 & 0.0 \\\\\n"
     ]
    }
   ],
   "source": [
    "for i, row in meta_df[[\"scorpio_call\"]].value_counts().to_frame(\"Initial\").join(\n",
    "    meta_df.loc[STRAINS][[\"scorpio_call\"]].value_counts().to_frame(\"Selected\"),\n",
    "    how=\"outer\"\n",
    ").fillna(0).iterrows():\n",
    "    print(i[0], \"&\", row[\"Initial\"], \"&\", row[\"Selected\"], \"\\\\\\\\\")"
   ]
  },
  {
   "cell_type": "code",
   "execution_count": 18,
   "id": "d34170ac",
   "metadata": {},
   "outputs": [
    {
     "name": "stdout",
     "output_type": "stream",
     "text": [
      "Alpha (B.1.1.7-like) & 3791 \\\\\n",
      "B.1.1.318-like & 10 \\\\\n",
      "B.1.1.7-like+E484K & 87 \\\\\n",
      "B.1.617.1-like & 16 \\\\\n",
      "Beta (B.1.351-like) & 102 \\\\\n",
      "Delta (AY.4-like) & 736 \\\\\n",
      "Delta (AY.4.2-like) & 73 \\\\\n",
      "Delta (B.1.617.2-like) & 8625 \\\\\n",
      "Delta (B.1.617.2-like) +K417N & 7 \\\\\n",
      "Eta (B.1.525-like) & 155 \\\\\n",
      "Gamma (P.1-like) & 24 \\\\\n",
      "Lambda (C.37-like) & 8 \\\\\n",
      "Mu (B.1.621-like) & 3 \\\\\n",
      "Omicron (BA.1-like) & 2251 \\\\\n",
      "Omicron (BA.2-like) & 5736 \\\\\n",
      "Omicron (BA.4-like) & 204 \\\\\n",
      "Omicron (BA.5-like) & 4285 \\\\\n",
      "Omicron (Unassigned) & 767 \\\\\n",
      "Probable Omicron (BA.1-like) & 86 \\\\\n",
      "Probable Omicron (BA.2-like) & 19 \\\\\n",
      "Probable Omicron (BA.4-like) & 1 \\\\\n",
      "Probable Omicron (BA.5-like) & 13 \\\\\n",
      "Probable Omicron (Unassigned) & 32 \\\\\n"
     ]
    }
   ],
   "source": [
    "for i, row in pd.DataFrame(meta_df[[\"scorpio_call\"]].value_counts()).sort_values(by=\"scorpio_call\").iterrows():\n",
    "    print(i[0], \"&\", row[0], \"\\\\\\\\\")"
   ]
  },
  {
   "cell_type": "code",
   "execution_count": 19,
   "id": "559423be",
   "metadata": {},
   "outputs": [],
   "source": [
    "meta_df = meta_df.loc[STRAINS]"
   ]
  },
  {
   "cell_type": "code",
   "execution_count": 20,
   "id": "e21893d0",
   "metadata": {},
   "outputs": [
    {
     "name": "stdout",
     "output_type": "stream",
     "text": [
      "3755\n"
     ]
    },
    {
     "data": {
      "text/plain": [
       "Omicron (BA.2-like)              887\n",
       "Delta (B.1.617.2-like)           841\n",
       "Alpha (B.1.1.7-like)             759\n",
       "Omicron (BA.5-like)              591\n",
       "Omicron (BA.1-like)              539\n",
       "Delta (AY.4-like)                 49\n",
       "Omicron (BA.4-like)               28\n",
       "B.1.1.7-like+E484K                17\n",
       "Delta (AY.4.2-like)               12\n",
       "Omicron (Unassigned)               9\n",
       "Probable Omicron (BA.5-like)       5\n",
       "Beta (B.1.351-like)                4\n",
       "Probable Omicron (BA.2-like)       3\n",
       "Delta (B.1.617.2-like) +K417N      2\n",
       "B.1.617.1-like                     2\n",
       "Probable Omicron (BA.1-like)       2\n",
       "Eta (B.1.525-like)                 2\n",
       "Lambda (C.37-like)                 2\n",
       "Gamma (P.1-like)                   1\n",
       "Name: scorpio_call, dtype: int64"
      ]
     },
     "execution_count": 20,
     "metadata": {},
     "output_type": "execute_result"
    }
   ],
   "source": [
    "print(meta_df[\"scorpio_call\"].value_counts().sum())\n",
    "meta_df[\"scorpio_call\"].value_counts()"
   ]
  },
  {
   "cell_type": "code",
   "execution_count": 21,
   "id": "f39e65a0",
   "metadata": {},
   "outputs": [],
   "source": [
    "meta_df.loc[:, \"group\"] = \"first\"\n",
    "meta_df.loc[meta_df[\"scorpio_call\"].str.contains(\"micron\"), \"group\"] = \"second\""
   ]
  },
  {
   "cell_type": "code",
   "execution_count": 22,
   "id": "bc6fc249",
   "metadata": {},
   "outputs": [
    {
     "name": "stdout",
     "output_type": "stream",
     "text": [
      "1691\n"
     ]
    },
    {
     "data": {
      "text/plain": [
       "scorpio_call                 \n",
       "Delta (B.1.617.2-like)           841\n",
       "Alpha (B.1.1.7-like)             759\n",
       "Delta (AY.4-like)                 49\n",
       "B.1.1.7-like+E484K                17\n",
       "Delta (AY.4.2-like)               12\n",
       "Beta (B.1.351-like)                4\n",
       "B.1.617.1-like                     2\n",
       "Delta (B.1.617.2-like) +K417N      2\n",
       "Eta (B.1.525-like)                 2\n",
       "Lambda (C.37-like)                 2\n",
       "Gamma (P.1-like)                   1\n",
       "dtype: int64"
      ]
     },
     "execution_count": 22,
     "metadata": {},
     "output_type": "execute_result"
    }
   ],
   "source": [
    "print(meta_df.loc[meta_df.index.isin(STRAINS) & \\\n",
    "    (meta_df[\"group\"] == \"first\")\n",
    "][[\"scorpio_call\"]].value_counts().sum())\n",
    "\n",
    "meta_df.loc[\n",
    "    meta_df.index.isin(STRAINS) & \\\n",
    "    (meta_df[\"group\"] == \"first\")\n",
    "][[\"scorpio_call\"]].value_counts()"
   ]
  },
  {
   "cell_type": "code",
   "execution_count": 23,
   "id": "1837c660",
   "metadata": {},
   "outputs": [
    {
     "name": "stdout",
     "output_type": "stream",
     "text": [
      "2064\n"
     ]
    },
    {
     "data": {
      "text/plain": [
       "scorpio_call                \n",
       "Omicron (BA.2-like)             887\n",
       "Omicron (BA.5-like)             591\n",
       "Omicron (BA.1-like)             539\n",
       "Omicron (BA.4-like)              28\n",
       "Omicron (Unassigned)              9\n",
       "Probable Omicron (BA.5-like)      5\n",
       "Probable Omicron (BA.2-like)      3\n",
       "Probable Omicron (BA.1-like)      2\n",
       "dtype: int64"
      ]
     },
     "execution_count": 23,
     "metadata": {},
     "output_type": "execute_result"
    }
   ],
   "source": [
    "print(meta_df.loc[meta_df.index.isin(STRAINS) & \\\n",
    "    (meta_df[\"group\"] == \"second\")\n",
    "][[\"scorpio_call\"]].value_counts().sum())\n",
    "\n",
    "meta_df.loc[\n",
    "    meta_df.index.isin(STRAINS) & \\\n",
    "    (meta_df[\"group\"] == \"second\")\n",
    "][[\"scorpio_call\"]].value_counts()"
   ]
  },
  {
   "cell_type": "code",
   "execution_count": 24,
   "id": "4d6efa79",
   "metadata": {},
   "outputs": [
    {
     "data": {
      "text/plain": [
       "lineage                                                            BA.1.18\n",
       "conflict                                                               0.0\n",
       "ambiguity_score                                                        NaN\n",
       "scorpio_call                                           Omicron (BA.1-like)\n",
       "scorpio_support                                                       0.93\n",
       "scorpio_conflict                                                       0.0\n",
       "scorpio_notes            scorpio call: Alt alleles 55; Ref alleles 0; A...\n",
       "version                                                        PANGO-v1.17\n",
       "pangolin_version                                                       4.2\n",
       "scorpio_version                                                     0.3.17\n",
       "constellation_version                                              v0.1.10\n",
       "is_designated                                                         True\n",
       "qc_status                                                             pass\n",
       "qc_notes                                            Ambiguous_content:0.02\n",
       "note                                       Assigned from designation hash.\n",
       "length                                                               29624\n",
       "polyA                                                                    2\n",
       "percN                                                                  0.0\n",
       "date                                                   2021-12-01 00:00:00\n",
       "days                                                                   695\n",
       "group                                                               second\n",
       "Name: hCoV-19/Germany/BE-ChVir26335/2021|2021-12-01|2021-12-03, dtype: object"
      ]
     },
     "execution_count": 24,
     "metadata": {},
     "output_type": "execute_result"
    }
   ],
   "source": [
    "meta_df.loc[\n",
    "    meta_df[\"group\"] == \"second\"\n",
    "].sort_values(by=[\"days\"]).iloc[0]"
   ]
  },
  {
   "cell_type": "code",
   "execution_count": 25,
   "id": "f8ce5e3e",
   "metadata": {},
   "outputs": [
    {
     "name": "stderr",
     "output_type": "stream",
     "text": [
      "/usr/local/lib/python3.8/dist-packages/seaborn/_core.py:163: FutureWarning: elementwise comparison failed; returning scalar instead, but in the future will perform elementwise comparison\n",
      "  if palette in QUAL_PALETTES:\n"
     ]
    },
    {
     "data": {
      "image/png": "[encoded data removed]",
      "text/plain": [
       "<Figure size 432x288 with 1 Axes>"
      ]
     },
     "metadata": {
      "needs_background": "light"
     },
     "output_type": "display_data"
    }
   ],
   "source": [
    "plot_df = meta_df.loc[STRAINS].copy()\n",
    "\n",
    "plot_df.loc[\n",
    "    (plot_df[\"group\"] == \"first\") & \\\n",
    "    ~(plot_df[\"scorpio_call\"].isin([\n",
    "        \"Delta (B.1.617.2-like)\",\n",
    "        \"Alpha (B.1.1.7-like)\",\n",
    "        \"Delta (AY.4-like)\"\n",
    "    ])), \"scorpio_call\"\n",
    "] = 'Other \"Ancestral variants\"'\n",
    "\n",
    "plot_df.loc[\n",
    "    (plot_df[\"group\"] == \"second\") & \\\n",
    "    ~(plot_df[\"scorpio_call\"].isin([\n",
    "        \"Omicron (BA.2-like)\",\n",
    "        \"Omicron (BA.5-like)\",\n",
    "        \"Omicron (BA.1-like)\"\n",
    "    ])), \"scorpio_call\"\n",
    "] = 'Other \"Omicrons\"'\n",
    "\n",
    "plot_df.loc[\n",
    "    plot_df[\"group\"] == \"first\",\n",
    "    \"group\"\n",
    "] = \"Early strains\"\n",
    "\n",
    "plot_df.loc[\n",
    "    plot_df[\"group\"] == \"second\",\n",
    "    \"group\"\n",
    "] = \"Omicrons\"\n",
    "\n",
    "plot_df = plot_df.rename(columns={\n",
    "    \"scorpio_call\": \"Strain\",\n",
    "    \"date\": \"Date\",\n",
    "    \"group\": \"Group\"\n",
    "})\n",
    "\n",
    "top = mpl.colormaps['Blues_r']\n",
    "bottom = mpl.colormaps['Oranges']\n",
    "colors = np.vstack((\n",
    "    # bottom(np.linspace(0.1, 0.9, 11)),\n",
    "    # top(np.linspace(0.1, 0.9, 8)),\n",
    "    bottom(np.linspace(0.1, 0.9, 4)),\n",
    "    top(np.linspace(0.1, 0.9, 4))\n",
    "))\n",
    "cmap = ListedColormap(colors, name='OrangeBlue')\n",
    "\n",
    "ax = sns.histplot(\n",
    "    x=\"Date\",\n",
    "    hue=\"Strain\",\n",
    "    hue_order=[\n",
    "        'Other \"Ancestral variants\"',\n",
    "        \"Delta (AY.4-like)\",\n",
    "        \"Alpha (B.1.1.7-like)\",\n",
    "        \"Delta (B.1.617.2-like)\",\n",
    "        \"Omicron (BA.2-like)\",\n",
    "        \"Omicron (BA.5-like)\",\n",
    "        \"Omicron (BA.1-like)\",\n",
    "        'Other \"Omicrons\"'\n",
    "    ],\n",
    "    multiple=\"stack\",\n",
    "    data=plot_df,\n",
    "    bins=10,\n",
    "    palette=cmap.colors\n",
    ")\n",
    "\n",
    "handles = ax.get_legend().legendHandles\n",
    "plt.legend(\n",
    "    handles,\n",
    "    [\n",
    "        'Other \"Ancestral variants\"',\n",
    "        \"Delta (AY.4-like)\",\n",
    "        \"Alpha (B.1.1.7-like)\",\n",
    "        \"Delta (B.1.617.2-like)\",\n",
    "        \"Omicron (BA.2-like)\",\n",
    "        \"Omicron (BA.5-like)\",\n",
    "        \"Omicron (BA.1-like)\",\n",
    "        'Other \"Omicrons\"'\n",
    "    ],\n",
    "    loc=\"upper right\",\n",
    "    prop={\"size\": 7.5}\n",
    ")\n",
    "\n",
    "plt.ylabel(\"Count\")\n",
    "plt.xlabel(\"\")\n",
    "plt.xticks(rotation=45)\n",
    "\n",
    "plt.tight_layout()\n",
    "plt.savefig(\"../../pictures/berlin-strains-300.tiff\", dpi=300)\n",
    "plt.savefig(\"../../pictures/berlin-strains-300.png\", dpi=300)"
   ]
  },
  {
   "cell_type": "markdown",
   "id": "9f5371e6",
   "metadata": {},
   "source": [
    "# Binding regions"
   ]
  },
  {
   "cell_type": "code",
   "execution_count": 26,
   "id": "479f959e",
   "metadata": {},
   "outputs": [],
   "source": [
    "rdf = pd.read_csv(f\"../../results/germany_ber/seed.csv\", sep=\";\", index_col=0)\n",
    "rdf.index = rdf.index.str.lstrip(\">\")\n",
    "rdf[\"strain\"] = rdf.index"
   ]
  },
  {
   "cell_type": "markdown",
   "id": "4e204066",
   "metadata": {},
   "source": [
    "# COAD analysis"
   ]
  },
  {
   "cell_type": "markdown",
   "id": "bfefa567",
   "metadata": {},
   "source": [
    "## Higly expressed miRNAs"
   ]
  },
  {
   "cell_type": "code",
   "execution_count": 27,
   "id": "e934d158",
   "metadata": {},
   "outputs": [],
   "source": [
    "miRNA_df = pd.read_csv(\"../../miRNA/expressed_COAD.csv\", sep=\",\")\n",
    "miRNA_df.index = miRNA_df[\"MIMAT\"]\n",
    "\n",
    "TOTAL_EXPRESSION = miRNA_df[\"CPM\"].sum()\n",
    "MIMATS = miRNA_df[\"MIMAT\"].to_list()"
   ]
  },
  {
   "cell_type": "code",
   "execution_count": 28,
   "id": "39433f04",
   "metadata": {},
   "outputs": [],
   "source": [
    "mrdf = rdf.loc[STRAINS][MIMATS]\n",
    "mrdf[\"strain\"] = mrdf.index"
   ]
  },
  {
   "cell_type": "markdown",
   "id": "f1db53d0",
   "metadata": {},
   "source": [
    "## Region count df"
   ]
  },
  {
   "cell_type": "code",
   "execution_count": 29,
   "id": "2ab76c4a",
   "metadata": {},
   "outputs": [
    {
     "name": "stderr",
     "output_type": "stream",
     "text": [
      "100%|██████████| 30/30 [00:30<00:00,  1.03s/it]\n",
      "100%|██████████| 40/40 [00:00<00:00, 255.31it/s]\n"
     ]
    }
   ],
   "source": [
    "count_df = None\n",
    "\n",
    "for protein in tqdm.tqdm(PROTEINS):\n",
    "    df = mrdf.copy()    \n",
    "    df[\"region\"] = [protein] * len(df)\n",
    "        \n",
    "    if protein != \"RNA\":\n",
    "        s, e = map(lambda x: int(x) - 1, ANNOTATION[protein].split(\"-\"))\n",
    "    else:\n",
    "        s, e = None, None\n",
    "\n",
    "    for mimat in MIMATS:\n",
    "        df[mimat] = df[mimat].apply(lambda x: region_count(x, s, e))\n",
    "\n",
    "    if count_df is None:\n",
    "        count_df = df\n",
    "    else:\n",
    "        count_df = pd.concat([count_df, df], ignore_index=True)\n",
    "\n",
    "count_df.loc[:, \"count\"] = 0\n",
    "count_df.loc[:, \"weighted count\"] = 0\n",
    "for mimat in tqdm.tqdm(MIMATS):\n",
    "    expression = (miRNA_df.loc[mimat, \"CPM\"] / TOTAL_EXPRESSION)\n",
    "    count_df[\"count\"] += count_df[mimat] \n",
    "    count_df[\"weighted count\"] += count_df[mimat] * expression"
   ]
  },
  {
   "cell_type": "code",
   "execution_count": 30,
   "id": "c7e6020e",
   "metadata": {},
   "outputs": [
    {
     "name": "stderr",
     "output_type": "stream",
     "text": [
      "100%|██████████| 40/40 [00:00<00:00, 574.45it/s]\n"
     ]
    }
   ],
   "source": [
    "wcount_df = pd.read_csv(\"../../results/wuhan/seed.csv\", sep=\";\", index_col=0)\n",
    "\n",
    "for mimat in MIMATS:\n",
    "    wcount_df[mimat] = wcount_df[mimat].apply(lambda x: region_count(x))\n",
    "    \n",
    "wcount_df.loc[:, \"count\"] = 0\n",
    "wcount_df.loc[:, \"weighted count\"] = 0\n",
    "for mimat in tqdm.tqdm(MIMATS):\n",
    "    expression = (miRNA_df.loc[mimat, \"CPM\"] / TOTAL_EXPRESSION)\n",
    "    wcount_df[\"count\"] += wcount_df[mimat]\n",
    "    wcount_df[\"weighted count\"] += wcount_df[mimat] * expression"
   ]
  },
  {
   "cell_type": "markdown",
   "id": "b32bf3a3",
   "metadata": {},
   "source": [
    "## Average count of binding regions"
   ]
  },
  {
   "cell_type": "code",
   "execution_count": 31,
   "id": "e53d0eb8",
   "metadata": {},
   "outputs": [
    {
     "data": {
      "image/png": "[encoded data removed]",
      "text/plain": [
       "<Figure size 432x288 with 2 Axes>"
      ]
     },
     "metadata": {
      "needs_background": "light"
     },
     "output_type": "display_data"
    }
   ],
   "source": [
    "plot_df = count_df.loc[count_df[\"region\"] == \"RNA\"].copy()\n",
    "\n",
    "plot_df.index = plot_df[\"strain\"]\n",
    "plot_df = plot_df[MIMATS]\n",
    "plot_df = plot_df.join(meta_df[[\"scorpio_call\", \"lineage\", \"length\"]], how=\"left\")\n",
    "\n",
    "for mimat in MIMATS:\n",
    "    plot_df[mimat] = np.array(plot_df[mimat], dtype=np.float64) * \\\n",
    "        (29903 / np.array(plot_df[\"length\"], dtype=np.float64)) - \\\n",
    "        np.array(wcount_df[mimat], dtype=np.float64)\n",
    "\n",
    "plot_df[\"strain\"] = plot_df[\"scorpio_call\"].str.split(\"(\").str[0] + \"(\" + \\\n",
    "    plot_df[\"lineage\"] + \")\"\n",
    "plot_df.index = plot_df[\"strain\"]\n",
    "plot_df = plot_df[MIMATS]\n",
    "\n",
    "plot_df = plot_df.transpose()\n",
    "\n",
    "miRNA_df.index = miRNA_df[\"MIMAT\"]\n",
    "plot_df = plot_df.join(miRNA_df[[\"miRNA\", \"CPM\"]], how=\"left\").sort_values(by=\"CPM\", ascending=False)\n",
    "plot_df.index = plot_df[\"miRNA\"]\n",
    "plot_df = plot_df.drop(columns=[\"miRNA\", \"CPM\"])\n",
    "\n",
    "plot_df[\"index\"] = plot_df.index\n",
    "miRNA_df.index = miRNA_df[\"miRNA\"]\n",
    "plot_df[\"index\"] = plot_df[\"index\"].apply(lambda x: f\"{x} ({miRNA_df.loc[x]['CPM'] / miRNA_df['CPM'].sum() * 100:.1f}%)\")\n",
    "miRNA_df.index = miRNA_df[\"MIMAT\"]\n",
    "plot_df.index = plot_df[\"index\"]\n",
    "plot_df = plot_df.drop(columns=[\"index\"])\n",
    "\n",
    "bottom = mpl.colormaps['Oranges']\n",
    "top = mpl.colormaps['Blues_r']\n",
    "colors = np.vstack((\n",
    "    top(np.linspace(0, 1, 128)),\n",
    "    [[0, 0, 0, 0]] * 10,\n",
    "    bottom(np.linspace(0, 1, 128))\n",
    "))\n",
    "cmap = ListedColormap(colors, name='OrangeBlue')\n",
    "\n",
    "sns.heatmap(\n",
    "    plot_df,\n",
    "    cmap=cmap,\n",
    "    vmin=-3,\n",
    "    vmax=3,\n",
    "    # linewidths=1,\n",
    "    # linecolor=\"white\",\n",
    "    cbar_kws={\n",
    "        \"ticks\": [-3, -2, -1, 0, 1, 2, 3],\n",
    "        # \"label\": \"Отклонение количества регионов\\nсвязывания от Wuhan варианта\"\n",
    "        \"label\": 'Deviation of the number of binding motifs\\nfrom \"Wuhan\" variant'\n",
    "    }\n",
    ")\n",
    "\n",
    "plt.yticks(\n",
    "    [0.5 + i for i in range(len(plot_df))],\n",
    "    labels=plot_df.index.to_list(),\n",
    "    fontsize=6\n",
    ")\n",
    "plt.ylabel(\"\")\n",
    "\n",
    "plt.xticks(\n",
    "    fontsize=8,\n",
    "    rotation=45,\n",
    "    ha=\"right\"\n",
    ")\n",
    "\n",
    "plt.tight_layout()\n",
    "plt.savefig(\"../../pictures/berlin-miRNA-covid-300.png\", dpi=300)\n",
    "plt.savefig(\"../../pictures/berlin-miRNA-covid-300.tiff\", dpi=300)"
   ]
  },
  {
   "cell_type": "code",
   "execution_count": 32,
   "id": "2fbfd3c2",
   "metadata": {},
   "outputs": [
    {
     "name": "stderr",
     "output_type": "stream",
     "text": [
      "/usr/local/lib/python3.8/dist-packages/seaborn/categorical.py:1296: UserWarning: 81.9% of the points cannot be placed; you may want to decrease the size of the markers or use stripplot.\n",
      "  warnings.warn(msg, UserWarning)\n",
      "/usr/local/lib/python3.8/dist-packages/seaborn/categorical.py:1296: UserWarning: 79.0% of the points cannot be placed; you may want to decrease the size of the markers or use stripplot.\n",
      "  warnings.warn(msg, UserWarning)\n"
     ]
    },
    {
     "data": {
      "image/png": "[encoded data removed]",
      "text/plain": [
       "<Figure size 432x288 with 1 Axes>"
      ]
     },
     "metadata": {
      "needs_background": "light"
     },
     "output_type": "display_data"
    }
   ],
   "source": [
    "plot_df = count_df.loc[count_df[\"region\"] == \"RNA\"].copy()\n",
    "plot_df.index = plot_df[\"strain\"]\n",
    "plot_df = plot_df[[\"weighted count\"]]\n",
    "\n",
    "plot_df = plot_df.join(meta_df[[\"scorpio_call\", \"lineage\", \"group\", \"length\"]], how=\"left\")\n",
    "\n",
    "plot_df.loc[\n",
    "    (plot_df[\"group\"] == \"first\") & \\\n",
    "    ~(plot_df[\"scorpio_call\"].isin([\n",
    "        \"Delta (B.1.617.2-like)\",\n",
    "        \"Alpha (B.1.1.7-like)\",\n",
    "        \"Delta (AY.4-like)\"\n",
    "    ])), \"scorpio_call\"\n",
    "] = 'Other \"Ancestral variants\"'\n",
    "\n",
    "plot_df.loc[\n",
    "    (plot_df[\"group\"] == \"second\") & \\\n",
    "    ~(plot_df[\"scorpio_call\"].isin([\n",
    "        \"Omicron (BA.2-like)\",\n",
    "        \"Omicron (BA.5-like)\",\n",
    "        \"Omicron (BA.1-like)\"\n",
    "    ])), \"scorpio_call\"\n",
    "] = 'Other \"Omicrons\"'\n",
    "\n",
    "plot_df.loc[plot_df[\"group\"] == \"first\", \"group\"] = \"Ancestral variants\"\n",
    "plot_df.loc[plot_df[\"group\"] == \"second\", \"group\"] = \"Omicrons\"\n",
    "plot_df = plot_df.rename(columns={\n",
    "    \"scorpio_call\": \"Strain\"\n",
    "})\n",
    "\n",
    "plot_df[\"weighted count\"] = plot_df[\"weighted count\"] * 29903 / plot_df[\"length\"] * 100\n",
    "\n",
    "top = mpl.colormaps['Blues_r']\n",
    "bottom = mpl.colormaps['Oranges']\n",
    "colors = np.vstack((\n",
    "    # bottom(np.linspace(0.1, 0.9, 11)),\n",
    "    # top(np.linspace(0.1, 0.9, 8)),\n",
    "    bottom(np.linspace(0.1, 0.9, 4)),\n",
    "    top(np.linspace(0.1, 0.9, 4))\n",
    "))\n",
    "cmap = ListedColormap(colors, name='OrangeBlue')\n",
    "\n",
    "ax = sns.swarmplot(\n",
    "    y=\"weighted count\",\n",
    "    x=\"group\",\n",
    "    hue=\"Strain\",\n",
    "    hue_order=[\n",
    "        'Other \"Ancestral variants\"',\n",
    "        \"Delta (AY.4-like)\",\n",
    "        \"Alpha (B.1.1.7-like)\",\n",
    "        \"Delta (B.1.617.2-like)\",\n",
    "        \"Omicron (BA.2-like)\",\n",
    "        \"Omicron (BA.5-like)\",\n",
    "        \"Omicron (BA.1-like)\",\n",
    "        'Other \"Omicrons\"'\n",
    "    ],\n",
    "    alpha=0.7,\n",
    "    data=plot_df,\n",
    "    palette=cmap.colors,\n",
    ")\n",
    "\n",
    "ax = sns.boxplot(\n",
    "    y=\"weighted count\",\n",
    "    x=\"group\",\n",
    "    data=plot_df,\n",
    "    # palette=cmap.colors,\n",
    "    boxprops={'facecolor': 'None'},\n",
    "    whiskerprops={'linewidth': 0},\n",
    "    showfliers=False,\n",
    "    ax=ax\n",
    ")\n",
    "\n",
    "ax.set_xlabel(\"\")\n",
    "ax.set_ylabel(\"Weighted number of binding\\nmotifs per 100 miRNAs\")\n",
    "\n",
    "# ax.set_yticks(\n",
    "#     [6.8, 7.0, 7.2, 7.4, 7.6, 7.8],\n",
    "#     [680, 700, 720, 740, 760, 780]\n",
    "# )\n",
    "\n",
    "# plt.xticks(\n",
    "#     fontsize=8,\n",
    "#     rotation=45,\n",
    "#     ha=\"right\"\n",
    "# )\n",
    "\n",
    "handles = ax.get_legend().legendHandles\n",
    "handles = ax.get_legend().legendHandles\n",
    "plt.legend(\n",
    "    handles,\n",
    "    [\n",
    "        'Other \"Ancestral variants\"',\n",
    "        \"Delta (AY.4-like)\",\n",
    "        \"Alpha (B.1.1.7-like)\",\n",
    "        \"Delta (B.1.617.2-like)\",\n",
    "        \"Omicron (BA.2-like)\",\n",
    "        \"Omicron (BA.5-like)\",\n",
    "        \"Omicron (BA.1-like)\",\n",
    "        'Other \"Omicrons\"'\n",
    "    ],\n",
    "    loc=\"lower left\",\n",
    "    prop={\"size\": 5}\n",
    ")\n",
    "\n",
    "plt.grid()\n",
    "plt.tight_layout()\n",
    "plt.savefig(\"../../pictures/berlin-covid-weighted-300.png\", dpi=300)\n",
    "plt.savefig(\"../../pictures/berlin-covid-weighted-300.tiff\", dpi=300)"
   ]
  },
  {
   "cell_type": "code",
   "execution_count": 33,
   "id": "12af34c4",
   "metadata": {},
   "outputs": [
    {
     "name": "stdout",
     "output_type": "stream",
     "text": [
      "MannwhitneyuResult(statistic=2870367.0, pvalue=4.43966852054421e-254)\n"
     ]
    }
   ],
   "source": [
    "print(mannwhitneyu(\n",
    "    plot_df.loc[plot_df[\"group\"] == \"Ancestral variants\", \"weighted count\"].to_list(),\n",
    "    plot_df.loc[plot_df[\"group\"] == \"Omicrons\", \"weighted count\"].to_list(),\n",
    "    # alternative=\"greater\"\n",
    "))"
   ]
  },
  {
   "cell_type": "code",
   "execution_count": 34,
   "id": "1ed54712",
   "metadata": {},
   "outputs": [],
   "source": [
    "import numpy as np\n",
    "from scipy.stats import spearmanr"
   ]
  },
  {
   "cell_type": "code",
   "execution_count": 35,
   "id": "a38a228b",
   "metadata": {},
   "outputs": [
    {
     "data": {
      "text/plain": [
       "SignificanceResult(statistic=-0.3421176982383663, pvalue=7.366029797653515e-80)"
      ]
     },
     "execution_count": 35,
     "metadata": {},
     "output_type": "execute_result"
    }
   ],
   "source": [
    "plot_df = count_df.loc[count_df[\"region\"] == \"RNA\"].copy()\n",
    "plot_df.index = plot_df[\"strain\"]\n",
    "plot_df = plot_df[[\"weighted count\"]]\n",
    "\n",
    "plot_df = plot_df.join(meta_df[[\n",
    "    \"scorpio_call\", \"lineage\",\n",
    "    \"group\", \"length\", \"days\"\n",
    "]], how=\"left\")\n",
    "\n",
    "\n",
    "plot_df = plot_df.loc[\n",
    "    plot_df[\"scorpio_call\"] != \"Omicron (BA.2-like)\"\n",
    "]\n",
    "\n",
    "plot_df[\"weighted count\"] = plot_df[\"weighted count\"] * 29903 / plot_df[\"length\"] * 100\n",
    "\n",
    "spearmanr(\n",
    "    plot_df[\"days\"].to_list(),\n",
    "    plot_df[\"weighted count\"].to_list(),\n",
    "    alternative=\"less\"\n",
    ")"
   ]
  },
  {
   "cell_type": "code",
   "execution_count": 36,
   "id": "b4c9bd1f",
   "metadata": {},
   "outputs": [],
   "source": [
    "from datetime import timedelta, date"
   ]
  },
  {
   "cell_type": "code",
   "execution_count": 37,
   "id": "b78b7280",
   "metadata": {},
   "outputs": [
    {
     "name": "stderr",
     "output_type": "stream",
     "text": [
      "/usr/local/lib/python3.8/dist-packages/seaborn/_core.py:163: FutureWarning: elementwise comparison failed; returning scalar instead, but in the future will perform elementwise comparison\n",
      "  if palette in QUAL_PALETTES:\n"
     ]
    },
    {
     "data": {
      "image/png": "[encoded data removed]",
      "text/plain": [
       "<Figure size 432x288 with 1 Axes>"
      ]
     },
     "metadata": {
      "needs_background": "light"
     },
     "output_type": "display_data"
    }
   ],
   "source": [
    "plot_df = count_df.loc[count_df[\"region\"] == \"RNA\"].copy()\n",
    "plot_df.index = plot_df[\"strain\"]\n",
    "plot_df = plot_df[[\"weighted count\"]]\n",
    "\n",
    "plot_df = plot_df.join(meta_df[[\n",
    "    \"scorpio_call\", \"lineage\",\n",
    "    \"group\", \"length\", \"days\", \"date\"\n",
    "]], how=\"left\")\n",
    "\n",
    "plot_df.loc[\n",
    "    (plot_df[\"group\"] == \"first\") & \\\n",
    "    ~(plot_df[\"scorpio_call\"].isin([\n",
    "        \"Delta (B.1.617.2-like)\",\n",
    "        \"Alpha (B.1.1.7-like)\",\n",
    "        \"Delta (AY.4-like)\"\n",
    "    ])), \"scorpio_call\"\n",
    "] = 'Other \"Ancestral variants\"'\n",
    "\n",
    "plot_df.loc[\n",
    "    (plot_df[\"group\"] == \"second\") & \\\n",
    "    ~(plot_df[\"scorpio_call\"].isin([\n",
    "        \"Omicron (BA.2-like)\",\n",
    "        \"Omicron (BA.5-like)\",\n",
    "        \"Omicron (BA.1-like)\"\n",
    "    ])), \"scorpio_call\"\n",
    "] = 'Other \"Omicrons\"'\n",
    "\n",
    "# plot_df = plot_df.loc[\n",
    "#     plot_df[\"scorpio_call\"] != \"Omicron (BA.2-like)\"\n",
    "# ]\n",
    "\n",
    "plot_df.loc[plot_df[\"group\"] == \"first\", \"group\"] = \"Ancestral variants\"\n",
    "plot_df.loc[plot_df[\"group\"] == \"second\", \"group\"] = \"Omicrons\"\n",
    "plot_df = plot_df.rename(columns={\n",
    "    \"scorpio_call\": \"Strain\"\n",
    "})\n",
    "\n",
    "plot_df[\"weighted count\"] = plot_df[\"weighted count\"] * 29903 / plot_df[\"length\"] * 100\n",
    "\n",
    "top = mpl.colormaps['Blues_r']\n",
    "bottom = mpl.colormaps['Oranges']\n",
    "colors = np.vstack((\n",
    "    # bottom(np.linspace(0.1, 0.9, 11)),\n",
    "    # top(np.linspace(0.1, 0.9, 8)),\n",
    "    bottom(np.linspace(0.1, 0.9, 4)),\n",
    "    top(np.linspace(0.1, 0.9, 4))\n",
    "))\n",
    "cmap = ListedColormap(colors, name='OrangeBlue')\n",
    "\n",
    "ax = sns.scatterplot(\n",
    "    x=\"days\",\n",
    "    y=\"weighted count\",\n",
    "    data=plot_df,\n",
    "    hue=\"Strain\",\n",
    "    hue_order=[\n",
    "        'Other \"Ancestral variants\"',\n",
    "        \"Delta (AY.4-like)\",\n",
    "        \"Alpha (B.1.1.7-like)\",\n",
    "        \"Delta (B.1.617.2-like)\",\n",
    "        \"Omicron (BA.2-like)\",\n",
    "        \"Omicron (BA.5-like)\",\n",
    "        \"Omicron (BA.1-like)\",\n",
    "        'Other \"Omicrons\"'\n",
    "    ],\n",
    "    linewidth=0.3,\n",
    "    alpha=0.7,\n",
    "    palette=cmap.colors,\n",
    "    legend=False\n",
    ")\n",
    "\n",
    "ax = sns.regplot(\n",
    "    x=plot_df.loc[\n",
    "        plot_df[\"Strain\"] != \"Omicron (BA.2-like)\"\n",
    "    ][\"days\"],\n",
    "    y=plot_df.loc[\n",
    "        plot_df[\"Strain\"] != \"Omicron (BA.2-like)\"\n",
    "    ][\"weighted count\"].astype(float),\n",
    "    scatter=False,\n",
    "    line_kws={\n",
    "        'color': \"green\",\n",
    "        'alpha': 0.3\n",
    "    },\n",
    "    order=1,\n",
    "    ci=100,\n",
    "    ax=ax\n",
    ")\n",
    "\n",
    "ax.set_xlim(left=350, right=1090)\n",
    "ax.xaxis.set_ticks(list(range(370, 1170, 100)))\n",
    "ax.xaxis.set_ticklabels(\n",
    "    \"-\".join(str(date).split()[0].split(\"-\")[:-1]) for date in [\n",
    "        START + pd.DateOffset(days=d) for d in range(370, 1170, 100)\n",
    "    ]\n",
    ")\n",
    "\n",
    "plt.xticks(rotation=45)\n",
    "plt.xlabel(\"\")\n",
    "# ax.set_xlabel(\"Number of days since the pandemic start\")\n",
    "plt.ylabel(\"Weighted number of binding\\nmotifs per 100 miRNAs\")\n",
    "\n",
    "plt.grid()\n",
    "plt.tight_layout()\n",
    "plt.savefig(\"../../pictures/berlin-covid-weighted-time-300.png\", dpi=300)\n",
    "plt.savefig(\"../../pictures/berlin-covid-weighted-time-300.tiff\", dpi=300)"
   ]
  },
  {
   "cell_type": "code",
   "execution_count": 38,
   "id": "65fc9854",
   "metadata": {},
   "outputs": [
    {
     "name": "stdout",
     "output_type": "stream",
     "text": [
      "MannwhitneyuResult(statistic=1378968.0, pvalue=2.5699801764800735e-69)\n"
     ]
    }
   ],
   "source": [
    "print(mannwhitneyu(\n",
    "    plot_df.loc[\n",
    "        (plot_df[\"group\"] == \"Ancestral variants\") & \\\n",
    "        (plot_df[\"Strain\"] != \"Omicron (BA.2-like)\"),\n",
    "        \"weighted count\"\n",
    "    ].to_list(),\n",
    "    plot_df.loc[\n",
    "        (plot_df[\"group\"] == \"Omicrons\") & \\\n",
    "        (plot_df[\"Strain\"] != \"Omicron (BA.2-like)\"),\n",
    "        \"weighted count\"\n",
    "    ].to_list(),\n",
    "))"
   ]
  },
  {
   "cell_type": "markdown",
   "id": "7cfcce86",
   "metadata": {},
   "source": [
    "## Seed region distribution"
   ]
  },
  {
   "cell_type": "code",
   "execution_count": 63,
   "id": "54ce7173",
   "metadata": {},
   "outputs": [],
   "source": [
    "seed_df = rdf.copy()\n",
    "seed_df = seed_df.loc[STRAINS][MIMATS]\n",
    "\n",
    "seed_df = seed_df.join(meta_df[[\"lineage\", \"length\", \"days\", \"group\", \"scorpio_call\"]], how=\"left\")\n",
    "seed_df = seed_df.loc[\n",
    "    (seed_df[\"group\"] == \"second\") # | \\\n",
    "#     (seed_df[\"scorpio_call\"] != \"Omicron (BA.2-like)\")\n",
    "]\n",
    "\n",
    "seed_df.loc[\n",
    "    (seed_df[\"scorpio_call\"] == \"Omicron (BA.2-like)\"),\n",
    "    \"group\"\n",
    "] = \"first\"\n",
    "\n",
    "seed_df.loc[\n",
    "    (seed_df[\"scorpio_call\"] != \"Omicron (BA.2-like)\"),\n",
    "    \"group\"\n",
    "] = \"second\"\n",
    "\n",
    "seed_df = seed_df.drop(columns=[\"scorpio_call\"])"
   ]
  },
  {
   "cell_type": "code",
   "execution_count": 64,
   "id": "36dc72da",
   "metadata": {},
   "outputs": [],
   "source": [
    "first_group = seed_df.loc[seed_df[\"group\"] == \"first\"]\n",
    "second_group = seed_df.loc[seed_df[\"group\"] == \"second\"]"
   ]
  },
  {
   "cell_type": "code",
   "execution_count": 65,
   "id": "20be0a32",
   "metadata": {},
   "outputs": [
    {
     "name": "stderr",
     "output_type": "stream",
     "text": [
      "100%|██████████| 40/40 [00:02<00:00, 15.35it/s]\n",
      "100%|██████████| 40/40 [00:04<00:00,  8.85it/s]\n"
     ]
    },
    {
     "data": {
      "text/html": [
       "<div>\n",
       "<style scoped>\n",
       "    .dataframe tbody tr th:only-of-type {\n",
       "        vertical-align: middle;\n",
       "    }\n",
       "\n",
       "    .dataframe tbody tr th {\n",
       "        vertical-align: top;\n",
       "    }\n",
       "\n",
       "    .dataframe thead th {\n",
       "        text-align: right;\n",
       "    }\n",
       "</style>\n",
       "<table border=\"1\" class=\"dataframe\">\n",
       "  <thead>\n",
       "    <tr style=\"text-align: right;\">\n",
       "      <th></th>\n",
       "      <th>group</th>\n",
       "      <th>seed</th>\n",
       "      <th>miRNA</th>\n",
       "    </tr>\n",
       "  </thead>\n",
       "  <tbody>\n",
       "    <tr>\n",
       "      <th>0</th>\n",
       "      <td>first</td>\n",
       "      <td>12449</td>\n",
       "      <td>MIMAT0000062</td>\n",
       "    </tr>\n",
       "    <tr>\n",
       "      <th>1</th>\n",
       "      <td>first</td>\n",
       "      <td>19060</td>\n",
       "      <td>MIMAT0000062</td>\n",
       "    </tr>\n",
       "    <tr>\n",
       "      <th>2</th>\n",
       "      <td>first</td>\n",
       "      <td>12449</td>\n",
       "      <td>MIMAT0000062</td>\n",
       "    </tr>\n",
       "    <tr>\n",
       "      <th>3</th>\n",
       "      <td>first</td>\n",
       "      <td>19060</td>\n",
       "      <td>MIMAT0000062</td>\n",
       "    </tr>\n",
       "    <tr>\n",
       "      <th>4</th>\n",
       "      <td>first</td>\n",
       "      <td>12449</td>\n",
       "      <td>MIMAT0000062</td>\n",
       "    </tr>\n",
       "  </tbody>\n",
       "</table>\n",
       "</div>"
      ],
      "text/plain": [
       "   group   seed         miRNA\n",
       "0  first  12449  MIMAT0000062\n",
       "1  first  19060  MIMAT0000062\n",
       "2  first  12449  MIMAT0000062\n",
       "3  first  19060  MIMAT0000062\n",
       "4  first  12449  MIMAT0000062"
      ]
     },
     "execution_count": 65,
     "metadata": {},
     "output_type": "execute_result"
    }
   ],
   "source": [
    "def extract(seeds):\n",
    "    seeds = seeds.lstrip(\"[\").rstrip(\"]\").split(\", \")\n",
    "    seeds = list(map(int, [s for s in seeds if s]))\n",
    "    return seeds\n",
    "\n",
    "result_df = pd.DataFrame(columns=[\"group\", \"seed\", \"miRNA\"])\n",
    "for name, group in zip((\"first\", \"second\"), (first_group, second_group)):\n",
    "    coords = []\n",
    "    for mimat in tqdm.tqdm(MIMATS):\n",
    "        # expression = int(miRNA_df.loc[mimat][\"CPM\"] / TOTAL_EXPRESSION * 1000)\n",
    "        # seeds = group[mimat].apply(lambda x: extract(x) * expression).to_list()\n",
    "        weights = np.array(group[mimat].apply(lambda x: len(extract(x))))\n",
    "        expression = np.ones(len(weights)) * int(miRNA_df.loc[mimat][\"CPM\"] / TOTAL_EXPRESSION * 1000)\n",
    "        expression[weights <= 0] = 0\n",
    "        weights[weights <= 0] = 1\n",
    "        weights = np.array(expression / weights, dtype=\"int\")\n",
    "        seeds = group[mimat].apply(lambda x: extract(x)) * weights\n",
    "        \n",
    "        append = []\n",
    "        for s in seeds:\n",
    "            append += s\n",
    "        \n",
    "        append_df = pd.DataFrame(columns=result_df.columns)\n",
    "        append_df[\"seed\"] = append\n",
    "        append_df.loc[:, \"group\"] = name \n",
    "        append_df.loc[:, \"miRNA\"] = mimat\n",
    "        result_df = pd.concat([result_df, append_df], ignore_index=True)\n",
    "        \n",
    "result_df.head()"
   ]
  },
  {
   "cell_type": "markdown",
   "id": "564e5d0e",
   "metadata": {},
   "source": [
    "### Ribosome hypothesis"
   ]
  },
  {
   "cell_type": "code",
   "execution_count": 471,
   "id": "3a7926c3",
   "metadata": {},
   "outputs": [],
   "source": [
    "ribo_df = pd.read_csv(\"../../external/covid-RPF.csv\", sep=\";\")"
   ]
  },
  {
   "cell_type": "code",
   "execution_count": 472,
   "id": "f1d09f7a",
   "metadata": {},
   "outputs": [
    {
     "name": "stderr",
     "output_type": "stream",
     "text": [
      "100%|██████████| 29903/29903 [00:04<00:00, 6569.27it/s]\n"
     ]
    }
   ],
   "source": [
    "ribo_df = ribo_df[[\"position\", \"RPF36\"]].rename(columns={\"RPF36\": \"RPF\"})\n",
    "positions = []\n",
    "for i, row in tqdm.tqdm(ribo_df.iterrows(), total=len(ribo_df)):\n",
    "    positions.extend([row[\"position\"] - 1] * int(row[\"RPF\"].split(\",\")[0]))\n",
    "    \n",
    "ribo_df = pd.DataFrame(positions, columns=[\"seed\"])\n",
    "ribo_df[\"group\"] = \"Ribosome\""
   ]
  },
  {
   "cell_type": "code",
   "execution_count": 475,
   "id": "54ed31da",
   "metadata": {},
   "outputs": [],
   "source": [
    "stat_df = result_df.copy()\n",
    "stat_df = stat_df.drop(columns=[\"miRNA\"])\n",
    "stat_df = stat_df.loc[stat_df[\"group\"] == \"first\"]\n",
    "stat_df.loc[stat_df[\"group\"] == \"first\", \"group\"] = \"Ancestral variants\"\n",
    "# plot_df.loc[plot_df[\"group\"] == \"second\", \"group\"] = \"Omicrons\"\n",
    "stat_df = pd.concat([\n",
    "    stat_df,\n",
    "    ribo_df\n",
    "], ignore_index=True)\n",
    "stat_df = stat_df.sort_values(by=\"seed\")"
   ]
  },
  {
   "cell_type": "code",
   "execution_count": 476,
   "id": "a03720ec",
   "metadata": {},
   "outputs": [],
   "source": [
    "total_mir = len(stat_df.loc[stat_df[\"group\"] == \"Ancestral variants\"])\n",
    "total_rib = len(stat_df.loc[stat_df[\"group\"] == \"Ribosome\"])"
   ]
  },
  {
   "cell_type": "code",
   "execution_count": 477,
   "id": "eb6f1cf2",
   "metadata": {},
   "outputs": [
    {
     "name": "stdout",
     "output_type": "stream",
     "text": [
      "1358762\n",
      "5124242\n"
     ]
    }
   ],
   "source": [
    "print(total_mir)\n",
    "print(total_rib)"
   ]
  },
  {
   "cell_type": "code",
   "execution_count": 481,
   "id": "dbae18b5",
   "metadata": {},
   "outputs": [
    {
     "name": "stderr",
     "output_type": "stream",
     "text": [
      " 88%|████████▊ | 26264/30000 [00:38<00:05, 682.61it/s]\n"
     ]
    }
   ],
   "source": [
    "rst = np.zeros(shape=(29903, 3), dtype=np.int)\n",
    "group = stat_df.groupby([\"seed\"])\n",
    "for sd, df in tqdm.tqdm(group, total=29903):\n",
    "    x = len(df.loc[df[\"group\"] == \"Ancestral variants\"])\n",
    "    y = len(df.loc[df[\"group\"] == \"Ribosome\"])\n",
    "    rst[sd] = [sd, x, y]"
   ]
  },
  {
   "cell_type": "code",
   "execution_count": 482,
   "id": "1967f5a2",
   "metadata": {},
   "outputs": [
    {
     "name": "stdout",
     "output_type": "stream",
     "text": [
      "29903\n"
     ]
    }
   ],
   "source": [
    "print(len(rst))"
   ]
  },
  {
   "cell_type": "code",
   "execution_count": 495,
   "id": "cad4d567",
   "metadata": {},
   "outputs": [],
   "source": [
    "binnum = 1000\n",
    "binsize = 29903 // binnum\n",
    "bins = np.zeros(shape=(binnum, 2), dtype=np.float64)\n",
    "for i in range(binnum):\n",
    "    start = binsize * i\n",
    "    end = binsize * (i + 1)\n",
    "    \n",
    "    if i == binnum:\n",
    "        end = 29903\n",
    "    bins[i] = rst[start:end, 1:].sum()"
   ]
  },
  {
   "cell_type": "code",
   "execution_count": 496,
   "id": "9278e73d",
   "metadata": {},
   "outputs": [
    {
     "name": "stderr",
     "output_type": "stream",
     "text": [
      "100%|██████████| 1000/1000 [00:00<00:00, 182893.82it/s]\n"
     ]
    }
   ],
   "source": [
    "_with = []\n",
    "_without = []\n",
    "for i in tqdm.tqdm(range(len(bins))):\n",
    "    x, y = bins[i]\n",
    "    if x / total_mir > 0.01:\n",
    "        _without.append(y)\n",
    "    else:\n",
    "        _with.append(y)"
   ]
  },
  {
   "cell_type": "code",
   "execution_count": 497,
   "id": "28fcac0d",
   "metadata": {},
   "outputs": [
    {
     "name": "stdout",
     "output_type": "stream",
     "text": [
      "87 913\n"
     ]
    }
   ],
   "source": [
    "print(len(_without), len(_with))"
   ]
  },
  {
   "cell_type": "code",
   "execution_count": 494,
   "id": "fb1b2942",
   "metadata": {},
   "outputs": [
    {
     "name": "stdout",
     "output_type": "stream",
     "text": [
      "93036.79104477612 7561.787878787879\n"
     ]
    },
    {
     "data": {
      "text/plain": [
       "MannwhitneyuResult(statistic=2211.0, pvalue=5.485123873174502e-16)"
      ]
     },
     "execution_count": 494,
     "metadata": {},
     "output_type": "execute_result"
    }
   ],
   "source": [
    "print(np.mean(_without), np.mean(_with))\n",
    "mannwhitneyu(_without, _with)"
   ]
  },
  {
   "cell_type": "markdown",
   "id": "bafdb655",
   "metadata": {},
   "source": [
    "### Seed distribution"
   ]
  },
  {
   "cell_type": "code",
   "execution_count": 377,
   "id": "15209573",
   "metadata": {},
   "outputs": [
    {
     "name": "stderr",
     "output_type": "stream",
     "text": [
      "/usr/local/lib/python3.8/dist-packages/seaborn/_core.py:163: FutureWarning: elementwise comparison failed; returning scalar instead, but in the future will perform elementwise comparison\n",
      "  if palette in QUAL_PALETTES:\n"
     ]
    },
    {
     "data": {
      "image/png": "[encoded data removed]",
      "text/plain": [
       "<Figure size 864x288 with 2 Axes>"
      ]
     },
     "metadata": {
      "needs_background": "light"
     },
     "output_type": "display_data"
    }
   ],
   "source": [
    "plot_df = result_df.copy()\n",
    "plot_df = plot_df.drop(columns=[\"miRNA\"])\n",
    "plot_df = plot_df.loc[plot_df[\"group\"] == \"first\"]\n",
    "plot_df.loc[plot_df[\"group\"] == \"first\", \"group\"] = \"Ancestral variants\"\n",
    "# plot_df.loc[plot_df[\"group\"] == \"second\", \"group\"] = \"Omicrons\"\n",
    "plot_df = pd.concat([\n",
    "    plot_df,\n",
    "    ribo_df\n",
    "], ignore_index=True)\n",
    "\n",
    "plot_df = plot_df.rename(columns={\n",
    "    \"group\": \"Group\"\n",
    "})\n",
    "\n",
    "fig, ax = plt.subplots(figsize=(12, 4))\n",
    "\n",
    "ax.set_ylabel(\"Number of binding motifs\\nper 100 miRNAs\")\n",
    "ax.set_xlabel('\"Wuhan\" RNA coordinate') \n",
    "ax.set_xlim(0, 30330)\n",
    "\n",
    "annotation = {\n",
    "    \"NSP1\": \"266-805\",\n",
    "    \"NSP2\": \"806-2719\",\n",
    "    \"NSP3\": \"2720-8554\",\n",
    "    \"NSP4\": \"8555-10054\",\n",
    "    \"NSP5\": \"10055-10972\",\n",
    "    # \"NSP6\": \"10973-11842\",\n",
    "    # \"NSP7\": \"11843-12091\",\n",
    "    # \"NSP8\": \"12092-12685\",\n",
    "    \"NSP6-8\": \"10973-12685\",\n",
    "    # \"NSP9\": \"12686-13024\",\n",
    "    # \"NSP10\": \"13025-13441\",\n",
    "    # \"NSP11\": \"13442-13480\",\n",
    "    \"NSP9-11\": \"12686-13480\",\n",
    "    # \"NSP12\": \"13442-13468\",\n",
    "    \"NSP12\": \"13468-16236\",\n",
    "    \"NSP13\": \"16237-18039\",\n",
    "    \"NSP14\": \"18040-19620\",\n",
    "    \"NSP15\": \"19621-20658\",\n",
    "    \"NSP16\": \"20659-21552\",\n",
    "    \"Spike\": \"21563-25384\",\n",
    "    \"NS3\": \"25393-26220\",\n",
    "    \"E\": \"26245-26472\",\n",
    "    \"M\": \"26523-27191\",\n",
    "    # \"NS6\": \"27202-27387\",\n",
    "    # \"NS7a\": \"27394-27759\",\n",
    "    # \"NS7b\": \"27756-27887\",\n",
    "    # \"NS8\": \"27894-28259\",\n",
    "    \"NS6-8\": \"27202-28295\",\n",
    "    \"N, NS9*\": \"28274-29533\",\n",
    "    # \"NS9b\": \"28284-28577\",\n",
    "    # \"NS9c\": \"28734-28955\"\n",
    "}\n",
    "\n",
    "axsub = ax.twiny()\n",
    "axsub.xaxis.set_ticks_position('bottom')\n",
    "axsub.spines['bottom'].set_position(('outward', 36))\n",
    "\n",
    "ticks = []\n",
    "centers = []\n",
    "proteins = []\n",
    "for protein, region in annotation.items():\n",
    "    start, end = map(int, region.split(\"-\"))\n",
    "    ticks.append(start - 1)\n",
    "    ticks.append(end - 1)\n",
    "    \n",
    "    center = (start + end - 2) // 2\n",
    "    centers.append(center)\n",
    "    proteins.append(protein)\n",
    "\n",
    "i = 0\n",
    "while i < len(ticks):\n",
    "    axsub.axvspan(ticks[i], ticks[i + 1], alpha=0.2, color=\"lightgrey\")\n",
    "    i += 4\n",
    "\n",
    "top = mpl.colormaps['Blues_r']\n",
    "bottom = mpl.colormaps['Oranges']\n",
    "colors = np.vstack((\n",
    "    top(np.linspace(0.3, 1, 1)),\n",
    "    bottom(np.linspace(0.55, 1, 1))\n",
    "))\n",
    "cmap = ListedColormap(colors, name='OrangeBlue')\n",
    "    \n",
    "fg = sns.histplot(\n",
    "    x=\"seed\",\n",
    "    hue=\"Group\",\n",
    "    hue_order=[\"Ancestral variants\", \"Ribosome\"],\n",
    "    data=plot_df,\n",
    "    stat=\"probability\",\n",
    "    common_norm=False,\n",
    "    bins=100,\n",
    "    binrange=(0, 30330),\n",
    "    palette=cmap.colors,\n",
    "    alpha=0.6,\n",
    "    ax=axsub\n",
    ")\n",
    "\n",
    "axsub.set_xlim(0, 30330)\n",
    "    \n",
    "axsub.set_xticks(\n",
    "    centers,\n",
    "    labels=proteins,\n",
    "    rotation=45,\n",
    "    ha=\"center\"\n",
    ")\n",
    "\n",
    "axsub.set_xlabel(\"\")\n",
    "\n",
    "ax.set_ylim((0, 0.18))\n",
    "ax.set_yticks(\n",
    "    [i / 100 for i in range(0, 20, 2)],\n",
    "    labels=[i for i in range(0, 20, 2)]\n",
    ")\n",
    "\n",
    "plt.tight_layout()"
   ]
  },
  {
   "cell_type": "markdown",
   "id": "2d4dc8a7",
   "metadata": {},
   "source": [
    "### Binding region distribution"
   ]
  },
  {
   "cell_type": "code",
   "execution_count": null,
   "id": "231ca04a",
   "metadata": {},
   "outputs": [],
   "source": [
    "plot_df = result_df.copy()\n",
    "plot_df.loc[plot_df[\"group\"] == \"first\", \"group\"] = \"Ancestral variants\"\n",
    "plot_df.loc[plot_df[\"group\"] == \"second\", \"group\"] = \"Omicrons\"\n",
    "plot_df = plot_df.rename(columns={\n",
    "    \"group\": \"Group\"\n",
    "})\n",
    "\n",
    "fig, ax = plt.subplots(figsize=(12, 4))\n",
    "\n",
    "ax.set_ylabel(\"Number of binding motifs\\nper 100 miRNAs\")\n",
    "ax.set_xlabel('\"Wuhan\" RNA coordinate') \n",
    "ax.set_xlim(0, 30330)\n",
    "\n",
    "annotation = {\n",
    "    \"NSP1\": \"266-805\",\n",
    "    \"NSP2\": \"806-2719\",\n",
    "    \"NSP3\": \"2720-8554\",\n",
    "    \"NSP4\": \"8555-10054\",\n",
    "    \"NSP5\": \"10055-10972\",\n",
    "    # \"NSP6\": \"10973-11842\",\n",
    "    # \"NSP7\": \"11843-12091\",\n",
    "    # \"NSP8\": \"12092-12685\",\n",
    "    \"NSP6-8\": \"10973-12685\",\n",
    "    # \"NSP9\": \"12686-13024\",\n",
    "    # \"NSP10\": \"13025-13441\",\n",
    "    # \"NSP11\": \"13442-13480\",\n",
    "    \"NSP9-11\": \"12686-13480\",\n",
    "    # \"NSP12\": \"13442-13468\",\n",
    "    \"NSP12\": \"13468-16236\",\n",
    "    \"NSP13\": \"16237-18039\",\n",
    "    \"NSP14\": \"18040-19620\",\n",
    "    \"NSP15\": \"19621-20658\",\n",
    "    \"NSP16\": \"20659-21552\",\n",
    "    \"Spike\": \"21563-25384\",\n",
    "    \"NS3\": \"25393-26220\",\n",
    "    \"E\": \"26245-26472\",\n",
    "    \"M\": \"26523-27191\",\n",
    "    # \"NS6\": \"27202-27387\",\n",
    "    # \"NS7a\": \"27394-27759\",\n",
    "    # \"NS7b\": \"27756-27887\",\n",
    "    # \"NS8\": \"27894-28259\",\n",
    "    \"NS6-8\": \"27202-28295\",\n",
    "    \"N, NS9*\": \"28274-29533\",\n",
    "    # \"NS9b\": \"28284-28577\",\n",
    "    # \"NS9c\": \"28734-28955\"\n",
    "}\n",
    "\n",
    "axsub = ax.twiny()\n",
    "axsub.xaxis.set_ticks_position('bottom')\n",
    "axsub.spines['bottom'].set_position(('outward', 36))\n",
    "\n",
    "ticks = []\n",
    "centers = []\n",
    "proteins = []\n",
    "for protein, region in annotation.items():\n",
    "    start, end = map(int, region.split(\"-\"))\n",
    "    ticks.append(start - 1)\n",
    "    ticks.append(end - 1)\n",
    "    \n",
    "    center = (start + end - 2) // 2\n",
    "    centers.append(center)\n",
    "    proteins.append(protein)\n",
    "\n",
    "i = 0\n",
    "while i < len(ticks):\n",
    "    axsub.axvspan(ticks[i], ticks[i + 1], alpha=0.2, color=\"lightgrey\")\n",
    "    i += 4\n",
    "\n",
    "top = mpl.colormaps['Blues_r']\n",
    "bottom = mpl.colormaps['Oranges']\n",
    "colors = np.vstack((\n",
    "    top(np.linspace(0.3, 1, 1)),\n",
    "    bottom(np.linspace(0.55, 1, 1))\n",
    "))\n",
    "cmap = ListedColormap(colors, name='OrangeBlue')\n",
    "    \n",
    "fg = sns.histplot(\n",
    "    x=\"seed\",\n",
    "    hue=\"Group\",\n",
    "    hue_order=[\"Omicrons\", \"Ancestral variants\"],\n",
    "    data=plot_df,\n",
    "    stat=\"probability\",\n",
    "    common_norm=False,\n",
    "    bins=100,\n",
    "    binrange=(0, 30330),\n",
    "    palette=cmap.colors,\n",
    "    alpha=0.6,\n",
    "    ax=axsub\n",
    ")\n",
    "\n",
    "axsub.set_xlim(0, 30330)\n",
    "    \n",
    "axsub.set_xticks(\n",
    "    centers,\n",
    "    labels=proteins,\n",
    "    rotation=45,\n",
    "    ha=\"center\"\n",
    ")\n",
    "\n",
    "axsub.set_xlabel(\"\")\n",
    "\n",
    "ax.set_ylim((0, 0.18))\n",
    "ax.set_yticks(\n",
    "    [i / 100 for i in range(0, 20, 2)],\n",
    "    labels=[i for i in range(0, 20, 2)]\n",
    ")\n",
    "\n",
    "plt.tight_layout()\n",
    "plt.savefig(\"../../pictures/berlin-seed-distribution-early-omicron2-300.png\", dpi=300)\n",
    "plt.savefig(\"../../pictures/berlin-seed-distribution-early-omicron2-300.tiff\", dpi=300)"
   ]
  },
  {
   "cell_type": "code",
   "execution_count": 66,
   "id": "a6e351b2",
   "metadata": {},
   "outputs": [
    {
     "name": "stderr",
     "output_type": "stream",
     "text": [
      "/usr/local/lib/python3.8/dist-packages/pandas/core/indexing.py:1732: SettingWithCopyWarning: \n",
      "A value is trying to be set on a copy of a slice from a DataFrame\n",
      "\n",
      "See the caveats in the documentation: https://pandas.pydata.org/pandas-docs/stable/user_guide/indexing.html#returning-a-view-versus-a-copy\n",
      "  self._setitem_single_block(indexer, value, name)\n",
      "/usr/local/lib/python3.8/dist-packages/pandas/core/indexing.py:723: SettingWithCopyWarning: \n",
      "A value is trying to be set on a copy of a slice from a DataFrame\n",
      "\n",
      "See the caveats in the documentation: https://pandas.pydata.org/pandas-docs/stable/user_guide/indexing.html#returning-a-view-versus-a-copy\n",
      "  iloc._setitem_with_indexer(indexer, value, self.name)\n"
     ]
    },
    {
     "data": {
      "image/png": "[encoded data removed]",
      "text/plain": [
       "<Figure size 864x288 with 2 Axes>"
      ]
     },
     "metadata": {
      "needs_background": "light"
     },
     "output_type": "display_data"
    }
   ],
   "source": [
    "plot_df = result_df.loc[result_df[\"group\"] == \"first\"]\n",
    "\n",
    "mimats = miRNA_df.sort_values(\n",
    "    by=[\"CPM\"], ascending=False\n",
    ").iloc[:5][\"MIMAT\"].to_list()\n",
    "\n",
    "labels = []\n",
    "plot_df.loc[~plot_df[\"miRNA\"].isin(mimats), \"miRNA\"] = \\\n",
    "    f\"Other miRNAs ({100 * (1 - miRNA_df.loc[mimats]['CPM'].sum() / TOTAL_EXPRESSION):.2f}%)\"\n",
    "for mimat in mimats:\n",
    "    plot_df.loc[plot_df[\"miRNA\"] == mimat, \"miRNA\"] = \\\n",
    "        f\"{miRNA_df.loc[mimat]['miRNA']} ({miRNA_df.loc[mimat]['CPM'] / TOTAL_EXPRESSION * 100:.2f}%)\"\n",
    "    labels.append(f\"{miRNA_df.loc[mimat]['miRNA']} ({miRNA_df.loc[mimat]['CPM'] / TOTAL_EXPRESSION * 100:.2f}%)\")\n",
    "labels.append(f\"Other miRNAs ({100 * (1 - miRNA_df.loc[mimats]['CPM'].sum() / TOTAL_EXPRESSION):.2f}%)\")\n",
    "    \n",
    "fig, ax = plt.subplots(figsize=(12, 4))\n",
    "\n",
    "ax.set_ylabel(\"Number of binding motifs\\nper 100 miRNAs\")\n",
    "ax.set_xlabel('\"Wuhan\" RNA coordinate')\n",
    "ax.set_xlim(0, 30330)\n",
    "\n",
    "annotation = {\n",
    "    \"NSP1\": \"266-805\",\n",
    "    \"NSP2\": \"806-2719\",\n",
    "    \"NSP3\": \"2720-8554\",\n",
    "    \"NSP4\": \"8555-10054\",\n",
    "    \"NSP5\": \"10055-10972\",\n",
    "    # \"NSP6\": \"10973-11842\",\n",
    "    # \"NSP7\": \"11843-12091\",\n",
    "    # \"NSP8\": \"12092-12685\",\n",
    "    \"NSP6-8\": \"10973-12685\",\n",
    "    # \"NSP9\": \"12686-13024\",\n",
    "    # \"NSP10\": \"13025-13441\",\n",
    "    # \"NSP11\": \"13442-13480\",\n",
    "    \"NSP9-11\": \"12686-13480\",\n",
    "    # \"NSP12\": \"13442-13468\",\n",
    "    \"NSP12\": \"13468-16236\",\n",
    "    \"NSP13\": \"16237-18039\",\n",
    "    \"NSP14\": \"18040-19620\",\n",
    "    \"NSP15\": \"19621-20658\",\n",
    "    \"NSP16\": \"20659-21552\",\n",
    "    \"Spike\": \"21563-25384\",\n",
    "    \"NS3\": \"25393-26220\",\n",
    "    \"E\": \"26245-26472\",\n",
    "    \"M\": \"26523-27191\",\n",
    "    # \"NS6\": \"27202-27387\",\n",
    "    # \"NS7a\": \"27394-27759\",\n",
    "    # \"NS7b\": \"27756-27887\",\n",
    "    # \"NS8\": \"27894-28259\",\n",
    "    \"NS6-8\": \"27202-28295\",\n",
    "    \"N, NS9*\": \"28274-29533\",\n",
    "    # \"NS9b\": \"28284-28577\",\n",
    "    # \"NS9c\": \"28734-28955\"\n",
    "}\n",
    "\n",
    "axsub = ax.twiny()\n",
    "axsub.xaxis.set_ticks_position('bottom')\n",
    "axsub.spines['bottom'].set_position(('outward', 36))\n",
    "\n",
    "ticks = []\n",
    "centers = []\n",
    "proteins = []\n",
    "for protein, region in annotation.items():\n",
    "    start, end = map(int, region.split(\"-\"))\n",
    "    ticks.append(start - 1)\n",
    "    ticks.append(end - 1)\n",
    "    \n",
    "    center = (start + end - 2) // 2\n",
    "    centers.append(center)\n",
    "    proteins.append(protein)\n",
    "\n",
    "i = 0\n",
    "while i < len(ticks):\n",
    "    axsub.axvspan(ticks[i], ticks[i + 1], alpha=0.2, color=\"lightgrey\")\n",
    "    i += 4\n",
    "    \n",
    "sns.histplot(\n",
    "    x=\"seed\",\n",
    "    hue=\"miRNA\",\n",
    "    hue_order=labels,\n",
    "    data=plot_df,\n",
    "    stat=\"probability\",\n",
    "    multiple=\"stack\",\n",
    "    bins=100,\n",
    "    binrange=(0, 30330),\n",
    "    alpha=0.6,\n",
    "    ax=axsub\n",
    ")\n",
    "\n",
    "axsub.set_xlim(0, 30330)\n",
    "    \n",
    "axsub.set_xticks(\n",
    "    centers,\n",
    "    labels=proteins,\n",
    "    rotation=45,\n",
    "    ha=\"center\"\n",
    ")\n",
    "\n",
    "axsub.set_xlabel(\"\")\n",
    "\n",
    "ax.set_ylim((0, 0.18))\n",
    "ax.set_yticks(\n",
    "    [i / 100 for i in range(0, 20, 2)],\n",
    "    labels=[\"      \" + str(i) for i in range(0, 20, 2)]\n",
    ")\n",
    "\n",
    "plt.tight_layout()\n",
    "plt.savefig(\"../../pictures/berlin-seed-distribution-omicron2-2-300.png\", dpi=300)\n",
    "plt.savefig(\"../../pictures/berlin-seed-distribution-omicron2-2-300.tiff\", dpi=300)"
   ]
  },
  {
   "cell_type": "code",
   "execution_count": 59,
   "id": "ce469032",
   "metadata": {},
   "outputs": [
    {
     "name": "stderr",
     "output_type": "stream",
     "text": [
      "/usr/local/lib/python3.8/dist-packages/pandas/core/indexing.py:1732: SettingWithCopyWarning: \n",
      "A value is trying to be set on a copy of a slice from a DataFrame\n",
      "\n",
      "See the caveats in the documentation: https://pandas.pydata.org/pandas-docs/stable/user_guide/indexing.html#returning-a-view-versus-a-copy\n",
      "  self._setitem_single_block(indexer, value, name)\n",
      "/usr/local/lib/python3.8/dist-packages/pandas/core/indexing.py:723: SettingWithCopyWarning: \n",
      "A value is trying to be set on a copy of a slice from a DataFrame\n",
      "\n",
      "See the caveats in the documentation: https://pandas.pydata.org/pandas-docs/stable/user_guide/indexing.html#returning-a-view-versus-a-copy\n",
      "  iloc._setitem_with_indexer(indexer, value, self.name)\n"
     ]
    },
    {
     "data": {
      "image/png": "[encoded data removed]",
      "text/plain": [
       "<Figure size 864x288 with 2 Axes>"
      ]
     },
     "metadata": {
      "needs_background": "light"
     },
     "output_type": "display_data"
    }
   ],
   "source": [
    "plot_df = result_df.loc[result_df[\"group\"] == \"second\"]\n",
    "\n",
    "mimats = miRNA_df.sort_values(\n",
    "    by=[\"CPM\"], ascending=False\n",
    ").iloc[:5][\"MIMAT\"].to_list()\n",
    "\n",
    "labels = []\n",
    "plot_df.loc[~plot_df[\"miRNA\"].isin(mimats), \"miRNA\"] = \\\n",
    "    f\"Other miRNAs ({100 * (1 - miRNA_df.loc[mimats]['CPM'].sum() / TOTAL_EXPRESSION):.2f}%)\"\n",
    "for mimat in mimats:\n",
    "    plot_df.loc[plot_df[\"miRNA\"] == mimat, \"miRNA\"] = \\\n",
    "        f\"{miRNA_df.loc[mimat]['miRNA']} ({miRNA_df.loc[mimat]['CPM'] / TOTAL_EXPRESSION * 100:.2f}%)\"\n",
    "    labels.append(f\"{miRNA_df.loc[mimat]['miRNA']} ({miRNA_df.loc[mimat]['CPM'] / TOTAL_EXPRESSION * 100:.2f}%)\")\n",
    "labels.append(f\"Other miRNAs ({100 * (1 - miRNA_df.loc[mimats]['CPM'].sum() / TOTAL_EXPRESSION):.2f}%)\")\n",
    "    \n",
    "fig, ax = plt.subplots(figsize=(12, 4))\n",
    "\n",
    "ax.set_ylabel(\"Number of binding motifs\\nper 100 miRNAs\")\n",
    "ax.set_xlabel('\"Wuhan\" RNA coordinate')\n",
    "ax.set_xlim(0, 30330)\n",
    "\n",
    "annotation = {\n",
    "    \"NSP1\": \"266-805\",\n",
    "    \"NSP2\": \"806-2719\",\n",
    "    \"NSP3\": \"2720-8554\",\n",
    "    \"NSP4\": \"8555-10054\",\n",
    "    \"NSP5\": \"10055-10972\",\n",
    "    # \"NSP6\": \"10973-11842\",\n",
    "    # \"NSP7\": \"11843-12091\",\n",
    "    # \"NSP8\": \"12092-12685\",\n",
    "    \"NSP6-8\": \"10973-12685\",\n",
    "    # \"NSP9\": \"12686-13024\",\n",
    "    # \"NSP10\": \"13025-13441\",\n",
    "    # \"NSP11\": \"13442-13480\",\n",
    "    \"NSP9-11\": \"12686-13480\",\n",
    "    # \"NSP12\": \"13442-13468\",\n",
    "    \"NSP12\": \"13468-16236\",\n",
    "    \"NSP13\": \"16237-18039\",\n",
    "    \"NSP14\": \"18040-19620\",\n",
    "    \"NSP15\": \"19621-20658\",\n",
    "    \"NSP16\": \"20659-21552\",\n",
    "    \"Spike\": \"21563-25384\",\n",
    "    \"NS3\": \"25393-26220\",\n",
    "    \"E\": \"26245-26472\",\n",
    "    \"M\": \"26523-27191\",\n",
    "    # \"NS6\": \"27202-27387\",\n",
    "    # \"NS7a\": \"27394-27759\",\n",
    "    # \"NS7b\": \"27756-27887\",\n",
    "    # \"NS8\": \"27894-28259\",\n",
    "    \"NS6-8\": \"27202-28295\",\n",
    "    \"N, NS9*\": \"28274-29533\",\n",
    "    # \"NS9b\": \"28284-28577\",\n",
    "    # \"NS9c\": \"28734-28955\"\n",
    "}\n",
    "\n",
    "axsub = ax.twiny()\n",
    "axsub.xaxis.set_ticks_position('bottom')\n",
    "axsub.spines['bottom'].set_position(('outward', 36))\n",
    "\n",
    "ticks = []\n",
    "centers = []\n",
    "proteins = []\n",
    "for protein, region in annotation.items():\n",
    "    start, end = map(int, region.split(\"-\"))\n",
    "    ticks.append(start - 1)\n",
    "    ticks.append(end - 1)\n",
    "    \n",
    "    center = (start + end - 2) // 2\n",
    "    centers.append(center)\n",
    "    proteins.append(protein)\n",
    "\n",
    "i = 0\n",
    "while i < len(ticks):\n",
    "    axsub.axvspan(ticks[i], ticks[i + 1], alpha=0.2, color=\"lightgrey\")\n",
    "    i += 4\n",
    "    \n",
    "fg = sns.histplot(\n",
    "    x=\"seed\",\n",
    "    hue=\"miRNA\",\n",
    "    hue_order=labels,\n",
    "    data=plot_df,\n",
    "    stat=\"probability\",\n",
    "    multiple=\"stack\",\n",
    "    bins=100,\n",
    "    alpha=0.6,\n",
    "    binrange=(0, 30330),\n",
    "    ax=axsub\n",
    ")\n",
    "\n",
    "fg.legend([], [], frameon=False)\n",
    "\n",
    "axsub.set_xlim(0, 30330)\n",
    "    \n",
    "axsub.set_xticks(\n",
    "    centers,\n",
    "    labels=proteins,\n",
    "    rotation=45,\n",
    "    ha=\"center\"\n",
    ")\n",
    "\n",
    "axsub.set_xlabel(\"\")\n",
    "\n",
    "ax.set_ylim((0, 0.18))\n",
    "ax.set_yticks(\n",
    "    [i / 100 for i in range(0, 20, 2)],\n",
    "    labels=[\"      \" + str(i) for i in range(0, 20, 2)]\n",
    ")\n",
    "\n",
    "plt.tight_layout()\n",
    "plt.savefig(\"../../pictures/berlin-seed-distribution-omicron-300.png\", dpi=300)\n",
    "plt.savefig(\"../../pictures/berlin-seed-distribution-omicron-300.tiff\", dpi=300)"
   ]
  },
  {
   "cell_type": "code",
   "execution_count": 67,
   "id": "a0170bf6",
   "metadata": {},
   "outputs": [
    {
     "name": "stderr",
     "output_type": "stream",
     "text": [
      "100%|██████████| 715621/715621 [01:37<00:00, 7323.85it/s]\n",
      "100%|██████████| 943980/943980 [02:10<00:00, 7254.00it/s]\n"
     ]
    }
   ],
   "source": [
    "mimats = miRNA_df.sort_values(\n",
    "    by=[\"CPM\"], ascending=False\n",
    ").iloc[:5][\"MIMAT\"].to_list()\n",
    "\n",
    "bin_len = 30330 // 100\n",
    "\n",
    "first_mimat_dct = {\n",
    "    mimat: np.zeros(100, dtype=\"int\") for mimat in mimats\n",
    "}\n",
    "first_mimat_dct[\"other\"] = np.zeros(100, dtype=\"int\")\n",
    "\n",
    "second_mimat_dct = {\n",
    "    mimat: np.zeros(100, dtype=\"int\") for mimat in mimats\n",
    "}\n",
    "second_mimat_dct[\"other\"] = np.zeros(100, dtype=\"int\")\n",
    "\n",
    "\n",
    "for group, mimat_dct in zip([\"first\", \"second\"], [first_mimat_dct, second_mimat_dct]):\n",
    "    df = result_df.loc[\n",
    "        result_df[\"group\"] == group\n",
    "    ]\n",
    "    \n",
    "    for i, row in tqdm.tqdm(df.iterrows(), total=len(df)):\n",
    "        bin_ind = row[\"seed\"] // bin_len\n",
    "        mimat = row[\"miRNA\"]  \n",
    "\n",
    "        if not (mimat in mimats):\n",
    "            mimat = \"other\"\n",
    "\n",
    "        mimat_dct[mimat][bin_ind] += 1"
   ]
  },
  {
   "cell_type": "code",
   "execution_count": 68,
   "id": "383a0cc3",
   "metadata": {},
   "outputs": [
    {
     "name": "stderr",
     "output_type": "stream",
     "text": [
      "100%|██████████| 6/6 [00:00<00:00, 17949.95it/s]\n",
      "100%|██████████| 6/6 [00:00<00:00, 27147.60it/s]\n"
     ]
    }
   ],
   "source": [
    "first_total = 0\n",
    "for mimat in tqdm.tqdm(first_mimat_dct):\n",
    "    first_total += first_mimat_dct[mimat].sum()\n",
    "    \n",
    "second_total = 0\n",
    "for mimat in tqdm.tqdm(second_mimat_dct):\n",
    "    second_total += second_mimat_dct[mimat].sum()"
   ]
  },
  {
   "cell_type": "code",
   "execution_count": 69,
   "id": "d9db534e",
   "metadata": {},
   "outputs": [
    {
     "data": {
      "image/png": "[encoded data removed]",
      "text/plain": [
       "<Figure size 864x288 with 2 Axes>"
      ]
     },
     "metadata": {
      "needs_background": "light"
     },
     "output_type": "display_data"
    }
   ],
   "source": [
    "fig, ax = plt.subplots(figsize=(12, 4))\n",
    "\n",
    "ax.set_ylabel(\"Difference in the number of binding\\nmotifs per 100 miRNAs\")\n",
    "ax.set_xlabel('\"Wuhan\" RNA coordinate')\n",
    "ax.set_xlim(0, 30330)\n",
    "\n",
    "annotation = {\n",
    "    \"NSP1\": \"266-805\",\n",
    "    \"NSP2\": \"806-2719\",\n",
    "    \"NSP3\": \"2720-8554\",\n",
    "    \"NSP4\": \"8555-10054\",\n",
    "    \"NSP5\": \"10055-10972\",\n",
    "    # \"NSP6\": \"10973-11842\",\n",
    "    # \"NSP7\": \"11843-12091\",\n",
    "    # \"NSP8\": \"12092-12685\",\n",
    "    \"NSP6-8\": \"10973-12685\",\n",
    "    # \"NSP9\": \"12686-13024\",\n",
    "    # \"NSP10\": \"13025-13441\",\n",
    "    # \"NSP11\": \"13442-13480\",\n",
    "    \"NSP9-11\": \"12686-13480\",\n",
    "    # \"NSP12\": \"13442-13468\",\n",
    "    \"NSP12\": \"13468-16236\",\n",
    "    \"NSP13\": \"16237-18039\",\n",
    "    \"NSP14\": \"18040-19620\",\n",
    "    \"NSP15\": \"19621-20658\",\n",
    "    \"NSP16\": \"20659-21552\",\n",
    "    \"Spike\": \"21563-25384\",\n",
    "    \"NS3\": \"25393-26220\",\n",
    "    \"E\": \"26245-26472\",\n",
    "    \"M\": \"26523-27191\",\n",
    "    # \"NS6\": \"27202-27387\",\n",
    "    # \"NS7a\": \"27394-27759\",\n",
    "    # \"NS7b\": \"27756-27887\",\n",
    "    # \"NS8\": \"27894-28259\",\n",
    "    \"NS6-8\": \"27202-28295\",\n",
    "    \"N, NS9*\": \"28274-29533\",\n",
    "    # \"NS9b\": \"28284-28577\",\n",
    "    # \"NS9c\": \"28734-28955\"\n",
    "}\n",
    "\n",
    "axsub = ax.twiny()\n",
    "axsub.xaxis.set_ticks_position('bottom')\n",
    "axsub.spines['bottom'].set_position(('outward', 36))\n",
    "\n",
    "ticks = []\n",
    "centers = []\n",
    "proteins = []\n",
    "for protein, region in annotation.items():\n",
    "    start, end = map(int, region.split(\"-\"))\n",
    "    ticks.append(start - 1)\n",
    "    ticks.append(end - 1)\n",
    "    \n",
    "    center = (start + end - 2) // 2\n",
    "    centers.append(center)\n",
    "    proteins.append(protein)\n",
    "\n",
    "i = 0\n",
    "while i < len(ticks):\n",
    "    axsub.axvspan(ticks[i], ticks[i + 1], alpha=0.2, color=\"lightgrey\")\n",
    "    i += 4\n",
    "\n",
    "diff_dct = {}\n",
    "for mimat in mimats + [\"other\"]:\n",
    "    diff_dct[mimat] = (\n",
    "        np.array(first_mimat_dct[mimat]) / first_total * 100 - \\\n",
    "        np.array(second_mimat_dct[mimat]) / second_total * 100\n",
    "    )\n",
    "\n",
    "cp = sns.color_palette()\n",
    "pos_bottom = np.zeros(100, dtype=\"float\")\n",
    "neg_bottom = np.zeros(100, dtype=\"float\")\n",
    "\n",
    "for mimat, color in zip(mimats + [\"other\"], cp):\n",
    "    x = np.array(range(bin_len // 2, 30331, bin_len))\n",
    "    pos_y = np.array(diff_dct[mimat])\n",
    "    pos_y[pos_y < 0] = 0\n",
    "    \n",
    "    neg_y = np.array(diff_dct[mimat])\n",
    "    neg_y[neg_y > 0] = 0\n",
    "    \n",
    "    ax.bar(\n",
    "        x, pos_y,\n",
    "        width=bin_len,\n",
    "        bottom=pos_bottom,\n",
    "        color=color,\n",
    "        edgecolor=\"black\",\n",
    "        alpha=0.6,\n",
    "        linewidth=0.7,\n",
    "        label=mimat\n",
    "    )\n",
    "    pos_bottom += pos_y\n",
    "     \n",
    "    ax.bar(\n",
    "        x, neg_y,\n",
    "        width=bin_len,\n",
    "        bottom=neg_bottom,\n",
    "        color=color,\n",
    "        edgecolor=\"black\",\n",
    "        alpha=0.6,\n",
    "        linewidth=0.7\n",
    "    )\n",
    "    neg_bottom += neg_y\n",
    "\n",
    "ax.set_ylim(-20, 20)\n",
    "ax.set_yscale(\"symlog\", linthresh=0.01)\n",
    "\n",
    "axsub.set_xlim(0, 30330)\n",
    "    \n",
    "axsub.set_xticks(\n",
    "    centers,\n",
    "    labels=proteins,\n",
    "    rotation=45,\n",
    "    ha=\"center\"\n",
    ")\n",
    "\n",
    "handles, labels = ax.get_legend_handles_labels()\n",
    "labels = [\n",
    "    f\"{miRNA_df.loc[mimat]['miRNA']} ({miRNA_df.loc[mimat]['CPM'] / TOTAL_EXPRESSION * 100:.2f}%)\" \\\n",
    "        for mimat in mimats\n",
    "]\n",
    "labels.append(f\"Other miRNAs ({100 * (1 - miRNA_df.loc[mimats]['CPM'].sum() / TOTAL_EXPRESSION):.2f}%)\")\n",
    "# ax.legend(\n",
    "#     title=\"miRNA\",\n",
    "#     handles=handles,\n",
    "#     labels=labels,\n",
    "#     loc=\"lower right\",\n",
    "#     prop={\"size\": 8}\n",
    "# )\n",
    "\n",
    "plt.tight_layout()\n",
    "plt.savefig(\"../../pictures/berlin-seed-distribution-omicron2-2-omicron-diff-300.png\", dpi=300)\n",
    "plt.savefig(\"../../pictures/berlin-seed-distribution-omicron2-2-omicron-diff-300.tiff\", dpi=300)"
   ]
  },
  {
   "cell_type": "markdown",
   "id": "247645e4",
   "metadata": {},
   "source": [
    "# Coding regions contribution"
   ]
  },
  {
   "cell_type": "code",
   "execution_count": 79,
   "id": "6d039bfc",
   "metadata": {},
   "outputs": [],
   "source": [
    "result_df = pd.DataFrame(columns=[\n",
    "    \"region\", \"length\",\n",
    "    \"first weighted\", \"second weighted\", \"third weighted\",\n",
    "    \"first count\", \"second count\", \"third count\",\n",
    "    \"fsp-value\", \"ftp-value\"\n",
    "])\n",
    "\n",
    "for protein in PROTEINS:\n",
    "    if protein == \"RNA\":\n",
    "        length = 29903\n",
    "    else:\n",
    "        length = list(map(int, ANNOTATION[protein].split(\"-\")))\n",
    "        length = length[1] - length[0] + 1\n",
    "    \n",
    "    df = count_df.loc[count_df[\"region\"] == protein]\n",
    "    df.index = df[\"strain\"]\n",
    "    df = df.join(meta_df[[\"group\", \"length\", \"scorpio_call\"]], how=\"left\")\n",
    "    df = df.drop(columns=[\"strain\"]).reset_index()\n",
    "    \n",
    "    first_group = df.loc[df[\"group\"] == \"first\"][[\n",
    "        \"strain\", \"weighted count\", \"count\"\n",
    "    ]].groupby(\"strain\").sum()\n",
    "    second_group = df.loc[\n",
    "        (df[\"group\"] == \"second\") & \\\n",
    "        (df[\"scorpio_call\"] == \"Omicron (BA.2-like)\")\n",
    "    ][[\n",
    "        \"strain\", \"weighted count\", \"count\"\n",
    "    ]].groupby(\"strain\").sum()\n",
    "    \n",
    "    third_group = df.loc[\n",
    "        (df[\"group\"] == \"second\") & \\\n",
    "        (df[\"scorpio_call\"] != \"Omicron (BA.2-like)\")\n",
    "    ][[\n",
    "        \"strain\", \"weighted count\", \"count\"\n",
    "    ]].groupby(\"strain\").sum()\n",
    "    \n",
    "    try:\n",
    "        fsstat, fspv = mannwhitneyu(\n",
    "            first_group[\"weighted count\"],\n",
    "            second_group[\"weighted count\"]\n",
    "        )\n",
    "    except:\n",
    "        fspv = 1\n",
    "    \n",
    "    try:\n",
    "        ftstat, ftpv = mannwhitneyu(\n",
    "            first_group[\"weighted count\"],\n",
    "            third_group[\"weighted count\"]\n",
    "        )\n",
    "    except:\n",
    "        ftpv = 1\n",
    "        \n",
    "    append_df = pd.DataFrame(\n",
    "        columns=result_df.columns.to_list(),\n",
    "        data=[[\n",
    "            protein,\n",
    "            length,\n",
    "            first_group[\"weighted count\"].mean(),\n",
    "            second_group[\"weighted count\"].mean(),\n",
    "            third_group[\"weighted count\"].mean(),\n",
    "            first_group[\"count\"].mean(),\n",
    "            second_group[\"count\"].mean(),\n",
    "            third_group[\"count\"].mean(),\n",
    "            fspv,\n",
    "            ftpv\n",
    "        ]]\n",
    "    )\n",
    "    \n",
    "    result_df = pd.concat([result_df, append_df], ignore_index=True)\n",
    "\n",
    "result_df[\"fsfdr\"] = np.array(result_df[\"fsp-value\"]) * len(result_df) / rankdata(result_df[\"fsp-value\"])\n",
    "result_df[\"ftfdr\"] = np.array(result_df[\"ftp-value\"]) * len(result_df) / rankdata(result_df[\"ftp-value\"])\n",
    "result_df.loc[result_df[\"fsfdr\"] > 1, \"fsfdr\"] = 1\n",
    "result_df.loc[result_df[\"ftfdr\"] > 1, \"ftfdr\"] = 1"
   ]
  },
  {
   "cell_type": "code",
   "execution_count": 80,
   "id": "3fb71aad",
   "metadata": {},
   "outputs": [
    {
     "data": {
      "text/html": [
       "<div>\n",
       "<style scoped>\n",
       "    .dataframe tbody tr th:only-of-type {\n",
       "        vertical-align: middle;\n",
       "    }\n",
       "\n",
       "    .dataframe tbody tr th {\n",
       "        vertical-align: top;\n",
       "    }\n",
       "\n",
       "    .dataframe thead th {\n",
       "        text-align: right;\n",
       "    }\n",
       "</style>\n",
       "<table border=\"1\" class=\"dataframe\">\n",
       "  <thead>\n",
       "    <tr style=\"text-align: right;\">\n",
       "      <th></th>\n",
       "      <th>region</th>\n",
       "      <th>length</th>\n",
       "      <th>first weighted</th>\n",
       "      <th>second weighted</th>\n",
       "      <th>third weighted</th>\n",
       "      <th>first count</th>\n",
       "      <th>second count</th>\n",
       "      <th>third count</th>\n",
       "      <th>fsp-value</th>\n",
       "      <th>ftp-value</th>\n",
       "      <th>fsfdr</th>\n",
       "      <th>ftfdr</th>\n",
       "    </tr>\n",
       "  </thead>\n",
       "  <tbody>\n",
       "    <tr>\n",
       "      <th>17</th>\n",
       "      <td>Spike</td>\n",
       "      <td>3822</td>\n",
       "      <td>0.906925</td>\n",
       "      <td>0.879747</td>\n",
       "      <td>0.881085</td>\n",
       "      <td>55.615021</td>\n",
       "      <td>52.994363</td>\n",
       "      <td>53.031436</td>\n",
       "      <td>0.000000e+00</td>\n",
       "      <td>0.000000e+00</td>\n",
       "      <td>0.000000e+00</td>\n",
       "      <td>0.000000e+00</td>\n",
       "    </tr>\n",
       "    <tr>\n",
       "      <th>29</th>\n",
       "      <td>RNA</td>\n",
       "      <td>29903</td>\n",
       "      <td>7.444063</td>\n",
       "      <td>7.169955</td>\n",
       "      <td>7.407960</td>\n",
       "      <td>386.901833</td>\n",
       "      <td>378.468997</td>\n",
       "      <td>382.823280</td>\n",
       "      <td>0.000000e+00</td>\n",
       "      <td>4.538155e-226</td>\n",
       "      <td>0.000000e+00</td>\n",
       "      <td>6.807233e-225</td>\n",
       "    </tr>\n",
       "    <tr>\n",
       "      <th>15</th>\n",
       "      <td>NSP15</td>\n",
       "      <td>1038</td>\n",
       "      <td>0.130679</td>\n",
       "      <td>0.123335</td>\n",
       "      <td>0.126850</td>\n",
       "      <td>13.982850</td>\n",
       "      <td>11.994363</td>\n",
       "      <td>12.919286</td>\n",
       "      <td>0.000000e+00</td>\n",
       "      <td>1.165773e-218</td>\n",
       "      <td>0.000000e+00</td>\n",
       "      <td>1.165773e-217</td>\n",
       "    </tr>\n",
       "    <tr>\n",
       "      <th>4</th>\n",
       "      <td>NSP4</td>\n",
       "      <td>1500</td>\n",
       "      <td>0.483055</td>\n",
       "      <td>0.249853</td>\n",
       "      <td>0.482121</td>\n",
       "      <td>18.992312</td>\n",
       "      <td>16.049605</td>\n",
       "      <td>18.977060</td>\n",
       "      <td>0.000000e+00</td>\n",
       "      <td>7.139670e-02</td>\n",
       "      <td>0.000000e+00</td>\n",
       "      <td>1.127316e-01</td>\n",
       "    </tr>\n",
       "    <tr>\n",
       "      <th>3</th>\n",
       "      <td>NSP3</td>\n",
       "      <td>5835</td>\n",
       "      <td>0.913042</td>\n",
       "      <td>0.905005</td>\n",
       "      <td>0.912764</td>\n",
       "      <td>65.896511</td>\n",
       "      <td>65.009019</td>\n",
       "      <td>65.926083</td>\n",
       "      <td>0.000000e+00</td>\n",
       "      <td>6.798651e-01</td>\n",
       "      <td>0.000000e+00</td>\n",
       "      <td>7.554056e-01</td>\n",
       "    </tr>\n",
       "    <tr>\n",
       "      <th>6</th>\n",
       "      <td>NSP6</td>\n",
       "      <td>870</td>\n",
       "      <td>0.338332</td>\n",
       "      <td>0.337317</td>\n",
       "      <td>0.339401</td>\n",
       "      <td>17.524542</td>\n",
       "      <td>16.990981</td>\n",
       "      <td>17.454545</td>\n",
       "      <td>1.534992e-142</td>\n",
       "      <td>1.201712e-12</td>\n",
       "      <td>7.674961e-142</td>\n",
       "      <td>6.008562e-12</td>\n",
       "    </tr>\n",
       "  </tbody>\n",
       "</table>\n",
       "</div>"
      ],
      "text/plain": [
       "   region length  first weighted  second weighted  third weighted  \\\n",
       "17  Spike   3822        0.906925         0.879747        0.881085   \n",
       "29    RNA  29903        7.444063         7.169955        7.407960   \n",
       "15  NSP15   1038        0.130679         0.123335        0.126850   \n",
       "4    NSP4   1500        0.483055         0.249853        0.482121   \n",
       "3    NSP3   5835        0.913042         0.905005        0.912764   \n",
       "6    NSP6    870        0.338332         0.337317        0.339401   \n",
       "\n",
       "    first count  second count  third count      fsp-value      ftp-value  \\\n",
       "17    55.615021     52.994363    53.031436   0.000000e+00   0.000000e+00   \n",
       "29   386.901833    378.468997   382.823280   0.000000e+00  4.538155e-226   \n",
       "15    13.982850     11.994363    12.919286   0.000000e+00  1.165773e-218   \n",
       "4     18.992312     16.049605    18.977060   0.000000e+00   7.139670e-02   \n",
       "3     65.896511     65.009019    65.926083   0.000000e+00   6.798651e-01   \n",
       "6     17.524542     16.990981    17.454545  1.534992e-142   1.201712e-12   \n",
       "\n",
       "            fsfdr          ftfdr  \n",
       "17   0.000000e+00   0.000000e+00  \n",
       "29   0.000000e+00  6.807233e-225  \n",
       "15   0.000000e+00  1.165773e-217  \n",
       "4    0.000000e+00   1.127316e-01  \n",
       "3    0.000000e+00   7.554056e-01  \n",
       "6   7.674961e-142   6.008562e-12  "
      ]
     },
     "execution_count": 80,
     "metadata": {},
     "output_type": "execute_result"
    }
   ],
   "source": [
    "result_df.loc[\n",
    "    (result_df[\"fsfdr\"] < 0.05) | \\\n",
    "    (result_df[\"ftfdr\"] < 0.05)\n",
    "].sort_values(by=[\"fsfdr\", \"ftfdr\"], ascending=True)[:6]"
   ]
  },
  {
   "cell_type": "code",
   "execution_count": 81,
   "id": "9f87d96b",
   "metadata": {},
   "outputs": [
    {
     "data": {
      "text/html": [
       "<div>\n",
       "<style scoped>\n",
       "    .dataframe tbody tr th:only-of-type {\n",
       "        vertical-align: middle;\n",
       "    }\n",
       "\n",
       "    .dataframe tbody tr th {\n",
       "        vertical-align: top;\n",
       "    }\n",
       "\n",
       "    .dataframe thead th {\n",
       "        text-align: right;\n",
       "    }\n",
       "</style>\n",
       "<table border=\"1\" class=\"dataframe\">\n",
       "  <thead>\n",
       "    <tr style=\"text-align: right;\">\n",
       "      <th></th>\n",
       "      <th>region</th>\n",
       "      <th>length</th>\n",
       "      <th>first weighted</th>\n",
       "      <th>second weighted</th>\n",
       "      <th>third weighted</th>\n",
       "      <th>first count</th>\n",
       "      <th>second count</th>\n",
       "      <th>third count</th>\n",
       "      <th>fsp-value</th>\n",
       "      <th>ftp-value</th>\n",
       "      <th>fsfdr</th>\n",
       "      <th>ftfdr</th>\n",
       "    </tr>\n",
       "  </thead>\n",
       "  <tbody>\n",
       "    <tr>\n",
       "      <th>17</th>\n",
       "      <td>Spike</td>\n",
       "      <td>3822</td>\n",
       "      <td>0.906925</td>\n",
       "      <td>0.879747</td>\n",
       "      <td>0.881085</td>\n",
       "      <td>55.615021</td>\n",
       "      <td>52.994363</td>\n",
       "      <td>53.031436</td>\n",
       "      <td>0.000000e+00</td>\n",
       "      <td>0.000000e+00</td>\n",
       "      <td>0.000000e+00</td>\n",
       "      <td>0.000000e+00</td>\n",
       "    </tr>\n",
       "    <tr>\n",
       "      <th>29</th>\n",
       "      <td>RNA</td>\n",
       "      <td>29903</td>\n",
       "      <td>7.444063</td>\n",
       "      <td>7.169955</td>\n",
       "      <td>7.407960</td>\n",
       "      <td>386.901833</td>\n",
       "      <td>378.468997</td>\n",
       "      <td>382.823280</td>\n",
       "      <td>0.000000e+00</td>\n",
       "      <td>4.538155e-226</td>\n",
       "      <td>0.000000e+00</td>\n",
       "      <td>6.807233e-225</td>\n",
       "    </tr>\n",
       "    <tr>\n",
       "      <th>15</th>\n",
       "      <td>NSP15</td>\n",
       "      <td>1038</td>\n",
       "      <td>0.130679</td>\n",
       "      <td>0.123335</td>\n",
       "      <td>0.126850</td>\n",
       "      <td>13.982850</td>\n",
       "      <td>11.994363</td>\n",
       "      <td>12.919286</td>\n",
       "      <td>0.000000e+00</td>\n",
       "      <td>1.165773e-218</td>\n",
       "      <td>0.000000e+00</td>\n",
       "      <td>1.165773e-217</td>\n",
       "    </tr>\n",
       "    <tr>\n",
       "      <th>12</th>\n",
       "      <td>NSP12</td>\n",
       "      <td>2769</td>\n",
       "      <td>0.329812</td>\n",
       "      <td>0.327974</td>\n",
       "      <td>0.327768</td>\n",
       "      <td>23.018924</td>\n",
       "      <td>23.000000</td>\n",
       "      <td>22.930331</td>\n",
       "      <td>8.347780e-02</td>\n",
       "      <td>1.166475e-13</td>\n",
       "      <td>1.788810e-01</td>\n",
       "      <td>8.748566e-13</td>\n",
       "    </tr>\n",
       "    <tr>\n",
       "      <th>9</th>\n",
       "      <td>NSP9</td>\n",
       "      <td>339</td>\n",
       "      <td>0.172194</td>\n",
       "      <td>0.171468</td>\n",
       "      <td>0.171330</td>\n",
       "      <td>7.127735</td>\n",
       "      <td>6.992108</td>\n",
       "      <td>6.993203</td>\n",
       "      <td>9.345750e-11</td>\n",
       "      <td>2.186897e-13</td>\n",
       "      <td>3.115250e-10</td>\n",
       "      <td>1.312138e-12</td>\n",
       "    </tr>\n",
       "    <tr>\n",
       "      <th>6</th>\n",
       "      <td>NSP6</td>\n",
       "      <td>870</td>\n",
       "      <td>0.338332</td>\n",
       "      <td>0.337317</td>\n",
       "      <td>0.339401</td>\n",
       "      <td>17.524542</td>\n",
       "      <td>16.990981</td>\n",
       "      <td>17.454545</td>\n",
       "      <td>1.534992e-142</td>\n",
       "      <td>1.201712e-12</td>\n",
       "      <td>7.674961e-142</td>\n",
       "      <td>6.008562e-12</td>\n",
       "    </tr>\n",
       "  </tbody>\n",
       "</table>\n",
       "</div>"
      ],
      "text/plain": [
       "   region length  first weighted  second weighted  third weighted  \\\n",
       "17  Spike   3822        0.906925         0.879747        0.881085   \n",
       "29    RNA  29903        7.444063         7.169955        7.407960   \n",
       "15  NSP15   1038        0.130679         0.123335        0.126850   \n",
       "12  NSP12   2769        0.329812         0.327974        0.327768   \n",
       "9    NSP9    339        0.172194         0.171468        0.171330   \n",
       "6    NSP6    870        0.338332         0.337317        0.339401   \n",
       "\n",
       "    first count  second count  third count      fsp-value      ftp-value  \\\n",
       "17    55.615021     52.994363    53.031436   0.000000e+00   0.000000e+00   \n",
       "29   386.901833    378.468997   382.823280   0.000000e+00  4.538155e-226   \n",
       "15    13.982850     11.994363    12.919286   0.000000e+00  1.165773e-218   \n",
       "12    23.018924     23.000000    22.930331   8.347780e-02   1.166475e-13   \n",
       "9      7.127735      6.992108     6.993203   9.345750e-11   2.186897e-13   \n",
       "6     17.524542     16.990981    17.454545  1.534992e-142   1.201712e-12   \n",
       "\n",
       "            fsfdr          ftfdr  \n",
       "17   0.000000e+00   0.000000e+00  \n",
       "29   0.000000e+00  6.807233e-225  \n",
       "15   0.000000e+00  1.165773e-217  \n",
       "12   1.788810e-01   8.748566e-13  \n",
       "9    3.115250e-10   1.312138e-12  \n",
       "6   7.674961e-142   6.008562e-12  "
      ]
     },
     "execution_count": 81,
     "metadata": {},
     "output_type": "execute_result"
    }
   ],
   "source": [
    "result_df.loc[\n",
    "    (result_df[\"fsfdr\"] < 0.05) | \\\n",
    "    (result_df[\"ftfdr\"] < 0.05)\n",
    "].sort_values(by=[\"ftfdr\", \"fsfdr\"], ascending=True)[:6]"
   ]
  },
  {
   "cell_type": "code",
   "execution_count": 137,
   "id": "7f947eef",
   "metadata": {},
   "outputs": [
    {
     "name": "stdout",
     "output_type": "stream",
     "text": [
      "NSP4 & 1500 & 962 & 464 & 0.0000 & 1 & 0.1127 \\\\\n",
      "\\hline\n",
      "RNA & 29903 & 744 & 27 & 0.0000 & 3 & 0.0000 \\\\\n",
      "\\hline\n",
      "Spike & 3822 & 709 & 21 & 0.0000 & 20 & 0.0000 \\\\\n",
      "\\hline\n",
      "NSP15 & 1038 & 376 & 21 & 0.0000 & 11 & 0.0000 \\\\\n",
      "\\hline\n",
      "NSP9 & 339 & 1518 & 6 & 0.0000 & 7 & 0.0000 \\\\\n",
      "\\hline\n",
      "NSP3 & 5835 & 467 & 4 & 0.0000 & 0 & 0.7554 \\\\\n",
      "\\hline\n",
      "NSP6 & 870 & 1162 & 3 & 0.0000 & -3 & 0.0000 \\\\\n",
      "\\hline\n",
      "NSP12 & 2769 & 356 & 1 & 0.1789 & 2 & 0.0000 \\\\\n",
      "\\hline\n",
      "NSP14 & 1581 & 1781 & 1 & 0.8104 & 2 & 0.0129 \\\\\n",
      "\\hline\n",
      "N & 1260 & 683 & 1 & 0.4540 & -1 & 0.0123 \\\\\n",
      "\\hline\n",
      "NS7a & 366 & 223 & 0 & 0.5782 & 0 & 0.0458 \\\\\n",
      "\\hline\n",
      "NSP13 & 1803 & 1659 & 0 & 0.0000 & 0 & 0.0000 \\\\\n",
      "\\hline\n",
      "NS9b & 294 & 444 & 0 & 0.9704 & -4 & 0.0040 \\\\\n",
      "\\hline\n",
      "E & 228 & 2338 & -2 & 0.1030 & -2 & 0.0486 \\\\\n",
      "\\hline\n",
      "NSP2 & 1914 & 455 & -5 & 0.3511 & 3 & 0.0015 \\\\\n",
      "\\hline\n",
      "NS9c & 222 & 2474 & -5 & 0.1000 & -7 & 0.0166 \\\\\n",
      "\\hline\n",
      "NS3 & 828 & 243 & -5 & 0.0000 & 0 & 0.0002 \\\\\n",
      "\\hline\n",
      "NSP1 & 540 & 498 & -7 & 0.0000 & -4 & 0.0001 \\\\\n",
      "\\hline\n",
      "3P & 370 & 188 & -9 & 0.0000 & 0 & 0.9165 \\\\\n",
      "\\hline\n"
     ]
    }
   ],
   "source": [
    "print_df = result_df.copy()\n",
    "print_df[\"first weighted\"] = print_df[\"first weighted\"] * 29903 / print_df[\"length\"]\n",
    "print_df[\"second weighted\"] = print_df[\"second weighted\"] * 29903 / print_df[\"length\"]\n",
    "print_df[\"third weighted\"] = print_df[\"third weighted\"] * 29903 / print_df[\"length\"]\n",
    "\n",
    "print_df = print_df[[\n",
    "    \"region\", \"length\",\n",
    "    \"first weighted\",\n",
    "    \"second weighted\", \"fsfdr\",\n",
    "    \"third weighted\", \"ftfdr\"\n",
    "]]\n",
    "\n",
    "print_df[\"first weighted\"] *= 100\n",
    "print_df[\"second weighted\"] *= 100\n",
    "print_df[\"third weighted\"] *= 100\n",
    "print_df[\"second weighted\"] = print_df[\"first weighted\"] - print_df[\"second weighted\"]\n",
    "print_df[\"third weighted\"] = print_df[\"first weighted\"] - print_df[\"third weighted\"]\n",
    "\n",
    "print_df = print_df.loc[\n",
    "    (print_df[\"fsfdr\"] < 0.05) | \\\n",
    "    (print_df[\"ftfdr\"] < 0.05)\n",
    "].sort_values(by=[\"second weighted\", \"third weighted\"], ascending=False)\n",
    "\n",
    "for i, row in print_df.iterrows():\n",
    "    for column in print_df.columns:\n",
    "        if \"fdr\" in column:\n",
    "            print(f\"& {float(row[column]):.4f} \", end=\"\")\n",
    "        elif column not in [\"region\", \"length\"]:\n",
    "            #print(f\"& {float(row[column]):.2f} \", end=\"\")\n",
    "            print(f\"& {int(row[column])} \", end=\"\")\n",
    "        elif column == \"region\":\n",
    "            print(f\"{row[column]} \", end=\"\")\n",
    "        else:\n",
    "            print(f\"& {row[column]} \", end=\"\")\n",
    "    print(\"\\\\\\\\\")\n",
    "    print(\"\\\\hline\")"
   ]
  },
  {
   "cell_type": "code",
   "execution_count": 105,
   "id": "f35104cf",
   "metadata": {},
   "outputs": [
    {
     "name": "stdout",
     "output_type": "stream",
     "text": [
      "   region length  first weighted  second weighted            fdr\n",
      "15  NSP15   1038       13.067929        12.533949   0.000000e+00\n",
      "17  Spike   3822       90.692454        88.051023   0.000000e+00\n",
      "29    RNA  30331      744.406291       730.567802   0.000000e+00\n",
      "4    NSP4   1500       48.305543        38.230427  1.426694e-198\n",
      "3    NSP3   5835       91.304234        90.942994   2.934366e-98\n",
      "18    NS3    828        6.742484         6.829008   1.858597e-21\n",
      "9    NSP9    339       17.219443        17.138935   2.192961e-20\n",
      "6    NSP6    870       33.833226        33.850516   2.387790e-16\n",
      "12  NSP12   2769       32.981168        32.785640   1.534167e-09\n",
      "28     3P    798        2.338013         2.386886   1.208182e-08\n",
      "19      E    228       17.831818        17.848223   1.088014e-02\n",
      "27   NS9c    222       18.367628        18.418387   1.179914e-02\n",
      "0      5P    265        0.009916         0.002703   3.269250e-02\n",
      "26   NS9b    294        4.368368         4.394266   3.965955e-02\n"
     ]
    }
   ],
   "source": [
    "print_df = result_df.drop(columns=[\"first count\", \"second count\", \"p-value\"])\n",
    "print_df[\"first weighted\"] *= 100\n",
    "print_df[\"second weighted\"] *= 100\n",
    "print_df = print_df.loc[print_df[\"fdr\"] < 0.05].sort_values(\n",
    "    by=[\"fdr\"]\n",
    ")\n",
    "print(print_df)"
   ]
  },
  {
   "cell_type": "code",
   "execution_count": 106,
   "id": "c046c7bf",
   "metadata": {},
   "outputs": [
    {
     "data": {
      "text/plain": [
       "first weighted     7.671380\n",
       "second weighted    7.533805\n",
       "dtype: float64"
      ]
     },
     "execution_count": 106,
     "metadata": {},
     "output_type": "execute_result"
    }
   ],
   "source": [
    "result_df.loc[result_df[\"region\"] != \"RNA\"][[\"first weighted\", \"second weighted\"]].sum()"
   ]
  },
  {
   "cell_type": "code",
   "execution_count": 107,
   "id": "185ef0c9",
   "metadata": {},
   "outputs": [
    {
     "data": {
      "text/plain": [
       "first count     386.901833\n",
       "second count    380.952035\n",
       "dtype: float64"
      ]
     },
     "execution_count": 107,
     "metadata": {},
     "output_type": "execute_result"
    }
   ],
   "source": [
    "result_df.loc[result_df[\"region\"] == \"RNA\"][[\"first count\", \"second count\"]].sum()"
   ]
  },
  {
   "cell_type": "code",
   "execution_count": 108,
   "id": "aecc06ab",
   "metadata": {},
   "outputs": [
    {
     "data": {
      "image/png": "[encoded data removed]",
      "text/plain": [
       "<Figure size 432x288 with 1 Axes>"
      ]
     },
     "metadata": {
      "needs_background": "light"
     },
     "output_type": "display_data"
    }
   ],
   "source": [
    "plot_df = result_df.copy()\n",
    "\n",
    "plot_df[\"difference\"] = (plot_df[\"second weighted\"] - plot_df[\"first weighted\"]) * 100\n",
    "plot_df[\"fdr\"] = np.array(plot_df[\"p-value\"]) * len(plot_df) / rankdata(plot_df[\"p-value\"])\n",
    "\n",
    "plot_df[\"Значимость региона\"] = \"Не значим\"\n",
    "plot_df.loc[plot_df[\"fdr\"] < 0.05, \"Значимость региона\"] = \"Значим\"\n",
    "\n",
    "top = mpl.colormaps['Blues_r']\n",
    "bottom = mpl.colormaps['Oranges']\n",
    "colors = np.vstack((\n",
    "    top(np.linspace(0.3, 1, 1)),\n",
    "    bottom(np.linspace(0.55, 1, 1))\n",
    "))\n",
    "cmap = ListedColormap(colors, name='OrangeBlue')\n",
    "\n",
    "ax = sns.barplot(\n",
    "    x=\"region\",\n",
    "    y=\"difference\",\n",
    "    hue=\"Значимость региона\",\n",
    "    hue_order=[\"Значим\", \"Не значим\"],\n",
    "    data=plot_df.loc[np.abs(plot_df[\"difference\"]) > 0.1],\n",
    "    palette=cmap.colors,\n",
    "    dodge=False\n",
    ")\n",
    "\n",
    "plt.xlabel(\"Кодирующий регион Wuhan варианта\")\n",
    "plt.ylabel(\"Разность средних количеств\\nрегинов связывания\")\n",
    "ax.set_axisbelow(True)\n",
    "plt.grid(alpha=0.3)\n",
    "plt.xticks(\n",
    "    rotation=45,\n",
    "    ha=\"center\"\n",
    ")\n",
    "plt.tight_layout()\n",
    "# plt.savefig(\"../../pictures/mRNA-contribution.png\", dpi=500)"
   ]
  }
 ],
 "metadata": {
  "kernelspec": {
   "display_name": "Python 3",
   "language": "python",
   "name": "python3"
  },
  "language_info": {
   "codemirror_mode": {
    "name": "ipython",
    "version": 3
   },
   "file_extension": ".py",
   "mimetype": "text/x-python",
   "name": "python",
   "nbconvert_exporter": "python",
   "pygments_lexer": "ipython3",
   "version": "3.8.9"
  }
 },
 "nbformat": 4,
 "nbformat_minor": 5
}
